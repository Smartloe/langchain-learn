{
 "cells": [
  {
   "metadata": {},
   "cell_type": "markdown",
   "source": "# 1、大模型调用示例",
   "id": "51da8f523eda2414"
  },
  {
   "metadata": {
    "ExecuteTime": {
     "end_time": "2025-09-25T16:34:25.647148Z",
     "start_time": "2025-09-25T16:34:22.897586Z"
    }
   },
   "cell_type": "code",
   "source": [
    "#导入 dotenv 库的 load_dotenv 函数，用于加载环境变量文件（.env）中的配置\n",
    "import dotenv\n",
    "from langchain_openai import ChatOpenAI\n",
    "import os\n",
    "\n",
    "# dotenv.load_dotenv() #加载当前目录下的 .env 文件\n",
    "dotenv.load_dotenv('../.env')  # 加载上一层的 .env 文件\n",
    "os.environ['OPENAI_API_KEY'] = os.getenv(\"OPENAI_API_KEY1\")\n",
    "os.environ['OPENAI_BASE_URL'] = os.getenv(\"OPENAI_BASE_URL\")\n",
    "# 创建大模型实例\n",
    "llm = ChatOpenAI(model=\"gpt-4o-mini\")  # 默认使用 gpt-3.5-turbo\n",
    "# 直接提供问题，并调用llm\n",
    "response = llm.invoke(\"什么是大模型？\")\n",
    "print(response)"
   ],
   "id": "e861873df7c166c5",
   "outputs": [
    {
     "name": "stdout",
     "output_type": "stream",
     "text": [
      "content='“大模型”通常是指拥有大量参数和复杂结构的深度学习模型，特别是在自然语言处理、计算机视觉等领域中的预训练模型。这些模型能够处理和生成高维数据，并在各种任务中展现出强大的性能。\\n\\n大模型的特点包括：\\n\\n1. **参数规模大**：通常包含亿级甚至百亿级的参数，允许模型捕捉更复杂的特征和模式。\\n\\n2. **预训练与微调**：大模型通常在大规模数据集上进行预训练，然后可以通过微调（fine-tuning）适应特定任务。\\n\\n3. **通用性强**：大模型可以在多个任务中进行迁移学习，适应不同的应用场景，比如文本生成、翻译、问答等。\\n\\n4. **计算资源需求高**：训练和推理过程通常需要高性能的计算资源，尤其是GPU或TPU。\\n\\n典型的大模型例子包括OpenAI的GPT系列、Google的BERT、T5，和Vision Transformer（ViT）等。这些模型在各自的领域内取得了显著的进展，并推动了人工智能的研究和应用。' additional_kwargs={'refusal': None} response_metadata={'token_usage': {'completion_tokens': 255, 'prompt_tokens': 12, 'total_tokens': 267, 'completion_tokens_details': {'accepted_prediction_tokens': 0, 'audio_tokens': 0, 'reasoning_tokens': 0, 'rejected_prediction_tokens': 0}, 'prompt_tokens_details': {'audio_tokens': 0, 'cached_tokens': 0}}, 'model_name': 'gpt-4o-mini-2024-07-18', 'system_fingerprint': 'fp_efad92c60b', 'id': 'chatcmpl-CJjDDvy0KK4ECqaN1x2vU5o3RWHBt', 'service_tier': None, 'finish_reason': 'stop', 'logprobs': None} id='run--40986779-d091-4011-ac5c-950732cb9dc2-0' usage_metadata={'input_tokens': 12, 'output_tokens': 255, 'total_tokens': 267, 'input_token_details': {'audio': 0, 'cache_read': 0}, 'output_token_details': {'audio': 0, 'reasoning': 0}}\n"
     ]
    }
   ],
   "execution_count": 7
  },
  {
   "metadata": {},
   "cell_type": "markdown",
   "source": "# 2、使用提示词模板",
   "id": "4570fa0a099f5105"
  },
  {
   "metadata": {
    "ExecuteTime": {
     "end_time": "2025-09-25T16:42:14.014740Z",
     "start_time": "2025-09-25T16:42:09.125481Z"
    }
   },
   "cell_type": "code",
   "source": [
    "from langchain_core.prompts import ChatPromptTemplate\n",
    "\n",
    "# 需要注意的一点是，这里需要指明具体的role，在这里是system和用户\n",
    "prompt = ChatPromptTemplate.from_messages([\n",
    "\t(\"system\", \"你是世界级的技术文档编写者\"),\n",
    "\t(\"user\", \"{input}\")  # {input}为变量\n",
    "])\n",
    "# 我们可以把prompt和具体llm的调用和在一起。\n",
    "chain = prompt | llm\n",
    "message = chain.invoke({\"input\": \"大模型中的LangChain是什么?\"})\n",
    "print(message)\n",
    "print(type(message))"
   ],
   "id": "cbed9d4544e70ca3",
   "outputs": [
    {
     "name": "stdout",
     "output_type": "stream",
     "text": [
      "content='LangChain 是一个用于构建基于语言模型的应用程序的框架。它特别设计用于与大型语言模型（如 OpenAI 的 GPT 系列、Google 的 BERT 等）进行交互，以便开发者可以更加灵活且高效地利用这些模型。LangChain 提供了一系列工具和接口，帮助开发者处理与语言模型相关的任务，比如自然语言处理（NLP）、对话系统、文本生成等。\\n\\nLangChain 的主要特点包括：\\n\\n1. **模块化设计**：LangChain 提供了许多模块，开发者可以根据需求选择合适的模块集成到自己的应用中，例如文本处理、链式调用等。\\n\\n2. **链式调用**：通过组合多个组件，LangChain 允许开发者创建一个处理管道（pipeline），每个组件在管道中都有特定的功能。这种灵活的设计使得复杂任务的实现变得更加简单。\\n\\n3. **上下文管理**：LangChain 可以有效管理和利用上下文信息，从而提高生成文本的相关性和连贯性。\\n\\n4. **集成外部数据**：它可以与外部数据源（如数据库、API等）集成，以增强生成的内容的丰富性和实用性。\\n\\n5. **适配不同的模型**：LangChain支持多种预训练的语言模型，并且可以方便地切换不同的模型以满足具体需求。\\n\\n6. **易用性**：LangChain 通过简洁的编程接口和丰富的示例，降低了使用大型语言模型的门槛，使得从业者可以更专注于商业逻辑而非底层实现细节。\\n\\n通过使用 LangChain，开发者能够更快地构建出强大且灵活的语言模型驱动的应用，从而推动人工智能在各个领域的应用和发展。' additional_kwargs={'refusal': None} response_metadata={'token_usage': {'completion_tokens': 402, 'prompt_tokens': 29, 'total_tokens': 431, 'completion_tokens_details': {'accepted_prediction_tokens': 0, 'audio_tokens': 0, 'reasoning_tokens': 0, 'rejected_prediction_tokens': 0}, 'prompt_tokens_details': {'audio_tokens': 0, 'cached_tokens': 0}}, 'model_name': 'gpt-4o-mini-2024-07-18', 'system_fingerprint': 'fp_efad92c60b', 'id': 'chatcmpl-CJjKjiBc3bHZ5ldIMchROXu2hnF3V', 'service_tier': None, 'finish_reason': 'stop', 'logprobs': None} id='run--9b315713-529e-49a2-99b3-578b06b96732-0' usage_metadata={'input_tokens': 29, 'output_tokens': 402, 'total_tokens': 431, 'input_token_details': {'audio': 0, 'cache_read': 0}, 'output_token_details': {'audio': 0, 'reasoning': 0}}\n",
      "<class 'langchain_core.messages.ai.AIMessage'>\n"
     ]
    }
   ],
   "execution_count": 8
  },
  {
   "metadata": {},
   "cell_type": "markdown",
   "source": "# 3、使用输出解析器",
   "id": "83e496c7863801b3"
  },
  {
   "metadata": {
    "ExecuteTime": {
     "end_time": "2025-09-25T16:51:43.391763Z",
     "start_time": "2025-09-25T16:51:38.497987Z"
    }
   },
   "cell_type": "code",
   "source": [
    "from langchain_openai import ChatOpenAI\n",
    "from langchain_core.prompts import ChatPromptTemplate\n",
    "from langchain_core.output_parsers import StrOutputParser, JsonOutputParser\n",
    "\n",
    "# 初始化模型\n",
    "llm = ChatOpenAI(model=\"gpt-4o-mini\")\n",
    "# 创建提示模板\n",
    "prompt = ChatPromptTemplate.from_messages([\n",
    "\t(\"system\", \"你是世界著名的职业规划大师\"),\n",
    "\t(\"user\", \"{input}\")\n",
    "])\n",
    "# 使用输出解析器\n",
    "# output_parser = StrOutputParser()\n",
    "output_parser = JsonOutputParser()\n",
    "# 将其添加到上一个链中\n",
    "# chain = prompt | llm\n",
    "chain = prompt | llm | output_parser\n",
    "# 调用它并提出同样的问题。答案是一个字符串，而不是ChatMessage\n",
    "# chain.invoke({\"input\": \"LangChain是什么?\"})\n",
    "chain.invoke({\n",
    "\t             \"input\": \"我在新零售行业的前置仓工作了1年，现在已经离职！想换一份工作，请问如何择业？ 用JSON格式回复，问题用question，回答用answer\"})"
   ],
   "id": "56e10d934a835673",
   "outputs": [
    {
     "data": {
      "text/plain": [
       "{'question': '如何在新零售行业的前置仓工作了一年后择业？',\n",
       " 'answer': {'1': {'title': '自我评估',\n",
       "   'content': '评估自身的兴趣、技能和职业价值观，明确自己希望在哪个领域发展。'},\n",
       "  '2': {'title': '行业研究', 'content': '深入了解新零售行业的发展趋势和未来机会，尤其是与前置仓相关的技能和岗位。'},\n",
       "  '3': {'title': '职业目标设定', 'content': '设定清晰的职业目标，考虑是否希望继续在新零售行业，还是希望转向其他行业。'},\n",
       "  '4': {'title': '技能提升', 'content': '根据目标岗位的要求，提升相关技能，可以考虑参加培训课程或在线学习。'},\n",
       "  '5': {'title': '网络拓展', 'content': '积极参加行业活动和网络聚会，扩展专业人脉，获取更多职位信息和推荐。'},\n",
       "  '6': {'title': '更新简历', 'content': '根据目标岗位修改简历，突出与新零售和前置仓相关的经验和成就。'},\n",
       "  '7': {'title': '积极求职', 'content': '在招聘网站、社交网络和公司官网主动申请职位，同时也可以利用人脉推荐。'},\n",
       "  '8': {'title': '面试准备', 'content': '准备常见的面试问题，练习自我介绍和回答问题，展示个人优势和职业规划。'}}}"
      ]
     },
     "execution_count": 9,
     "metadata": {},
     "output_type": "execute_result"
    }
   ],
   "execution_count": 9
  },
  {
   "metadata": {},
   "cell_type": "markdown",
   "source": "# 4、使用向量存储",
   "id": "e32f0d87b895ec9e"
  },
  {
   "metadata": {
    "ExecuteTime": {
     "end_time": "2025-09-25T17:16:05.311456Z",
     "start_time": "2025-09-25T17:15:58.759667Z"
    }
   },
   "cell_type": "code",
   "source": [
    "# 导入和使用 WebBaseLoader\n",
    "from langchain_community.document_loaders import WebBaseLoader\n",
    "import bs4\n",
    "\n",
    "loader = WebBaseLoader(\n",
    "\tweb_path=\"https://www.gov.cn/xinwen/2020-06/01/content_5516649.htm\",\n",
    "\tbs_kwargs=dict(parse_only=bs4.SoupStrainer(id=\"UCAP-CONTENT\"))\n",
    ")\n",
    "docs = loader.load()\n",
    "# print(docs)\n",
    "# 对于嵌入模型，这里通过 API调用\n",
    "from langchain_openai import OpenAIEmbeddings\n",
    "\n",
    "embeddings = OpenAIEmbeddings(model=\"text-embedding-ada-002\")\n",
    "from langchain_community.vectorstores import FAISS\n",
    "from langchain_text_splitters import RecursiveCharacterTextSplitter\n",
    "\n",
    "# 使用分割器分割文档\n",
    "text_splitter = RecursiveCharacterTextSplitter(chunk_size=500, chunk_overlap=50)\n",
    "documents = text_splitter.split_documents(docs)\n",
    "print(len(documents))\n",
    "# 向量存储 embeddings 会将 documents 中的每个文本片段转换为向量，并将这些向量存储在 FAISS向量数据库中\n",
    "vector = FAISS.from_documents(documents, embeddings)"
   ],
   "id": "4e1e8fe808aa61f3",
   "outputs": [
    {
     "name": "stdout",
     "output_type": "stream",
     "text": [
      "248\n"
     ]
    },
    {
     "name": "stderr",
     "output_type": "stream",
     "text": [
      "INFO:httpx:HTTP Request: POST https://api.openai-proxy.org/v1/embeddings \"HTTP/1.1 200 OK\"\n"
     ]
    }
   ],
   "execution_count": 12
  },
  {
   "metadata": {},
   "cell_type": "markdown",
   "source": "# 5、RAG(检索增强生成)",
   "id": "65fb1013a06f5839"
  },
  {
   "metadata": {
    "ExecuteTime": {
     "end_time": "2025-09-25T17:19:53.692985Z",
     "start_time": "2025-09-25T17:19:50.610242Z"
    }
   },
   "cell_type": "code",
   "source": [
    "from langchain_core.prompts import PromptTemplate\n",
    "retriever = vector.as_retriever()\n",
    "retriever.search_kwargs = {\"k\": 3}\n",
    "docs = retriever.invoke(\"建设用地使用权是什么？\")\n",
    "# for i,doc in enumerate(docs):\n",
    "# print(f\"⭐第{i+1}条规定：\")\n",
    "# print(doc)\n",
    "# 6.定义提示词模版\n",
    "prompt_template = \"\"\"\n",
    "你是一个问答机器人。\n",
    "你的任务是根据下述给定的已知信息回答用户问题。\n",
    "确保你的回复完全依据下述已知信息。不要编造答案。\n",
    "如果下述已知信息不足以回答用户的问题，请直接回复\"我无法回答您的问题\"。\n",
    "已知信息:\n",
    "{info}\n",
    "用户问：\n",
    "{question}\n",
    "请用中文回答用户问题。\n",
    "\"\"\"\n",
    "# 7.得到提示词模版对象\n",
    "template = PromptTemplate.from_template(prompt_template)\n",
    "# 8.得到提示词对象\n",
    "prompt = template.format(info=docs, question='建设用地使用权是什么？')\n",
    "# 9. 调用LLM\n",
    "response = llm.invoke(prompt)\n",
    "print(response.content)"
   ],
   "id": "4f0c3fb4680835b1",
   "outputs": [
    {
     "name": "stderr",
     "output_type": "stream",
     "text": [
      "INFO:httpx:HTTP Request: POST https://api.openai-proxy.org/v1/embeddings \"HTTP/1.1 200 OK\"\n",
      "INFO:httpx:HTTP Request: POST https://api.openai-proxy.org/v1/chat/completions \"HTTP/1.1 200 OK\"\n"
     ]
    },
    {
     "name": "stdout",
     "output_type": "stream",
     "text": [
      "建设用地使用权是指在特定土地上进行建设的权利，可以在土地的地表、地上或者地下设立。该使用权的设立应当符合节约资源、保护生态环境的要求，遵守法律、行政法规关于土地用途的规定，并不得损害已设立的用益物权。建设用地使用权可以通过出让或划拨等方式设立，并需要进行登记以获得权属证书。建设用地使用权人有权合理利用土地，并且在一定条件下可以转让、互换、出资、赠与或抵押该权利。\n"
     ]
    }
   ],
   "execution_count": 13
  },
  {
   "metadata": {},
   "cell_type": "markdown",
   "source": "# 6、使用Agent",
   "id": "cbd22af1356032ee"
  },
  {
   "metadata": {
    "ExecuteTime": {
     "end_time": "2025-09-25T17:25:13.317505Z",
     "start_time": "2025-09-25T17:25:06.993212Z"
    }
   },
   "cell_type": "code",
   "source": [
    "from langchain.tools.retriever import create_retriever_tool\n",
    "# 检索器工具\n",
    "retriever_tool = create_retriever_tool(\n",
    "retriever,\n",
    "\"CivilCodeRetriever\",\n",
    "\"搜索有关中华人民共和国民法典的信息。关于中华人民共和国民法典的任何问题，您必须使用此工具!\",\n",
    ")\n",
    "tools = [retriever_tool]\n",
    "from langchain import hub\n",
    "from langchain.agents import create_openai_functions_agent\n",
    "from langchain.agents import AgentExecutor\n",
    "# https://smith.langchain.com/hub\n",
    "prompt = hub.pull(\"hwchase17/openai-functions-agent\")\n",
    "agent = create_openai_functions_agent(llm, tools, prompt)\n",
    "agent_executor = AgentExecutor(agent=agent, tools=tools, verbose=True)\n",
    "# 运行代理\n",
    "agent_executor.invoke({\"input\": \"建设用地使用权是什么\"})"
   ],
   "id": "3c5b6189f953b62c",
   "outputs": [
    {
     "name": "stdout",
     "output_type": "stream",
     "text": [
      "\n",
      "\n",
      "\u001B[1m> Entering new AgentExecutor chain...\u001B[0m\n"
     ]
    },
    {
     "name": "stderr",
     "output_type": "stream",
     "text": [
      "INFO:httpx:HTTP Request: POST https://api.openai-proxy.org/v1/chat/completions \"HTTP/1.1 200 OK\"\n"
     ]
    },
    {
     "name": "stdout",
     "output_type": "stream",
     "text": [
      "\u001B[32;1m\u001B[1;3m\n",
      "Invoking: `CivilCodeRetriever` with `{'query': '建设用地使用权'}`\n",
      "\n",
      "\n",
      "\u001B[0m"
     ]
    },
    {
     "name": "stderr",
     "output_type": "stream",
     "text": [
      "INFO:httpx:HTTP Request: POST https://api.openai-proxy.org/v1/embeddings \"HTTP/1.1 200 OK\"\n"
     ]
    },
    {
     "name": "stdout",
     "output_type": "stream",
     "text": [
      "\u001B[36;1m\u001B[1;3m第三百四十五条　建设用地使用权可以在土地的地表、地上或者地下分别设立。\n",
      "第三百四十六条　设立建设用地使用权，应当符合节约资源、保护生态环境的要求，遵守法律、行政法规关于土地用途的规定，不得损害已经设立的用益物权。\n",
      "第三百四十七条　设立建设用地使用权，可以采取出让或者划拨等方式。\n",
      "工业、商业、旅游、娱乐和商品住宅等经营性用地以及同一土地有两个以上意向用地者的，应当采取招标、拍卖等公开竞价的方式出让。\n",
      "严格限制以划拨方式设立建设用地使用权。\n",
      "第三百四十八条　通过招标、拍卖、协议等出让方式设立建设用地使用权的，当事人应当采用书面形式订立建设用地使用权出让合同。\n",
      "建设用地使用权出让合同一般包括下列条款：\n",
      "（一）当事人的名称和住所；\n",
      "（二）土地界址、面积等；\n",
      "（三）建筑物、构筑物及其附属设施占用的空间；\n",
      "（四）土地用途、规划条件；\n",
      "（五）建设用地使用权期限；\n",
      "（六）出让金等费用及其支付方式；\n",
      "（七）解决争议的方法。\n",
      "第三百四十九条　设立建设用地使用权的，应当向登记机构申请建设用地使用权登记。建设用地使用权自登记时设立。登记机构应当向建设用地使用权人发放权属证书。\n",
      "\n",
      "第三百五十条　建设用地使用权人应当合理利用土地，不得改变土地用途；需要改变土地用途的，应当依法经有关行政主管部门批准。\n",
      "第三百五十一条　建设用地使用权人应当依照法律规定以及合同约定支付出让金等费用。\n",
      "第三百五十二条　建设用地使用权人建造的建筑物、构筑物及其附属设施的所有权属于建设用地使用权人，但是有相反证据证明的除外。\n",
      "第三百五十三条　建设用地使用权人有权将建设用地使用权转让、互换、出资、赠与或者抵押，但是法律另有规定的除外。\n",
      "第三百五十四条　建设用地使用权转让、互换、出资、赠与或者抵押的，当事人应当采用书面形式订立相应的合同。使用期限由当事人约定，但是不得超过建设用地使用权的剩余期限。\n",
      "第三百五十五条　建设用地使用权转让、互换、出资或者赠与的，应当向登记机构申请变更登记。\n",
      "第三百五十六条　建设用地使用权转让、互换、出资或者赠与的，附着于该土地上的建筑物、构筑物及其附属设施一并处分。\n",
      "第三百五十七条　建筑物、构筑物及其附属设施转让、互换、出资或者赠与的，该建筑物、构筑物及其附属设施占用范围内的建设用地使用权一并处分。\n",
      "\n",
      "第三百五十八条　建设用地使用权期限届满前，因公共利益需要提前收回该土地的，应当依据本法第二百四十三条的规定对该土地上的房屋以及其他不动产给予补偿，并退还相应的出让金。\n",
      "第三百五十九条　住宅建设用地使用权期限届满的，自动续期。续期费用的缴纳或者减免，依照法律、行政法规的规定办理。\n",
      "非住宅建设用地使用权期限届满后的续期，依照法律规定办理。该土地上的房屋以及其他不动产的归属，有约定的，按照约定；没有约定或者约定不明确的，依照法律、行政法规的规定办理。\n",
      "第三百六十条　建设用地使用权消灭的，出让人应当及时办理注销登记。登记机构应当收回权属证书。\n",
      "第三百六十一条　集体所有的土地作为建设用地的，应当依照土地管理的法律规定办理。\n",
      "第十三章　宅基地使用权\n",
      "第三百六十二条　宅基地使用权人依法对集体所有的土地享有占有和使用的权利，有权依法利用该土地建造住宅及其附属设施。\n",
      "第三百六十三条　宅基地使用权的取得、行使和转让，适用土地管理的法律和国家有关规定。\n",
      "第三百六十四条　宅基地因自然灾害等原因灭失的，宅基地使用权消灭。对失去宅基地的村民，应当依法重新分配宅基地。\u001B[0m"
     ]
    },
    {
     "name": "stderr",
     "output_type": "stream",
     "text": [
      "INFO:httpx:HTTP Request: POST https://api.openai-proxy.org/v1/chat/completions \"HTTP/1.1 200 OK\"\n"
     ]
    },
    {
     "name": "stdout",
     "output_type": "stream",
     "text": [
      "\u001B[32;1m\u001B[1;3m建设用地使用权是指在特定地块上，依法享有建设和使用的权利。根据《中华人民共和国民法典》，建设用地使用权的相关规定主要包括：\n",
      "\n",
      "1. **设立方式**：建设用地使用权可以通过出让或划拨的方式设立。对于经营性用地（如工业、商业、住宅等），通常采用招标、拍卖等公开竞价方式出让，而划拨方式受到严格限制。\n",
      "\n",
      "2. **合同内容**：出让建设用地使用权时，需签订书面合同，合同应包括当事人的信息、土地的界址与面积、用途、规划条件、使用权期限、出让金等费用及支付方式、争议解决方法等条款。\n",
      "\n",
      "3. **登记要求**：建设用地使用权需要向登记机构申请登记，只有登记后，使用权才正式设立，并会发放权属证书。\n",
      "\n",
      "4. **土地用途**：建设用地使用权人应合理利用土地，未经相关行政主管部门批准，不得擅自改变土地用途。\n",
      "\n",
      "5. **权利转让**：建设用地使用权人有权对该权利进行转让、出资、赠与等，但需要使用书面形式订订合同，且转让的期限不得超过剩余的使用权期限。\n",
      "\n",
      "6. **续期与终止**：住宅建设用地使用权在期限届满后自动续期，而非住宅用地续期则需按照法律规定处理。\n",
      "\n",
      "7. **公共利益的征收**：若因公共利益需要提前收回土地，国家需依法给予相应的补偿。\n",
      "\n",
      "以上是建设用地使用权的一些基本特点和法定要求。\u001B[0m\n",
      "\n",
      "\u001B[1m> Finished chain.\u001B[0m\n"
     ]
    },
    {
     "data": {
      "text/plain": [
       "{'input': '建设用地使用权是什么',\n",
       " 'output': '建设用地使用权是指在特定地块上，依法享有建设和使用的权利。根据《中华人民共和国民法典》，建设用地使用权的相关规定主要包括：\\n\\n1. **设立方式**：建设用地使用权可以通过出让或划拨的方式设立。对于经营性用地（如工业、商业、住宅等），通常采用招标、拍卖等公开竞价方式出让，而划拨方式受到严格限制。\\n\\n2. **合同内容**：出让建设用地使用权时，需签订书面合同，合同应包括当事人的信息、土地的界址与面积、用途、规划条件、使用权期限、出让金等费用及支付方式、争议解决方法等条款。\\n\\n3. **登记要求**：建设用地使用权需要向登记机构申请登记，只有登记后，使用权才正式设立，并会发放权属证书。\\n\\n4. **土地用途**：建设用地使用权人应合理利用土地，未经相关行政主管部门批准，不得擅自改变土地用途。\\n\\n5. **权利转让**：建设用地使用权人有权对该权利进行转让、出资、赠与等，但需要使用书面形式订订合同，且转让的期限不得超过剩余的使用权期限。\\n\\n6. **续期与终止**：住宅建设用地使用权在期限届满后自动续期，而非住宅用地续期则需按照法律规定处理。\\n\\n7. **公共利益的征收**：若因公共利益需要提前收回土地，国家需依法给予相应的补偿。\\n\\n以上是建设用地使用权的一些基本特点和法定要求。'}"
      ]
     },
     "execution_count": 14,
     "metadata": {},
     "output_type": "execute_result"
    }
   ],
   "execution_count": 14
  }
 ],
 "metadata": {
  "kernelspec": {
   "display_name": "Python 3",
   "language": "python",
   "name": "python3"
  },
  "language_info": {
   "codemirror_mode": {
    "name": "ipython",
    "version": 2
   },
   "file_extension": ".py",
   "mimetype": "text/x-python",
   "name": "python",
   "nbconvert_exporter": "python",
   "pygments_lexer": "ipython2",
   "version": "2.7.6"
  }
 },
 "nbformat": 4,
 "nbformat_minor": 5
}
