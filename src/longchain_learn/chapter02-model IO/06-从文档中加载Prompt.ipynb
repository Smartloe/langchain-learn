{
 "cells": [
  {
   "metadata": {
    "collapsed": true
   },
   "cell_type": "markdown",
   "source": "举例1：从物理磁盘的yaml文件中加载Prompt模版",
   "id": "a8ca528dfb641600"
  },
  {
   "metadata": {
    "ExecuteTime": {
     "end_time": "2025-09-29T15:04:25.620184Z",
     "start_time": "2025-09-29T15:04:25.605193Z"
    }
   },
   "cell_type": "code",
   "source": [
    "from langchain_core.prompts import load_prompt\n",
    "from dotenv import load_dotenv\n",
    "\n",
    "load_dotenv()\n",
    "prompt = load_prompt(\"prompt/prompt.yaml\", encoding=\"utf-8\")\n",
    "# print(prompt)\n",
    "print(prompt.format(name=\"年轻人\", what=\"滑稽\"))"
   ],
   "id": "8a39763f8276c349",
   "outputs": [
    {
     "name": "stdout",
     "output_type": "stream",
     "text": [
      "请给年轻人讲一个关于滑稽的故事\n"
     ]
    }
   ],
   "execution_count": 2
  },
  {
   "metadata": {},
   "cell_type": "markdown",
   "source": "举例1：从物理磁盘的yaml文件中加载Prompt模版",
   "id": "1a639038881ec1d5"
  },
  {
   "metadata": {
    "ExecuteTime": {
     "end_time": "2025-09-29T15:07:10.362598Z",
     "start_time": "2025-09-29T15:07:10.347608Z"
    }
   },
   "cell_type": "code",
   "source": [
    "from langchain_core.prompts import load_prompt\n",
    "from dotenv import load_dotenv\n",
    "\n",
    "load_dotenv()\n",
    "prompt = load_prompt(\"prompt/prompt.json\", encoding=\"utf-8\")\n",
    "print(prompt.format(name=\"张三\", what=\"搞笑的\"))"
   ],
   "id": "9f0bbddfa793267c",
   "outputs": [
    {
     "name": "stdout",
     "output_type": "stream",
     "text": [
      "请给张三讲一个搞笑的的故事。\n"
     ]
    }
   ],
   "execution_count": 4
  }
 ],
 "metadata": {
  "kernelspec": {
   "display_name": "Python 3",
   "language": "python",
   "name": "python3"
  },
  "language_info": {
   "codemirror_mode": {
    "name": "ipython",
    "version": 2
   },
   "file_extension": ".py",
   "mimetype": "text/x-python",
   "name": "python",
   "nbconvert_exporter": "python",
   "pygments_lexer": "ipython2",
   "version": "2.7.6"
  }
 },
 "nbformat": 4,
 "nbformat_minor": 5
}
