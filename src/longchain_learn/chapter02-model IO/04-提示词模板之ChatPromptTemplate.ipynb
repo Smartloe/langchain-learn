{
 "cells": [
  {
   "metadata": {
    "collapsed": true
   },
   "cell_type": "markdown",
   "source": [
    "# 提示词模板之ChatPromptTemplate的使用\n",
    "1、实例化的方式（构造方法、from_messages（））\n",
    "\n",
    "2、调用提示词模板的几种方法\n",
    "- invoke()\n",
    "- format_messages()\n",
    "- format()\n",
    "- format_prompt()\n",
    "\n",
    "3、更丰富的实例化参数类型\n",
    "\n",
    "4、结合LLM\n",
    "\n",
    "5、插入消息列表：MessagePlaceholder"
   ],
   "id": "32b3f792e4d7ed73"
  },
  {
   "metadata": {},
   "cell_type": "markdown",
   "source": "## 1、实例化的方式（构造方法、from_messages()）",
   "id": "efd0c7b7126c81a"
  },
  {
   "metadata": {
    "ExecuteTime": {
     "end_time": "2025-09-28T11:55:21.125689Z",
     "start_time": "2025-09-28T11:55:21.110670Z"
    }
   },
   "cell_type": "code",
   "source": [
    "# 方式1：构造方法\n",
    "from langchain_core.prompts import ChatPromptTemplate, MessagesPlaceholder\n",
    "\n",
    "# 创建ChatPromptTemplate实例\n",
    "chat_prompt_template = ChatPromptTemplate(\n",
    "\tmessages=[\n",
    "\t\t(\"system\", \"你是一个AI助手，帮助用户回答问题。你的名字叫{name}\"),\n",
    "\t\t(\"user\", \"我的问题是{question}\"),\n",
    "\n",
    "\t],\n",
    "\t# input_variables可以不指定，系统会自动识别\n",
    "\t# input_variables=[\"name\", \"question\"]\n",
    ")\n",
    "response = chat_prompt_template.invoke(\n",
    "\tinput={\n",
    "\t\t\"name\": \"小智\",\n",
    "\t\t\"question\": \"1.8和1.11谁大？\"\n",
    "\t}\n",
    ")\n",
    "print(response)\n",
    "print(response.messages)\n",
    "print(len(response.messages))\n",
    "print(type(response))"
   ],
   "id": "10b488f0534265dc",
   "outputs": [
    {
     "name": "stdout",
     "output_type": "stream",
     "text": [
      "messages=[SystemMessage(content='你是一个AI助手，帮助用户回答问题。你的名字叫小智', additional_kwargs={}, response_metadata={}), HumanMessage(content='我的问题是1.8和1.11谁大？', additional_kwargs={}, response_metadata={})]\n",
      "[SystemMessage(content='你是一个AI助手，帮助用户回答问题。你的名字叫小智', additional_kwargs={}, response_metadata={}), HumanMessage(content='我的问题是1.8和1.11谁大？', additional_kwargs={}, response_metadata={})]\n",
      "2\n",
      "<class 'langchain_core.prompt_values.ChatPromptValue'>\n"
     ]
    }
   ],
   "execution_count": 5
  },
  {
   "metadata": {
    "ExecuteTime": {
     "end_time": "2025-09-28T12:06:45.069275Z",
     "start_time": "2025-09-28T12:06:45.054250Z"
    }
   },
   "cell_type": "code",
   "source": [
    "# 方式2：from_messages()\n",
    "from langchain_core.prompts import ChatPromptTemplate\n",
    "\n",
    "chat_prompt_template = ChatPromptTemplate.from_messages(\n",
    "\t[\n",
    "\t\t(\"system\", \"你是一个AI助手，帮助用户回答问题。你的名字叫{name}\"),\n",
    "\t\t(\"user\", \"我的问题是{question}\"),\n",
    "\n",
    "\t],\n",
    "\n",
    ")\n",
    "response = chat_prompt_template.invoke(\n",
    "\tinput={\n",
    "\t\t\"name\": \"小智\",\n",
    "\t\t\"question\": \"1.8和1.11谁大？\"\n",
    "\t}\n",
    ")\n",
    "print(response)\n",
    "print(response.messages)\n",
    "print(len(response.messages))\n",
    "print(type(response))"
   ],
   "id": "4aabb1a901cfee16",
   "outputs": [
    {
     "name": "stdout",
     "output_type": "stream",
     "text": [
      "messages=[SystemMessage(content='你是一个AI助手，帮助用户回答问题。你的名字叫小智', additional_kwargs={}, response_metadata={}), HumanMessage(content='我的问题是1.8和1.11谁大？', additional_kwargs={}, response_metadata={})]\n",
      "[SystemMessage(content='你是一个AI助手，帮助用户回答问题。你的名字叫小智', additional_kwargs={}, response_metadata={}), HumanMessage(content='我的问题是1.8和1.11谁大？', additional_kwargs={}, response_metadata={})]\n",
      "2\n",
      "<class 'langchain_core.prompt_values.ChatPromptValue'>\n"
     ]
    }
   ],
   "execution_count": 6
  },
  {
   "metadata": {},
   "cell_type": "markdown",
   "source": [
    "## 2、调用提示词模板的几种方法\n",
    "- invoke()：传入的是字典，返回的是ChatPromptValue\n",
    "- format_messages()：传入的是变量的值，返回的是列表\n",
    "- format():传入的是变量的值，返回的是字符串\n",
    "- format_prompt()：传入的是变量的值，返回的是PromptValue"
   ],
   "id": "b1be83d90fb6d7b6"
  },
  {
   "metadata": {
    "ExecuteTime": {
     "end_time": "2025-09-28T12:09:58.722889Z",
     "start_time": "2025-09-28T12:09:58.707895Z"
    }
   },
   "cell_type": "code",
   "source": [
    "# 举例1：invoke()\n",
    "from langchain_core.prompts import ChatPromptTemplate\n",
    "\n",
    "chat_prompt_template = ChatPromptTemplate.from_messages(\n",
    "\t[\n",
    "\t\t(\"system\", \"你是一个AI助手，帮助用户回答问题。你的名字叫{name}\"),\n",
    "\t\t(\"user\", \"我的问题是{question}\"),\n",
    "\n",
    "\t],\n",
    "\n",
    ")\n",
    "response = chat_prompt_template.invoke(\n",
    "\tinput={\n",
    "\t\t\"name\": \"小智\",\n",
    "\t\t\"question\": \"1.8和1.11谁大？\"\n",
    "\t}\n",
    ")\n",
    "print(response)\n",
    "print(type(response))"
   ],
   "id": "8c1114532a0ba83e",
   "outputs": [
    {
     "name": "stdout",
     "output_type": "stream",
     "text": [
      "messages=[SystemMessage(content='你是一个AI助手，帮助用户回答问题。你的名字叫小智', additional_kwargs={}, response_metadata={}), HumanMessage(content='我的问题是1.8和1.11谁大？', additional_kwargs={}, response_metadata={})]\n"
     ]
    }
   ],
   "execution_count": 7
  },
  {
   "metadata": {
    "ExecuteTime": {
     "end_time": "2025-09-28T12:12:52.993269Z",
     "start_time": "2025-09-28T12:12:52.963276Z"
    }
   },
   "cell_type": "code",
   "source": [
    "# 举例2：format()\n",
    "from langchain_core.prompts import ChatPromptTemplate\n",
    "\n",
    "chat_prompt_template = ChatPromptTemplate.from_messages(\n",
    "\t[\n",
    "\t\t(\"system\", \"你是一个AI助手，帮助用户回答问题。你的名字叫{name}\"),\n",
    "\t\t(\"user\", \"我的问题是{question}\"),\n",
    "\n",
    "\t],\n",
    "\n",
    ")\n",
    "response = chat_prompt_template.format(name=\"小智\", question=\"1.8和1.11谁大？\")\n",
    "print(response)\n",
    "print(type(response))"
   ],
   "id": "97be0969aad1a252",
   "outputs": [
    {
     "name": "stdout",
     "output_type": "stream",
     "text": [
      "System: 你是一个AI助手，帮助用户回答问题。你的名字叫小智\n",
      "Human: 我的问题是1.8和1.11谁大？\n",
      "<class 'str'>\n"
     ]
    }
   ],
   "execution_count": 8
  },
  {
   "metadata": {
    "ExecuteTime": {
     "end_time": "2025-09-28T12:14:14.987707Z",
     "start_time": "2025-09-28T12:14:14.972673Z"
    }
   },
   "cell_type": "code",
   "source": [
    "# 举例3：format_messages()\n",
    "from langchain_core.prompts import ChatPromptTemplate\n",
    "\n",
    "chat_prompt_template = ChatPromptTemplate.from_messages(\n",
    "\t[\n",
    "\t\t(\"system\", \"你是一个AI助手，帮助用户回答问题。你的名字叫{name}\"),\n",
    "\t\t(\"user\", \"我的问题是{question}\"),\n",
    "\n",
    "\t],\n",
    "\n",
    ")\n",
    "response = chat_prompt_template.format_messages(name=\"小智\", question=\"1.8和1.11谁大？\")\n",
    "print(response)\n",
    "print(type(response))"
   ],
   "id": "fa88191e36e9c377",
   "outputs": [
    {
     "name": "stdout",
     "output_type": "stream",
     "text": [
      "[SystemMessage(content='你是一个AI助手，帮助用户回答问题。你的名字叫小智', additional_kwargs={}, response_metadata={}), HumanMessage(content='我的问题是1.8和1.11谁大？', additional_kwargs={}, response_metadata={})]\n",
      "<class 'list'>\n"
     ]
    }
   ],
   "execution_count": 9
  },
  {
   "metadata": {
    "ExecuteTime": {
     "end_time": "2025-09-28T12:16:41.277597Z",
     "start_time": "2025-09-28T12:16:41.262596Z"
    }
   },
   "cell_type": "code",
   "source": [
    "# 举例4：format_prompt()\n",
    "from langchain_core.prompts import ChatPromptTemplate\n",
    "\n",
    "chat_prompt_template = ChatPromptTemplate.from_messages(\n",
    "\t[\n",
    "\t\t(\"system\", \"你是一个AI助手，帮助用户回答问题。你的名字叫{name}\"),\n",
    "\t\t(\"user\", \"我的问题是{question}\"),\n",
    "\n",
    "\t],\n",
    "\n",
    ")\n",
    "response = chat_prompt_template.format_prompt(name=\"小智\", question=\"1.8和1.11谁大？\")\n",
    "print(response)\n",
    "print(type(response))"
   ],
   "id": "2edb5adb7a35f70d",
   "outputs": [
    {
     "name": "stdout",
     "output_type": "stream",
     "text": [
      "messages=[SystemMessage(content='你是一个AI助手，帮助用户回答问题。你的名字叫小智', additional_kwargs={}, response_metadata={}), HumanMessage(content='我的问题是1.8和1.11谁大？', additional_kwargs={}, response_metadata={})]\n",
      "<class 'langchain_core.prompt_values.ChatPromptValue'>\n"
     ]
    }
   ],
   "execution_count": 10
  },
  {
   "metadata": {},
   "cell_type": "markdown",
   "source": "如何实现ChatPromptValue与list[Messages]的相互转换？",
   "id": "d982eb8a3fb0940b"
  },
  {
   "metadata": {
    "ExecuteTime": {
     "end_time": "2025-09-28T12:22:49.194925Z",
     "start_time": "2025-09-28T12:22:49.179925Z"
    }
   },
   "cell_type": "code",
   "source": [
    "from langchain_core.prompts import ChatPromptTemplate\n",
    "\n",
    "chat_prompt_template = ChatPromptTemplate.from_messages(\n",
    "\t[\n",
    "\t\t(\"system\", \"你是一个AI助手，帮助用户回答问题。你的名字叫{name}\"),\n",
    "\t\t(\"user\", \"我的问题是{question}\"),\n",
    "\n",
    "\t],\n",
    "\n",
    ")\n",
    "response = chat_prompt_template.format_prompt(name=\"小智\", question=\"1.8和1.11谁大？\")\n",
    "print(response)\n",
    "print(type(response))\n",
    "print()\n",
    "# 将PromptValue转换为list[Messages]\n",
    "print(response.to_messages())\n",
    "print(type(response.to_messages()))\n",
    "print()\n",
    "# 将PromptValue转换为字符串\n",
    "print(response.to_string())\n",
    "print(type(response.to_string()))"
   ],
   "id": "c343ad33d5d3f968",
   "outputs": [
    {
     "name": "stdout",
     "output_type": "stream",
     "text": [
      "messages=[SystemMessage(content='你是一个AI助手，帮助用户回答问题。你的名字叫小智', additional_kwargs={}, response_metadata={}), HumanMessage(content='我的问题是1.8和1.11谁大？', additional_kwargs={}, response_metadata={})]\n",
      "<class 'langchain_core.prompt_values.ChatPromptValue'>\n",
      "\n",
      "[SystemMessage(content='你是一个AI助手，帮助用户回答问题。你的名字叫小智', additional_kwargs={}, response_metadata={}), HumanMessage(content='我的问题是1.8和1.11谁大？', additional_kwargs={}, response_metadata={})]\n",
      "<class 'list'>\n",
      "\n",
      "System: 你是一个AI助手，帮助用户回答问题。你的名字叫小智\n",
      "Human: 我的问题是1.8和1.11谁大？\n",
      "<class 'str'>\n"
     ]
    }
   ],
   "execution_count": 13
  },
  {
   "metadata": {},
   "cell_type": "markdown",
   "source": [
    "# 3、更丰富的实例化参数类型\n",
    "不管使用构造方法还是from_messages()方法，都可以使用多种类型的参数来定义消息，包括字符串、Message对象、MessageTemplate对象、MessagePlaceholder对象等。\n",
    "\n",
    "从调用上来讲，我们可以看到，不管使用构造方法，还是使用from_messages()方法，messages的参数的类型都是列表，但是列表的元素的类型是多样的。元素可以是：字符串类型、元组构成、字典类型构成的列表、Chat提示词模板类型、消息提示词模板类型"
   ],
   "id": "eba7f3c17dfafcd1"
  },
  {
   "metadata": {
    "ExecuteTime": {
     "end_time": "2025-09-28T15:16:37.111898Z",
     "start_time": "2025-09-28T15:16:37.092886Z"
    }
   },
   "cell_type": "code",
   "source": [
    "# 举例1\n",
    "from langchain_core.prompts import ChatPromptTemplate\n",
    "\n",
    "# 第一种方式\n",
    "chat_prompt_template1 = ChatPromptTemplate(\n",
    "\tmessages=[\n",
    "\t\t(\"system\", \"你是一个AI助手，帮助用户回答问题。你的名字叫{name}\"),\n",
    "\t\t(\"user\", \"我的问题是{question}\"),\n",
    "\n",
    "\t],\n",
    ")\n",
    "# 第二种方式\n",
    "chat_prompt_template2 = ChatPromptTemplate.from_messages(\n",
    "\t[\n",
    "\t\t(\"system\", \"你是一个AI助手，帮助用户回答问题。你的名字叫{name}\"),\n",
    "\t\t(\"user\", \"我的问题是{question}\"),\n",
    "\n",
    "\t],\n",
    "\n",
    ")\n",
    "response = chat_prompt_template1.invoke({\"name\": \"小智\", \"question\": \"1.8和1.11谁大？\"})\n",
    "print(response)"
   ],
   "id": "374c26ed927ba4ad",
   "outputs": [
    {
     "name": "stdout",
     "output_type": "stream",
     "text": [
      "messages=[SystemMessage(content='你是一个AI助手，帮助用户回答问题。你的名字叫小智', additional_kwargs={}, response_metadata={}), HumanMessage(content='我的问题是1.8和1.11谁大？', additional_kwargs={}, response_metadata={})]\n"
     ]
    }
   ],
   "execution_count": 20
  },
  {
   "metadata": {},
   "cell_type": "code",
   "outputs": [],
   "execution_count": null,
   "source": [
    "# 举例2:字符串\n",
    "chat_prompt_template2 = ChatPromptTemplate.from_messages(\n",
    "\t[\n",
    "\t\t\"我的问题是{question}\"  # 默认的角色是：human\n",
    "\t]\n",
    ")"
   ],
   "id": "d0128767ec57b140"
  },
  {
   "metadata": {},
   "cell_type": "code",
   "outputs": [],
   "execution_count": null,
   "source": [
    "# 举例3：字典类型\n",
    "chat_prompt_template2 = ChatPromptTemplate.from_messages(\n",
    "\t[\n",
    "\t\t{\"role\": \"system\", \"content\": \"你是一个AI助手，帮助用户回答问题。你的名字叫{name}\"},\n",
    "\t\t{\"role\": \"human\", \"content\": \"我的问题是{question}\"},\n",
    "\t]\n",
    ")"
   ],
   "id": "283ed8a0f90bf7f0"
  },
  {
   "metadata": {
    "ExecuteTime": {
     "end_time": "2025-09-28T15:49:46.622229Z",
     "start_time": "2025-09-28T15:49:46.602238Z"
    }
   },
   "cell_type": "code",
   "source": [
    "from langchain_core.messages import SystemMessage, HumanMessage, AIMessage\n",
    "\n",
    "# 举例4：消息类型\n",
    "chat_prompt_template2 = ChatPromptTemplate.from_messages(\n",
    "\t[\n",
    "\t\tSystemMessage(content=\"你是一个AI助手，帮助用户回答问题。你的名字叫{name}\"),\n",
    "\t\tHumanMessage(content=\"我的问题是{question}\"),\n",
    "\t]\n",
    ")\n",
    "response = chat_prompt_template2.invoke({\"name\": \"小智\", \"question\": \"1.8和1.11谁大？\"})\n",
    "response1 = chat_prompt_template2.invoke({})\n",
    "print(response)\n",
    "print(response1)"
   ],
   "id": "8cdaaf02a3019320",
   "outputs": [
    {
     "name": "stdout",
     "output_type": "stream",
     "text": [
      "messages=[SystemMessage(content='你是一个AI助手，帮助用户回答问题。你的名字叫{name}', additional_kwargs={}, response_metadata={}), HumanMessage(content='我的问题是{question}', additional_kwargs={}, response_metadata={})]\n",
      "messages=[SystemMessage(content='你是一个AI助手，帮助用户回答问题。你的名字叫{name}', additional_kwargs={}, response_metadata={}), HumanMessage(content='我的问题是{question}', additional_kwargs={}, response_metadata={})]\n"
     ]
    }
   ],
   "execution_count": 23
  },
  {
   "metadata": {
    "ExecuteTime": {
     "end_time": "2025-09-28T15:27:36.610153Z",
     "start_time": "2025-09-28T15:27:36.579822Z"
    }
   },
   "cell_type": "code",
   "source": [
    "# 举例5：消息提示词模板类型\n",
    "from langchain_core.prompts import ChatPromptTemplate\n",
    "\n",
    "# 使用 BaseChatPromptTemplate（嵌套的 ChatPromptTemplate）\n",
    "nested_prompt_template1 = ChatPromptTemplate.from_messages([\n",
    "\t(\"system\", \"我是一个人工智能助手，我的名字叫{name}\")\n",
    "])\n",
    "nested_prompt_template2 = ChatPromptTemplate.from_messages([\n",
    "\t(\"human\", \"很高兴认识你,我的问题是{question}\")\n",
    "])\n",
    "prompt_template = ChatPromptTemplate.from_messages([\n",
    "\tnested_prompt_template1, nested_prompt_template2\n",
    "])\n",
    "prompt_template.format_messages(name=\"小智\", question=\"你为什么这么帅？\")"
   ],
   "id": "1808fed50fb0a385",
   "outputs": [
    {
     "data": {
      "text/plain": [
       "[SystemMessage(content='我是一个人工智能助手，我的名字叫小智', additional_kwargs={}, response_metadata={}),\n",
       " HumanMessage(content='很高兴认识你,我的问题是你为什么这么帅？', additional_kwargs={}, response_metadata={})]"
      ]
     },
     "execution_count": 21,
     "metadata": {},
     "output_type": "execute_result"
    }
   ],
   "execution_count": 21
  },
  {
   "metadata": {},
   "cell_type": "code",
   "outputs": [],
   "execution_count": null,
   "source": [
    "# 举例6：消息提示词模板类型\n",
    "# 导入聊天消息类模板\n",
    "from langchain_core.prompts import ChatPromptTemplate, HumanMessagePromptTemplate, SystemMessagePromptTemplate\n",
    "\n",
    "# 创建消息模板\n",
    "system_template = \"你是一个专家{role}\"\n",
    "system_message_prompt = SystemMessagePromptTemplate.from_template(system_template)\n",
    "human_template = \"给我解释{concept}，用浅显易懂的语言\"\n",
    "human_message_prompt = HumanMessagePromptTemplate.from_template(human_template)\n",
    "# 组合成聊天提示模板\n",
    "chat_prompt = ChatPromptTemplate.from_messages([\n",
    "\tsystem_message_prompt, human_message_prompt\n",
    "])\n",
    "# 格式化提示\n",
    "formatted_messages = chat_prompt.format_messages(\n",
    "\trole=\"物理学家\",\n",
    "\tconcept=\"相对论\"\n",
    ")\n",
    "print(formatted_messages)"
   ],
   "id": "bfb87653cd44d4fa"
  },
  {
   "metadata": {},
   "cell_type": "markdown",
   "source": "# 4、结合LLM",
   "id": "f788099282c5b898"
  },
  {
   "metadata": {
    "ExecuteTime": {
     "end_time": "2025-09-28T16:24:40.087253Z",
     "start_time": "2025-09-28T16:24:30.112596Z"
    }
   },
   "cell_type": "code",
   "source": [
    "from langchain_openai import ChatOpenAI\n",
    "from langchain_core.prompts import ChatPromptTemplate\n",
    "import os\n",
    "import dotenv\n",
    "\n",
    "# 加载环境变量\n",
    "dotenv.load_dotenv()\n",
    "os.environ['OPENAI_API_KEY'] = os.getenv(\"OPENAI_API_KEY1\")\n",
    "os.environ['OPENAI_BASE_URL'] = os.getenv('OPENAI_BASE_URL')\n",
    "\n",
    "# 1、提供大模型\n",
    "chat_model = ChatOpenAI(\n",
    "\tmodel=\"gpt-4o-mini\",\n",
    ")\n",
    "# 2、通过Cha提示词模板，创建提示词模板\n",
    "chat_prompt_template = ChatPromptTemplate.from_messages(\n",
    "\t[\n",
    "\t\t(\"system\", \"你是一个AI助手，帮助用户回答问题。你的名字叫{name}\"),\n",
    "\t\t(\"user\", \"我的问题是{question}\"),\n",
    "\t]\n",
    "\n",
    ")\n",
    "prompt_response = chat_prompt_template.invoke(\n",
    "\t{\n",
    "\t\t\"name\": \"小智\",\n",
    "\t\t\"question\": \"1.8和1.11谁大？\"\n",
    "\t}\n",
    ")\n",
    "\n",
    "# 3、通过大模型，结合提示词模板，生成内容\n",
    "response = chat_model.invoke(prompt_response)\n",
    "print(response)"
   ],
   "id": "35db13a8886f243e",
   "outputs": [
    {
     "name": "stdout",
     "output_type": "stream",
     "text": [
      "content='1.11比1.8大。虽然1.8的整数部分是1，但它的小数部分只有一位数，而1.11的小数部分有两位数，所以下面两位数的比较更重要。因此，1.11大于1.8。' additional_kwargs={'refusal': None} response_metadata={'token_usage': {'completion_tokens': 61, 'prompt_tokens': 40, 'total_tokens': 101, 'completion_tokens_details': {'accepted_prediction_tokens': 0, 'audio_tokens': 0, 'reasoning_tokens': 0, 'rejected_prediction_tokens': 0}, 'prompt_tokens_details': {'audio_tokens': 0, 'cached_tokens': 0}}, 'model_name': 'gpt-4o-mini-2024-07-18', 'system_fingerprint': 'fp_efad92c60b', 'id': 'chatcmpl-CKoUQGbutIJqq58DQ0sc5wBpO79aF', 'service_tier': None, 'finish_reason': 'stop', 'logprobs': None} id='run--53444db3-3db5-4379-9bb9-6278c175dfe2-0' usage_metadata={'input_tokens': 40, 'output_tokens': 61, 'total_tokens': 101, 'input_token_details': {'audio': 0, 'cache_read': 0}, 'output_token_details': {'audio': 0, 'reasoning': 0}}\n"
     ]
    }
   ],
   "execution_count": 24
  },
  {
   "metadata": {},
   "cell_type": "markdown",
   "source": [
    "## 5、插入消息列表：MessagePlaceholder\n",
    "使用场景：当ChatPromptTemplate中，有一部分消息类型且消息的数量不确定时，可以使用MessagesPlaceholder来占位。"
   ],
   "id": "d6da8fed35b522fd"
  },
  {
   "metadata": {
    "ExecuteTime": {
     "end_time": "2025-09-28T16:34:07.511736Z",
     "start_time": "2025-09-28T16:34:07.493636Z"
    }
   },
   "cell_type": "code",
   "source": [
    "# 举例1\n",
    "from langchain_core.prompts import ChatPromptTemplate\n",
    "from langchain_core.prompts.chat import MessagesPlaceholder\n",
    "from langchain_core.messages import HumanMessage\n",
    "\n",
    "chat_prompt_template = ChatPromptTemplate.from_messages(\n",
    "\t[\n",
    "\t\t(\"system\", \"你是一个AI助手，帮助用户回答问题。你的名字叫{name}\"),\n",
    "\t\tMessagesPlaceholder(variable_name=\"msgs\"),\n",
    "\t]\n",
    ")\n",
    "\n",
    "chat_prompt_template.invoke(\n",
    "\t{\n",
    "\t\t\"name\": \"小智\",\n",
    "\t\t\"msgs\": [HumanMessage(content=\"1.8和1.11谁大？\")]\n",
    "\t}\n",
    ")"
   ],
   "id": "135caa80947eae7c",
   "outputs": [
    {
     "data": {
      "text/plain": [
       "ChatPromptValue(messages=[SystemMessage(content='你是一个AI助手，帮助用户回答问题。你的名字叫小智', additional_kwargs={}, response_metadata={}), HumanMessage(content='1.8和1.11谁大？', additional_kwargs={}, response_metadata={})])"
      ]
     },
     "execution_count": 28,
     "metadata": {},
     "output_type": "execute_result"
    }
   ],
   "execution_count": 28
  },
  {
   "metadata": {
    "ExecuteTime": {
     "end_time": "2025-09-28T16:36:15.595481Z",
     "start_time": "2025-09-28T16:36:15.569339Z"
    }
   },
   "cell_type": "code",
   "source": [
    "# 举例2\n",
    "from langchain_core.prompts import ChatPromptTemplate\n",
    "from langchain_core.prompts.chat import MessagesPlaceholder\n",
    "from langchain_core.messages import HumanMessage\n",
    "from langchain_core.messages.ai import AIMessage\n",
    "\n",
    "chat_prompt_template = ChatPromptTemplate.from_messages(\n",
    "\t[\n",
    "\t\t(\"system\", \"你是一个AI助手，帮助用户回答问题。你的名字叫{name}\"),\n",
    "\t\tMessagesPlaceholder(variable_name=\"msgs\"),\n",
    "\t]\n",
    ")\n",
    "\n",
    "chat_prompt_template.invoke(\n",
    "\t{\n",
    "\t\t\"name\": \"小智\",\n",
    "\t\t\"msgs\": [HumanMessage(content=\"1.8和1.11谁大？\"), AIMessage(content=\"1.8大\")]\n",
    "\t}\n",
    ")"
   ],
   "id": "77cb4564370dc8d7",
   "outputs": [
    {
     "data": {
      "text/plain": [
       "ChatPromptValue(messages=[SystemMessage(content='你是一个AI助手，帮助用户回答问题。你的名字叫小智', additional_kwargs={}, response_metadata={}), HumanMessage(content='1.8和1.11谁大？', additional_kwargs={}, response_metadata={}), AIMessage(content='1.8大', additional_kwargs={}, response_metadata={})])"
      ]
     },
     "execution_count": 30,
     "metadata": {},
     "output_type": "execute_result"
    }
   ],
   "execution_count": 30
  },
  {
   "metadata": {
    "ExecuteTime": {
     "end_time": "2025-09-28T16:43:48.712467Z",
     "start_time": "2025-09-28T16:43:48.692477Z"
    }
   },
   "cell_type": "code",
   "source": [
    "# 举例3：存储对话历史记录\n",
    "from langchain_core.prompts import ChatPromptTemplate, MessagesPlaceholder\n",
    "from langchain_core.messages import AIMessage\n",
    "\n",
    "prompt = ChatPromptTemplate.from_messages(\n",
    "\t[\n",
    "\t\t(\"system\", \"You are a helpful assistant.\"),\n",
    "\t\tMessagesPlaceholder(\"history\"),\n",
    "\t\t(\"human\", \"{question}\")\n",
    "\t]\n",
    ")\n",
    "prompt_value = prompt.format_messages(\n",
    "\thistory=[HumanMessage(content=\"1+2*3 = ?\"), AIMessage(content=\"1+2*3=7\")],\n",
    "\tquestion=\"我刚才问题是什么？\")\n",
    "print(prompt_value)\n",
    "# prompt.invoke(\n",
    "# \t{\n",
    "# \t\t\"history\": [(\"human\", \"what's 5 + 2\"), (\"ai\", \"5 + 2 is 7\")],\n",
    "# \t\t\"question\": \"now multiply that by 4\"\n",
    "# \t}\n",
    "# )\n"
   ],
   "id": "e7eac26bff96e367",
   "outputs": [
    {
     "name": "stdout",
     "output_type": "stream",
     "text": [
      "[SystemMessage(content='You are a helpful assistant.', additional_kwargs={}, response_metadata={}), HumanMessage(content='1+2*3 = ?', additional_kwargs={}, response_metadata={}), AIMessage(content='1+2*3=7', additional_kwargs={}, response_metadata={}), HumanMessage(content='我刚才问题是什么？', additional_kwargs={}, response_metadata={})]\n"
     ]
    }
   ],
   "execution_count": 33
  },
  {
   "metadata": {
    "ExecuteTime": {
     "end_time": "2025-09-28T16:43:53.367567Z",
     "start_time": "2025-09-28T16:43:50.327488Z"
    }
   },
   "cell_type": "code",
   "source": [
    "from langchain_openai import ChatOpenAI\n",
    "from langchain_core.prompts import ChatPromptTemplate\n",
    "import os\n",
    "import dotenv\n",
    "\n",
    "# 加载环境变量\n",
    "dotenv.load_dotenv()\n",
    "os.environ['OPENAI_API_KEY'] = os.getenv(\"OPENAI_API_KEY1\")\n",
    "os.environ['OPENAI_BASE_URL'] = os.getenv('OPENAI_BASE_URL')\n",
    "\n",
    "# 提供大模型\n",
    "chat_model = ChatOpenAI(\n",
    "\tmodel=\"gpt-4o-mini\",\n",
    ")\n",
    "\n",
    "chat_model.invoke(prompt_value)"
   ],
   "id": "30fa5993f89e842f",
   "outputs": [
    {
     "data": {
      "text/plain": [
       "AIMessage(content='你刚才的问题是“1+2*3 = ?”。', additional_kwargs={'refusal': None}, response_metadata={'token_usage': {'completion_tokens': 15, 'prompt_tokens': 45, 'total_tokens': 60, 'completion_tokens_details': {'accepted_prediction_tokens': 0, 'audio_tokens': 0, 'reasoning_tokens': 0, 'rejected_prediction_tokens': 0}, 'prompt_tokens_details': {'audio_tokens': 0, 'cached_tokens': 0}}, 'model_name': 'gpt-4o-mini-2024-07-18', 'system_fingerprint': 'fp_efad92c60b', 'id': 'chatcmpl-CKon22oaELg28nlQhHGeNfzcwQ0qG', 'service_tier': None, 'finish_reason': 'stop', 'logprobs': None}, id='run--402be6c2-4c21-4782-81d7-bd868c96e263-0', usage_metadata={'input_tokens': 45, 'output_tokens': 15, 'total_tokens': 60, 'input_token_details': {'audio': 0, 'cache_read': 0}, 'output_token_details': {'audio': 0, 'reasoning': 0}})"
      ]
     },
     "execution_count": 34,
     "metadata": {},
     "output_type": "execute_result"
    }
   ],
   "execution_count": 34
  }
 ],
 "metadata": {
  "kernelspec": {
   "display_name": "Python 3",
   "language": "python",
   "name": "python3"
  },
  "language_info": {
   "codemirror_mode": {
    "name": "ipython",
    "version": 2
   },
   "file_extension": ".py",
   "mimetype": "text/x-python",
   "name": "python",
   "nbconvert_exporter": "python",
   "pygments_lexer": "ipython2",
   "version": "2.7.6"
  }
 },
 "nbformat": 4,
 "nbformat_minor": 5
}
