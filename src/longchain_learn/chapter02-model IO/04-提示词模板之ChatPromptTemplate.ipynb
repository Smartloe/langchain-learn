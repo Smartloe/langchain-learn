{
 "cells": [
  {
   "metadata": {
    "collapsed": true
   },
   "cell_type": "markdown",
   "source": [
    "# 提示词模板之ChatPromptTemplate的使用\n",
    "1、实例化的方式（构造方法、from_messages（））\n",
    "\n",
    "2、调用提示词模板的几种方法\n",
    "- invoke()\n",
    "- format_messages()\n",
    "- format()\n",
    "- format_prompt()\n",
    "\n",
    "3、更丰富的实例化参数类型\n",
    "\n",
    "4、结合LLM\n",
    "\n",
    "5、插入消息列表：MessagePlaceholder"
   ],
   "id": "32b3f792e4d7ed73"
  },
  {
   "metadata": {},
   "cell_type": "markdown",
   "source": "## 1、实例化的方式（构造方法、from_messages()）",
   "id": "efd0c7b7126c81a"
  },
  {
   "metadata": {
    "ExecuteTime": {
     "end_time": "2025-09-28T11:55:21.125689Z",
     "start_time": "2025-09-28T11:55:21.110670Z"
    }
   },
   "cell_type": "code",
   "source": [
    "# 方式1：构造方法\n",
    "from langchain_core.prompts import ChatPromptTemplate\n",
    "\n",
    "# 创建ChatPromptTemplate实例\n",
    "chat_prompt_template = ChatPromptTemplate(\n",
    "\tmessages=[\n",
    "\t\t(\"system\", \"你是一个AI助手，帮助用户回答问题。你的名字叫{name}\"),\n",
    "\t\t(\"user\", \"我的问题是{question}\"),\n",
    "\n",
    "\t],\n",
    "\t# input_variables可以不指定，系统会自动识别\n",
    "\t# input_variables=[\"name\", \"question\"]\n",
    ")\n",
    "response = chat_prompt_template.invoke(\n",
    "\tinput={\n",
    "\t\t\"name\": \"小智\",\n",
    "\t\t\"question\": \"1.8和1.11谁大？\"\n",
    "\t}\n",
    ")\n",
    "print(response)\n",
    "print(response.messages)\n",
    "print(len(response.messages))\n",
    "print(type(response))"
   ],
   "id": "10b488f0534265dc",
   "outputs": [
    {
     "name": "stdout",
     "output_type": "stream",
     "text": [
      "messages=[SystemMessage(content='你是一个AI助手，帮助用户回答问题。你的名字叫小智', additional_kwargs={}, response_metadata={}), HumanMessage(content='我的问题是1.8和1.11谁大？', additional_kwargs={}, response_metadata={})]\n",
      "[SystemMessage(content='你是一个AI助手，帮助用户回答问题。你的名字叫小智', additional_kwargs={}, response_metadata={}), HumanMessage(content='我的问题是1.8和1.11谁大？', additional_kwargs={}, response_metadata={})]\n",
      "2\n",
      "<class 'langchain_core.prompt_values.ChatPromptValue'>\n"
     ]
    }
   ],
   "execution_count": 5
  },
  {
   "metadata": {
    "ExecuteTime": {
     "end_time": "2025-09-28T12:06:45.069275Z",
     "start_time": "2025-09-28T12:06:45.054250Z"
    }
   },
   "cell_type": "code",
   "source": [
    "# 方式2：from_messages()\n",
    "from langchain_core.prompts import ChatPromptTemplate\n",
    "\n",
    "chat_prompt_template = ChatPromptTemplate.from_messages(\n",
    "\t[\n",
    "\t\t(\"system\", \"你是一个AI助手，帮助用户回答问题。你的名字叫{name}\"),\n",
    "\t\t(\"user\", \"我的问题是{question}\"),\n",
    "\n",
    "\t],\n",
    "\n",
    ")\n",
    "response = chat_prompt_template.invoke(\n",
    "\tinput={\n",
    "\t\t\"name\": \"小智\",\n",
    "\t\t\"question\": \"1.8和1.11谁大？\"\n",
    "\t}\n",
    ")\n",
    "print(response)\n",
    "print(response.messages)\n",
    "print(len(response.messages))\n",
    "print(type(response))"
   ],
   "id": "4aabb1a901cfee16",
   "outputs": [
    {
     "name": "stdout",
     "output_type": "stream",
     "text": [
      "messages=[SystemMessage(content='你是一个AI助手，帮助用户回答问题。你的名字叫小智', additional_kwargs={}, response_metadata={}), HumanMessage(content='我的问题是1.8和1.11谁大？', additional_kwargs={}, response_metadata={})]\n",
      "[SystemMessage(content='你是一个AI助手，帮助用户回答问题。你的名字叫小智', additional_kwargs={}, response_metadata={}), HumanMessage(content='我的问题是1.8和1.11谁大？', additional_kwargs={}, response_metadata={})]\n",
      "2\n",
      "<class 'langchain_core.prompt_values.ChatPromptValue'>\n"
     ]
    }
   ],
   "execution_count": 6
  },
  {
   "metadata": {},
   "cell_type": "markdown",
   "source": [
    "## 2、调用提示词模板的几种方法\n",
    "- invoke()：传入的是字典，返回的是ChatPromptValue\n",
    "- format_messages()：传入的是变量的值，返回的是列表\n",
    "- format():传入的是变量的值，返回的是字符串\n",
    "- format_prompt()：传入的是变量的值，返回的是PromptValue"
   ],
   "id": "b1be83d90fb6d7b6"
  },
  {
   "metadata": {
    "ExecuteTime": {
     "end_time": "2025-09-28T12:09:58.722889Z",
     "start_time": "2025-09-28T12:09:58.707895Z"
    }
   },
   "cell_type": "code",
   "source": [
    "# 举例1：invoke()\n",
    "from langchain_core.prompts import ChatPromptTemplate\n",
    "\n",
    "chat_prompt_template = ChatPromptTemplate.from_messages(\n",
    "\t[\n",
    "\t\t(\"system\", \"你是一个AI助手，帮助用户回答问题。你的名字叫{name}\"),\n",
    "\t\t(\"user\", \"我的问题是{question}\"),\n",
    "\n",
    "\t],\n",
    "\n",
    ")\n",
    "response = chat_prompt_template.invoke(\n",
    "\tinput={\n",
    "\t\t\"name\": \"小智\",\n",
    "\t\t\"question\": \"1.8和1.11谁大？\"\n",
    "\t}\n",
    ")\n",
    "print(response)\n",
    "print(type(response))"
   ],
   "id": "8c1114532a0ba83e",
   "outputs": [
    {
     "name": "stdout",
     "output_type": "stream",
     "text": [
      "messages=[SystemMessage(content='你是一个AI助手，帮助用户回答问题。你的名字叫小智', additional_kwargs={}, response_metadata={}), HumanMessage(content='我的问题是1.8和1.11谁大？', additional_kwargs={}, response_metadata={})]\n"
     ]
    }
   ],
   "execution_count": 7
  },
  {
   "metadata": {
    "ExecuteTime": {
     "end_time": "2025-09-28T12:12:52.993269Z",
     "start_time": "2025-09-28T12:12:52.963276Z"
    }
   },
   "cell_type": "code",
   "source": [
    "# 举例2：format()\n",
    "from langchain_core.prompts import ChatPromptTemplate\n",
    "\n",
    "chat_prompt_template = ChatPromptTemplate.from_messages(\n",
    "\t[\n",
    "\t\t(\"system\", \"你是一个AI助手，帮助用户回答问题。你的名字叫{name}\"),\n",
    "\t\t(\"user\", \"我的问题是{question}\"),\n",
    "\n",
    "\t],\n",
    "\n",
    ")\n",
    "response = chat_prompt_template.format(name=\"小智\", question=\"1.8和1.11谁大？\")\n",
    "print(response)\n",
    "print(type(response))"
   ],
   "id": "97be0969aad1a252",
   "outputs": [
    {
     "name": "stdout",
     "output_type": "stream",
     "text": [
      "System: 你是一个AI助手，帮助用户回答问题。你的名字叫小智\n",
      "Human: 我的问题是1.8和1.11谁大？\n",
      "<class 'str'>\n"
     ]
    }
   ],
   "execution_count": 8
  },
  {
   "metadata": {
    "ExecuteTime": {
     "end_time": "2025-09-28T12:14:14.987707Z",
     "start_time": "2025-09-28T12:14:14.972673Z"
    }
   },
   "cell_type": "code",
   "source": [
    "# 举例3：format_messages()\n",
    "from langchain_core.prompts import ChatPromptTemplate\n",
    "\n",
    "chat_prompt_template = ChatPromptTemplate.from_messages(\n",
    "\t[\n",
    "\t\t(\"system\", \"你是一个AI助手，帮助用户回答问题。你的名字叫{name}\"),\n",
    "\t\t(\"user\", \"我的问题是{question}\"),\n",
    "\n",
    "\t],\n",
    "\n",
    ")\n",
    "response = chat_prompt_template.format_messages(name=\"小智\", question=\"1.8和1.11谁大？\")\n",
    "print(response)\n",
    "print(type(response))"
   ],
   "id": "fa88191e36e9c377",
   "outputs": [
    {
     "name": "stdout",
     "output_type": "stream",
     "text": [
      "[SystemMessage(content='你是一个AI助手，帮助用户回答问题。你的名字叫小智', additional_kwargs={}, response_metadata={}), HumanMessage(content='我的问题是1.8和1.11谁大？', additional_kwargs={}, response_metadata={})]\n",
      "<class 'list'>\n"
     ]
    }
   ],
   "execution_count": 9
  },
  {
   "metadata": {
    "ExecuteTime": {
     "end_time": "2025-09-28T12:16:41.277597Z",
     "start_time": "2025-09-28T12:16:41.262596Z"
    }
   },
   "cell_type": "code",
   "source": [
    "# 举例4：format_prompt()\n",
    "from langchain_core.prompts import ChatPromptTemplate\n",
    "\n",
    "chat_prompt_template = ChatPromptTemplate.from_messages(\n",
    "\t[\n",
    "\t\t(\"system\", \"你是一个AI助手，帮助用户回答问题。你的名字叫{name}\"),\n",
    "\t\t(\"user\", \"我的问题是{question}\"),\n",
    "\n",
    "\t],\n",
    "\n",
    ")\n",
    "response = chat_prompt_template.format_prompt(name=\"小智\", question=\"1.8和1.11谁大？\")\n",
    "print(response)\n",
    "print(type(response))"
   ],
   "id": "2edb5adb7a35f70d",
   "outputs": [
    {
     "name": "stdout",
     "output_type": "stream",
     "text": [
      "messages=[SystemMessage(content='你是一个AI助手，帮助用户回答问题。你的名字叫小智', additional_kwargs={}, response_metadata={}), HumanMessage(content='我的问题是1.8和1.11谁大？', additional_kwargs={}, response_metadata={})]\n",
      "<class 'langchain_core.prompt_values.ChatPromptValue'>\n"
     ]
    }
   ],
   "execution_count": 10
  },
  {
   "metadata": {},
   "cell_type": "markdown",
   "source": "如何实现ChatPromptValue与list[Messages]的相互转换？",
   "id": "d982eb8a3fb0940b"
  },
  {
   "metadata": {
    "ExecuteTime": {
     "end_time": "2025-09-28T12:22:49.194925Z",
     "start_time": "2025-09-28T12:22:49.179925Z"
    }
   },
   "cell_type": "code",
   "source": [
    "from langchain_core.prompts import ChatPromptTemplate\n",
    "\n",
    "chat_prompt_template = ChatPromptTemplate.from_messages(\n",
    "\t[\n",
    "\t\t(\"system\", \"你是一个AI助手，帮助用户回答问题。你的名字叫{name}\"),\n",
    "\t\t(\"user\", \"我的问题是{question}\"),\n",
    "\n",
    "\t],\n",
    "\n",
    ")\n",
    "response = chat_prompt_template.format_prompt(name=\"小智\", question=\"1.8和1.11谁大？\")\n",
    "print(response)\n",
    "print(type(response))\n",
    "print()\n",
    "# 将PromptValue转换为list[Messages]\n",
    "print(response.to_messages())\n",
    "print(type(response.to_messages()))\n",
    "print()\n",
    "# 将PromptValue转换为字符串\n",
    "print(response.to_string())\n",
    "print(type(response.to_string()))"
   ],
   "id": "c343ad33d5d3f968",
   "outputs": [
    {
     "name": "stdout",
     "output_type": "stream",
     "text": [
      "messages=[SystemMessage(content='你是一个AI助手，帮助用户回答问题。你的名字叫小智', additional_kwargs={}, response_metadata={}), HumanMessage(content='我的问题是1.8和1.11谁大？', additional_kwargs={}, response_metadata={})]\n",
      "<class 'langchain_core.prompt_values.ChatPromptValue'>\n",
      "\n",
      "[SystemMessage(content='你是一个AI助手，帮助用户回答问题。你的名字叫小智', additional_kwargs={}, response_metadata={}), HumanMessage(content='我的问题是1.8和1.11谁大？', additional_kwargs={}, response_metadata={})]\n",
      "<class 'list'>\n",
      "\n",
      "System: 你是一个AI助手，帮助用户回答问题。你的名字叫小智\n",
      "Human: 我的问题是1.8和1.11谁大？\n",
      "<class 'str'>\n"
     ]
    }
   ],
   "execution_count": 13
  },
  {
   "metadata": {},
   "cell_type": "markdown",
   "source": [
    "# 3、更丰富的实例化参数类型\n",
    "不管使用构造方法还是from_messages()方法，都可以使用多种类型的参数来定义消息，包括字符串、Message对象、MessageTemplate对象、MessagePlaceholder对象等。"
   ],
   "id": "eba7f3c17dfafcd1"
  },
  {
   "metadata": {
    "ExecuteTime": {
     "end_time": "2025-09-28T12:26:25.992637Z",
     "start_time": "2025-09-28T12:26:25.962643Z"
    }
   },
   "cell_type": "code",
   "source": [
    "from langchain_core.prompts import ChatPromptTemplate\n",
    "\n",
    "chat_prompt_template = ChatPromptTemplate.from_messages(\n",
    "\t[\n",
    "\t\t(\"system\", \"你是一个AI助手，帮助用户回答问题。你的名字叫{name}\"),\n",
    "\t\t(\"user\", \"我的问题是{question}\"),\n",
    "\n",
    "\t],\n",
    "\n",
    ")\n",
    "response = chat_prompt_template.invoke({\"name\": \"小智\", \"question\": \"1.8和1.11谁大？\"})\n"
   ],
   "id": "374c26ed927ba4ad",
   "outputs": [],
   "execution_count": 14
  }
 ],
 "metadata": {
  "kernelspec": {
   "display_name": "Python 3",
   "language": "python",
   "name": "python3"
  },
  "language_info": {
   "codemirror_mode": {
    "name": "ipython",
    "version": 2
   },
   "file_extension": ".py",
   "mimetype": "text/x-python",
   "name": "python",
   "nbconvert_exporter": "python",
   "pygments_lexer": "ipython2",
   "version": "2.7.6"
  }
 },
 "nbformat": 4,
 "nbformat_minor": 5
}
