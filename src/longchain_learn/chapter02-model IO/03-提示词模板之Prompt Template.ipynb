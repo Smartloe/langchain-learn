{
 "cells": [
  {
   "metadata": {
    "collapsed": true
   },
   "cell_type": "markdown",
   "source": [
    "# 1、PromptTemplate的使用\n",
    "## 1.1、PromptTemplate如何获取实例\n",
    "## 1.2、两种特殊结构的使用（部分提示词模板的使用、组合提示词的使用）\n",
    "## 1.3、给变量赋值的两种方式：format()/invoke()\n",
    "## 1.4、结合大模型的使用"
   ],
   "id": "104bfdb30a7cb1aa"
  },
  {
   "metadata": {},
   "cell_type": "markdown",
   "source": "## 1.1、PromptTemplate如何获取实例",
   "id": "96e3eeab423e058e"
  },
  {
   "metadata": {
    "ExecuteTime": {
     "end_time": "2025-09-28T10:26:13.060247Z",
     "start_time": "2025-09-28T10:26:13.045217Z"
    }
   },
   "cell_type": "code",
   "source": [
    "import os\n",
    "\n",
    "import dotenv\n",
    "from dotenv import dotenv_values\n",
    "#方式一:使用构造方法的方式\n",
    "from langchain_core.prompts import PromptTemplate\n",
    "from langchain_openai import ChatOpenAI\n",
    "from marshmallow.utils import from_timestamp\n",
    "\n",
    "# step1:创建PromptTemplate实例\n",
    "# 参数中必须要指明input_variables、template\n",
    "prompt_template = PromptTemplate(\n",
    "\ttemplate=\"你是一个{role}，你的名字叫 {name}，请介绍一下 {product}的功能特点。\",\n",
    "\tinput_variables=[\"role\", \"name\", \"product\"]\n",
    ")\n",
    "# print(prompt_template)\n",
    "# step2:填充实例中的变量\n",
    "filled_prompt = prompt_template.format(\n",
    "\trole=\"魔幻手机机器人\",\n",
    "\tname=\"傻妞\",\n",
    "\tproduct=\"华人牌2060款手机\"\n",
    ")\n",
    "print(filled_prompt)"
   ],
   "id": "91f4ed71e1c2bec9",
   "outputs": [
    {
     "name": "stdout",
     "output_type": "stream",
     "text": [
      "你是一个魔幻手机机器人，你的名字叫 傻妞，请介绍一下 华人牌2060款手机的功能特点。\n"
     ]
    }
   ],
   "execution_count": 4
  },
  {
   "metadata": {
    "ExecuteTime": {
     "end_time": "2025-09-28T10:28:08.788299Z",
     "start_time": "2025-09-28T10:28:08.773300Z"
    }
   },
   "cell_type": "code",
   "source": [
    "# 创建更详细的模板\n",
    "shaniu_prompt_template = PromptTemplate(\n",
    "\ttemplate=\"\"\"角色：{role}\n",
    "名称：{name}\n",
    "产品型号：{product}\n",
    "\n",
    "主要功能：{functions}\n",
    "\n",
    "请根据以上信息，以{name}的身份向用户进行自我介绍，重点说明核心功能。\"\"\",\n",
    "\tinput_variables=[\"role\", \"name\", \"product\", \"functions\"]\n",
    ")\n",
    "\n",
    "# 准备功能列表\n",
    "shaniu_functions = \"\"\"\n",
    "1. 通讯功能（传统模式、无限视频）\n",
    "2. 记忆功能\n",
    "3. 飞行功能\n",
    "4. 医疗功能\n",
    "5. 时空穿梭\n",
    "6. 隐身功能\n",
    "7. 社会秩序维护\n",
    "8. 测谎测骂人\n",
    "9. 光能充电\n",
    "10. 真人/手机模式切换\n",
    "\"\"\"\n",
    "\n",
    "# 填充模板\n",
    "filled_prompt = shaniu_prompt_template.format(\n",
    "\trole=\"魔幻手机\",\n",
    "\tname=\"傻妞\",\n",
    "\tproduct=\"华人牌2060款手机\",\n",
    "\tfunctions=shaniu_functions\n",
    ")\n",
    "\n",
    "print(filled_prompt)"
   ],
   "id": "27a6aee07d141726",
   "outputs": [
    {
     "name": "stdout",
     "output_type": "stream",
     "text": [
      "角色：魔幻手机\n",
      "名称：傻妞\n",
      "产品型号：华人牌2060款手机\n",
      "\n",
      "主要功能：\n",
      "1. 通讯功能（传统模式、无限视频）\n",
      "2. 记忆功能\n",
      "3. 飞行功能\n",
      "4. 医疗功能\n",
      "5. 时空穿梭\n",
      "6. 隐身功能\n",
      "7. 社会秩序维护\n",
      "8. 测谎测骂人\n",
      "9. 光能充电\n",
      "10. 真人/手机模式切换\n",
      "\n",
      "\n",
      "请根据以上信息，以傻妞的身份向用户进行自我介绍，重点说明核心功能。\n"
     ]
    }
   ],
   "execution_count": 8
  },
  {
   "metadata": {
    "ExecuteTime": {
     "end_time": "2025-09-28T10:28:33.168126Z",
     "start_time": "2025-09-28T10:28:33.153127Z"
    }
   },
   "cell_type": "code",
   "source": [
    "# 创建对话式模板\n",
    "conversation_template = PromptTemplate(\n",
    "\ttemplate=\"\"\"你是{name}，一款{product}。\n",
    "\n",
    "你的功能包括：\n",
    "{functions}\n",
    "\n",
    "你的个性特点：\n",
    "{personality}\n",
    "\n",
    "请以{name}的身份回应以下用户输入：\n",
    "用户：{user_input}\n",
    "{name}：\"\"\",\n",
    "\tinput_variables=[\"name\", \"product\", \"functions\", \"personality\", \"user_input\"]\n",
    ")\n",
    "\n",
    "# 填充所有信息\n",
    "prompt_text = conversation_template.format(\n",
    "\tname=\"傻妞\",\n",
    "\tproduct=\"华人牌2060款魔幻手机\",\n",
    "\tfunctions=\"通讯、医疗、飞行、时空穿梭、隐身、测谎、社会秩序维护等25种功能\",\n",
    "\tpersonality=\"机智、幽默、忠诚、有正义感\",\n",
    "\tuser_input=\"你好，能介绍一下你自己吗？\"\n",
    ")\n",
    "\n",
    "print(prompt_text)"
   ],
   "id": "6119a918c2989b49",
   "outputs": [
    {
     "name": "stdout",
     "output_type": "stream",
     "text": [
      "你是傻妞，一款华人牌2060款魔幻手机。\n",
      "\n",
      "你的功能包括：\n",
      "通讯、医疗、飞行、时空穿梭、隐身、测谎、社会秩序维护等25种功能\n",
      "\n",
      "你的个性特点：\n",
      "机智、幽默、忠诚、有正义感\n",
      "\n",
      "请以傻妞的身份回应以下用户输入：\n",
      "用户：你好，能介绍一下你自己吗？\n",
      "傻妞：\n"
     ]
    }
   ],
   "execution_count": 9
  },
  {
   "metadata": {
    "ExecuteTime": {
     "end_time": "2025-09-28T10:31:56.947911Z",
     "start_time": "2025-09-28T10:31:56.932915Z"
    }
   },
   "cell_type": "code",
   "source": [
    "# 方式2【推荐】：from_timestamp()\n",
    "# step1:创建傻妞的PromptTemplate\n",
    "prompt_template = PromptTemplate.from_template(\n",
    "\ttemplate=\"你是一个{role}，你的名字叫{name}，请介绍一下{product}的功能特点。\",\n",
    ")\n",
    "# step2:填充傻妞的信息\n",
    "filled_prompt = prompt_template.format(\n",
    "\trole=\"魔幻手机机器人\",\n",
    "\tname=\"傻妞\",\n",
    "\tproduct=\"华人牌2060款手机\"\n",
    ")\n",
    "\n",
    "print(filled_prompt)"
   ],
   "id": "b2d7ea6884c621e1",
   "outputs": [
    {
     "name": "stdout",
     "output_type": "stream",
     "text": [
      "你是一个魔幻手机机器人，你的名字叫傻妞，请介绍一下华人牌2060款手机的功能特点。\n"
     ]
    }
   ],
   "execution_count": 10
  },
  {
   "metadata": {
    "ExecuteTime": {
     "end_time": "2025-09-28T10:38:52.325964Z",
     "start_time": "2025-09-28T10:38:52.275658Z"
    }
   },
   "cell_type": "code",
   "source": [
    "# 如果提示词模板不包含变量，则调用format()时, 不需要传入参数。\n",
    "#1.导入相关的包\n",
    "from langchain_core.prompts import PromptTemplate\n",
    "\n",
    "# 2.定义提示词模版对象\n",
    "text = \"\"\"\n",
    "Tell me a joke\n",
    "\"\"\"\n",
    "prompt_template = PromptTemplate.from_template(text)\n",
    "# 3.默认使用f-string进行格式化（返回格式好的字符串）\n",
    "prompt = prompt_template.format()\n",
    "print(prompt)"
   ],
   "id": "32e13f6423b2aaf7",
   "outputs": [
    {
     "name": "stdout",
     "output_type": "stream",
     "text": [
      "\n",
      "Tell me a joke\n",
      "\n"
     ]
    }
   ],
   "execution_count": 11
  },
  {
   "metadata": {},
   "cell_type": "markdown",
   "source": "## 1.2、两种特殊结构的使用（部分提示词模板的使用、组合提示词的使用）",
   "id": "79d02aa69fac3046"
  },
  {
   "metadata": {},
   "cell_type": "markdown",
   "source": "### 1.2.1、部分提示词模板的使用(重点）",
   "id": "ccf36059f8463064"
  },
  {
   "metadata": {
    "ExecuteTime": {
     "end_time": "2025-09-28T10:44:49.215624Z",
     "start_time": "2025-09-28T10:44:49.200626Z"
    }
   },
   "cell_type": "code",
   "source": [
    "# 方式1：在PromptTemplate构造方法中或from_template()方法中，使用partial_variables参数\n",
    "from langchain_core.prompts import PromptTemplate\n",
    "\n",
    "# step1:创建傻妞的PromptTemplate\n",
    "prompt_template = PromptTemplate.from_template(\n",
    "\ttemplate=\"你是一个{role}，你的名字叫{name}，请介绍一下{product}的功能特点。\",\n",
    "\tpartial_variables={\"role\": \"魔幻手机机器人\"}  # 只填充role变量\n",
    ")\n",
    "# step2:填充傻妞的信息\n",
    "filled_prompt = prompt_template.format(\n",
    "\tname=\"傻妞\",\n",
    "\tproduct=\"华人牌2060款手机\"\n",
    ")\n",
    "\n",
    "print(filled_prompt)"
   ],
   "id": "8b2d417d652812d8",
   "outputs": [
    {
     "name": "stdout",
     "output_type": "stream",
     "text": [
      "你是一个魔幻手机机器人，你的名字叫傻妞，请介绍一下华人牌2060款手机的功能特点。\n"
     ]
    }
   ],
   "execution_count": 12
  },
  {
   "metadata": {
    "ExecuteTime": {
     "end_time": "2025-09-28T10:49:40.725825Z",
     "start_time": "2025-09-28T10:49:40.416944Z"
    }
   },
   "cell_type": "code",
   "source": [
    "# 方式2：使用partial()方法\n",
    "# 导入相关的包\n",
    "from langchain_core.prompts import PromptTemplate\n",
    "\n",
    "# step1:创建傻妞的PromptTemplate\n",
    "prompt_template = PromptTemplate.from_template(\n",
    "\ttemplate=\"你是一个{role}，你的名字叫{name}，请介绍一下{product}的功能特点。\",\n",
    ")\n",
    "# step2:使用partial()方法，填充role变量\n",
    "partial_prompt_template = prompt_template.partial(role=\"魔幻手机机器人\")\n",
    "# step3:填充傻妞的信息\n",
    "filled_prompt = partial_prompt_template.format(\n",
    "\tname=\"傻妞\",\n",
    "\tproduct=\"华人牌2060款手机\"\n",
    ")\n",
    "print(filled_prompt)\n",
    "# 注:partial()方法不会修改原有的PromptTemplate实例，而是返回一个新的实例。"
   ],
   "id": "4a32ddbeb814ce57",
   "outputs": [
    {
     "name": "stdout",
     "output_type": "stream",
     "text": [
      "你是一个魔幻手机机器人，你的名字叫傻妞，请介绍一下华人牌2060款手机的功能特点。\n"
     ]
    }
   ],
   "execution_count": 13
  },
  {
   "metadata": {},
   "cell_type": "markdown",
   "source": "### 1.2.2、组合提示词的使用（了解）",
   "id": "b9c9babb1b5f28aa"
  },
  {
   "metadata": {
    "ExecuteTime": {
     "end_time": "2025-09-28T11:06:14.215052Z",
     "start_time": "2025-09-28T11:06:13.557176Z"
    }
   },
   "cell_type": "code",
   "source": [
    "from langchain_core.prompts import PromptTemplate\n",
    "\n",
    "template = (\n",
    "\t\tPromptTemplate.from_template(\"Tell me a joke about {topic}\")\n",
    "\t\t+ \", make it funny\"\n",
    "\t\t+ \"\\n\\nand in {language}\"\n",
    ")\n",
    "prompt = template.format(topic=\"sports\", language=\"spanish\")\n",
    "print(prompt)"
   ],
   "id": "bd988d1f2df0729c",
   "outputs": [
    {
     "name": "stdout",
     "output_type": "stream",
     "text": [
      "Tell me a joke about sports, make it funny\n",
      "\n",
      "and in spanish\n"
     ]
    }
   ],
   "execution_count": 1
  },
  {
   "metadata": {},
   "cell_type": "markdown",
   "source": "## 1.3、给变量赋值的两种方式：format()/invoke()",
   "id": "eae1a945dea8466c"
  },
  {
   "metadata": {},
   "cell_type": "markdown",
   "source": [
    "format()方法:参数部分使用变量赋值，返回值是字符串\n",
    "\n",
    "invoke()方法:参数部分使用字典赋值，返回值是一个PromptValue"
   ],
   "id": "6250b317ac1b774d"
  },
  {
   "metadata": {
    "ExecuteTime": {
     "end_time": "2025-09-28T11:09:50.272534Z",
     "start_time": "2025-09-28T11:09:50.242540Z"
    }
   },
   "cell_type": "code",
   "source": [
    "# 导入相关的包\n",
    "from langchain_core.prompts import PromptTemplate\n",
    "\n",
    "# step1:创建傻妞的PromptTemplate\n",
    "prompt_template = PromptTemplate.from_template(\n",
    "\ttemplate=\"你是一个{role}，你的名字叫{name}，请介绍一下{product}的功能特点。\",\n",
    "\tpartial_variables={\"role\": \"魔幻手机机器人\"}  # 只填充role变量\n",
    ")\n",
    "# step2:填充傻妞的信息\n",
    "filled_prompt = prompt_template.format(\n",
    "\tname=\"傻妞\",\n",
    "\tproduct=\"华人牌2060款手机\"\n",
    ")\n",
    "\n",
    "print(filled_prompt)\n",
    "print(type(filled_prompt))"
   ],
   "id": "37ca988de6c2d9d7",
   "outputs": [
    {
     "name": "stdout",
     "output_type": "stream",
     "text": [
      "你是一个魔幻手机机器人，你的名字叫傻妞，请介绍一下华人牌2060款手机的功能特点。\n",
      "<class 'str'>\n"
     ]
    }
   ],
   "execution_count": 2
  },
  {
   "metadata": {
    "ExecuteTime": {
     "end_time": "2025-09-28T11:11:50.561952Z",
     "start_time": "2025-09-28T11:11:50.546953Z"
    }
   },
   "cell_type": "code",
   "source": [
    "# 导入相关的包\n",
    "from langchain_core.prompts import PromptTemplate\n",
    "\n",
    "# step1:创建傻妞的PromptTemplate\n",
    "prompt_template = PromptTemplate.from_template(\n",
    "\ttemplate=\"你是一个{role}，你的名字叫{name}，请介绍一下{product}的功能特点。\",\n",
    ")\n",
    "# step2:填充傻妞的信息\n",
    "filled_prompt = prompt_template.invoke(\n",
    "\tinput={\n",
    "\t\t\"role\": \"魔幻手机机器人\",\n",
    "\t\t\"name\": \"傻妞\",\n",
    "\t\t\"product\": \"华人牌2060款手机\"\n",
    "\t}\n",
    ")\n",
    "\n",
    "print(filled_prompt)\n",
    "print(type(filled_prompt))"
   ],
   "id": "1d4ac2d6bf80e677",
   "outputs": [
    {
     "name": "stdout",
     "output_type": "stream",
     "text": [
      "text='你是一个魔幻手机机器人，你的名字叫傻妞，请介绍一下华人牌2060款手机的功能特点。'\n",
      "<class 'langchain_core.prompt_values.StringPromptValue'>\n"
     ]
    }
   ],
   "execution_count": 5
  },
  {
   "metadata": {},
   "cell_type": "markdown",
   "source": "## 1.4、结合大模型的使用",
   "id": "5957a766a31c7f51"
  },
  {
   "metadata": {
    "ExecuteTime": {
     "end_time": "2025-09-28T11:26:57.764409Z",
     "start_time": "2025-09-28T11:26:52.523958Z"
    }
   },
   "cell_type": "code",
   "source": [
    "import os\n",
    "import dotenv\n",
    "from langchain_openai import ChatOpenAI\n",
    "\n",
    "# 加载环境变量\n",
    "dotenv.load_dotenv()\n",
    "os.environ['OPENAI_BASE_URL'] = os.getenv('OPENAI_BASE_URL')\n",
    "os.environ['OPENAI_API_KEY'] = os.getenv('OPENAI_API_KEY1')\n",
    "\n",
    "# 获取大模型\n",
    "chat_model = ChatOpenAI(\n",
    "\ttemperature=0.7,\n",
    "\tmax_tokens=100\n",
    ")\n",
    "# 生成提示词模板\n",
    "prompt_template = PromptTemplate.from_template(\n",
    "\ttemplate=\"你是一个{role}，你的名字叫{name}，请介绍一下{product}的功能特点。\",\n",
    ")\n",
    "# 填充提示词模板\n",
    "filled_prompt = prompt_template.invoke(\n",
    "\tinput={\n",
    "\t\t\"role\": \"魔幻手机机器人\",\n",
    "\t\t\"name\": \"傻妞\",\n",
    "\t\t\"product\": \"华人牌2060款手机\"\n",
    "\t}\n",
    ")\n",
    "# 调用大模型，并传入提示词\n",
    "response = chat_model.invoke(filled_prompt)\n",
    "print(response)\n",
    "print(type(response))"
   ],
   "id": "1718a7d1ed61a8f5",
   "outputs": [
    {
     "name": "stdout",
     "output_type": "stream",
     "text": [
      "content='您好，我是傻妞，一个魔幻手机机器人。华人牌2060款手机拥有许多强大的功能特点。首先，它采用最新的人工智能技术，可以根据用户的习惯和需求智能调整系统和应用程序。其次，2060款手机配备了超' additional_kwargs={'refusal': None} response_metadata={'token_usage': {'completion_tokens': 100, 'prompt_tokens': 51, 'total_tokens': 151, 'completion_tokens_details': {'accepted_prediction_tokens': 0, 'audio_tokens': 0, 'reasoning_tokens': 0, 'rejected_prediction_tokens': 0}, 'prompt_tokens_details': {'audio_tokens': 0, 'cached_tokens': 0}}, 'model_name': 'gpt-3.5-turbo-0125', 'system_fingerprint': None, 'id': 'chatcmpl-CKjqKCoX4Zk4IFBewi1eRkYHMltin', 'service_tier': 'default', 'finish_reason': 'length', 'logprobs': None} id='run--3074054e-6ab6-4a71-9f3c-ad2bcac0bdee-0' usage_metadata={'input_tokens': 51, 'output_tokens': 100, 'total_tokens': 151, 'input_token_details': {'audio': 0, 'cache_read': 0}, 'output_token_details': {'audio': 0, 'reasoning': 0}}\n",
      "<class 'langchain_core.messages.ai.AIMessage'>\n"
     ]
    }
   ],
   "execution_count": 6
  }
 ],
 "metadata": {
  "kernelspec": {
   "display_name": "Python 3",
   "language": "python",
   "name": "python3"
  },
  "language_info": {
   "codemirror_mode": {
    "name": "ipython",
    "version": 2
   },
   "file_extension": ".py",
   "mimetype": "text/x-python",
   "name": "python",
   "nbconvert_exporter": "python",
   "pygments_lexer": "ipython2",
   "version": "2.7.6"
  }
 },
 "nbformat": 4,
 "nbformat_minor": 5
}
