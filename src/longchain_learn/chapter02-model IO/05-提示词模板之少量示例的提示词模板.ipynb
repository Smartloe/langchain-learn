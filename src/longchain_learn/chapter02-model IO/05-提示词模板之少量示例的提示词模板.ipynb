{
 "cells": [
  {
   "metadata": {
    "collapsed": true
   },
   "cell_type": "markdown",
   "source": [
    "# 少量样本示例的提示词模板\n",
    "- FewShotPromptTemplate:与PromptTemplate一起使用\n",
    "- FewShotChatMessagePromptTemplate:与ChatPromptTemplate一起使用\n",
    "- Example selectors(示例选择器):"
   ],
   "id": "cfb80be3387e4c47"
  },
  {
   "metadata": {},
   "cell_type": "markdown",
   "source": "## 1、 FewShotPromptTemplate的使用\n",
   "id": "b6d4f09503c5b2b4"
  },
  {
   "metadata": {
    "ExecuteTime": {
     "end_time": "2025-09-28T16:53:02.837361Z",
     "start_time": "2025-09-28T16:52:54.905394Z"
    }
   },
   "cell_type": "code",
   "source": [
    "# 举例1:未提供示例的情况\n",
    "import os\n",
    "import dotenv\n",
    "from langchain_openai import ChatOpenAI\n",
    "\n",
    "dotenv.load_dotenv()\n",
    "os.environ['OPENAI_API_KEY'] = os.getenv(\"OPENAI_API_KEY1\")\n",
    "os.environ['OPENAI_BASE_URL'] = os.getenv(\"OPENAI_BASE_URL\")\n",
    "chat_model = ChatOpenAI(model=\"gpt-4o-mini\",\n",
    "                        temperature=0.4)\n",
    "res = chat_model.invoke(\"2 🦜 9是多少?\")\n",
    "print(res.content)"
   ],
   "id": "b74ce94b2e1dfc99",
   "outputs": [
    {
     "name": "stdout",
     "output_type": "stream",
     "text": [
      "2 🦜 9 的意思可能不太明确。如果你是在问数学运算，通常我们会用加、减、乘、除等符号。如果你能提供更多的上下文或说明，我会更好地帮助你。\n"
     ]
    }
   ],
   "execution_count": 3
  },
  {
   "metadata": {
    "ExecuteTime": {
     "end_time": "2025-09-28T17:09:32.403731Z",
     "start_time": "2025-09-28T17:09:30.049158Z"
    }
   },
   "cell_type": "code",
   "source": [
    "# 举例2：使用FewShotPromptTemplate，提供少量示例\n",
    "from langchain_core.prompts import FewShotPromptTemplate, PromptTemplate\n",
    "import os\n",
    "import dotenv\n",
    "from langchain_openai import ChatOpenAI\n",
    "\n",
    "dotenv.load_dotenv()\n",
    "os.environ['OPENAI_API_KEY'] = os.getenv(\"OPENAI_API_KEY1\")\n",
    "os.environ['OPENAI_BASE_URL'] = os.getenv(\"OPENAI_BASE_URL\")\n",
    "chat_model = ChatOpenAI(model=\"gpt-4o-mini\",\n",
    "                        temperature=0.4)\n",
    "\n",
    "# 创建一个PromptTemplate的实例\n",
    "example_prompt = PromptTemplate.from_template(\n",
    "\ttemplate=\"input：{input}\\noutput：{output}\\n\",\n",
    ")\n",
    "# 提供一些示例\n",
    "examples = [\n",
    "\t{\"input\": \"北京天气怎么样\", \"output\": \"北京市\"},\n",
    "\t{\"input\": \"南京下雨吗\", \"output\": \"南京市\"},\n",
    "\t{\"input\": \"武汉热吗\", \"output\": \"武汉市\"}\n",
    "]\n",
    "\n",
    "# 创建FewShotPromptTemplate的实例\n",
    "few_short_template = FewShotPromptTemplate(\n",
    "\texample_prompt=example_prompt,\n",
    "\texamples=examples,\n",
    "\tsuffix=\"input：{input}\\noutput\\n\",  #声明在示例后面的提示词模板\n",
    "\tinput_variables=[\"input\"],  # 声明需要填充的变量\n",
    ")\n",
    "\n",
    "# 结合大模型，生成内容\n",
    "response = chat_model.invoke(few_short_template.invoke(\n",
    "\t{\n",
    "\t\t\"input\": \"上海天气怎么样\"\n",
    "\t}\n",
    "))\n",
    "print(response.content)\n",
    "print(response)"
   ],
   "id": "cc9b34058a5eff63",
   "outputs": [
    {
     "name": "stdout",
     "output_type": "stream",
     "text": [
      "：上海市\n",
      "content='：上海市' additional_kwargs={'refusal': None} response_metadata={'token_usage': {'completion_tokens': 4, 'prompt_tokens': 48, 'total_tokens': 52, 'completion_tokens_details': {'accepted_prediction_tokens': 0, 'audio_tokens': 0, 'reasoning_tokens': 0, 'rejected_prediction_tokens': 0}, 'prompt_tokens_details': {'audio_tokens': 0, 'cached_tokens': 0}}, 'model_name': 'gpt-4o-mini-2024-07-18', 'system_fingerprint': 'fp_efad92c60b', 'id': 'chatcmpl-CKpBqywhvxSlL7Yo12tKK0jBkGb8C', 'service_tier': None, 'finish_reason': 'stop', 'logprobs': None} id='run--bf83c444-30e9-44dd-8696-0a673846c776-0' usage_metadata={'input_tokens': 48, 'output_tokens': 4, 'total_tokens': 52, 'input_token_details': {'audio': 0, 'cache_read': 0}, 'output_token_details': {'audio': 0, 'reasoning': 0}}\n"
     ]
    }
   ],
   "execution_count": 11
  },
  {
   "metadata": {
    "ExecuteTime": {
     "end_time": "2025-09-28T17:10:51.974599Z",
     "start_time": "2025-09-28T17:10:49.695384Z"
    }
   },
   "cell_type": "code",
   "source": [
    "# 举例3\n",
    "\n",
    "#1、创建提示模板\n",
    "from langchain.prompts import PromptTemplate\n",
    "\n",
    "# 创建提示模板，配置一个提示模板，将一个示例格式化为字符串\n",
    "prompt_template = \"你是一个数学专家,算式： {input} 值： {output} 使用： {description} \"\n",
    "# 这是一个提示模板，用于设置每个示例的格式\n",
    "prompt_sample = PromptTemplate.from_template(prompt_template)\n",
    "#2、提供示例\n",
    "examples = [\n",
    "\t{\"input\": \"2+2\", \"output\": \"4\", \"description\": \"加法运算\"},\n",
    "\t{\"input\": \"5-2\", \"output\": \"3\", \"description\": \"减法运算\"},\n",
    "]\n",
    "#3、创建一个FewShotPromptTemplate对象\n",
    "from langchain.prompts.few_shot import FewShotPromptTemplate\n",
    "\n",
    "prompt = FewShotPromptTemplate(\n",
    "\texamples=examples,\n",
    "\texample_prompt=prompt_sample,\n",
    "\tsuffix=\"你是一个数学专家,算式: {input} 值: {output}\",\n",
    "\tinput_variables=[\"input\", \"output\"]\n",
    ")\n",
    "print(prompt.invoke({\"input\": \"2*5\", \"output\": \"10\"}))\n",
    "#4、初始化大模型，然后调用\n",
    "import os\n",
    "import dotenv\n",
    "from langchain_openai import ChatOpenAI\n",
    "\n",
    "dotenv.load_dotenv()\n",
    "os.environ['OPENAI_API_KEY'] = os.getenv(\"OPENAI_API_KEY1\")\n",
    "os.environ['OPENAI_BASE_URL'] = os.getenv(\"OPENAI_BASE_URL\")\n",
    "chat_model = ChatOpenAI(model=\"gpt-4o-mini\")\n",
    "result = chat_model.invoke(prompt.invoke({\"input\": \"2*5\", \"output\": \"10\"}))\n",
    "print(result.content)  # 使用: 乘法运算"
   ],
   "id": "e839ab6a171af483",
   "outputs": [
    {
     "name": "stdout",
     "output_type": "stream",
     "text": [
      "text='你是一个数学专家,算式： 2+2 值： 4 使用： 加法运算 \\n\\n你是一个数学专家,算式： 5-2 值： 3 使用： 减法运算 \\n\\n你是一个数学专家,算式: 2*5 值: 10'\n",
      "使用： 乘法运算 \n",
      "\n",
      "你是一个数学专家,算式: 15/3 值: 5 使用： 除法运算 \n",
      "\n",
      "如果有其他数学问题或算式需要计算，请随时告诉我！\n"
     ]
    }
   ],
   "execution_count": 12
  }
 ],
 "metadata": {
  "kernelspec": {
   "display_name": "Python 3",
   "language": "python",
   "name": "python3"
  },
  "language_info": {
   "codemirror_mode": {
    "name": "ipython",
    "version": 2
   },
   "file_extension": ".py",
   "mimetype": "text/x-python",
   "name": "python",
   "nbconvert_exporter": "python",
   "pygments_lexer": "ipython2",
   "version": "2.7.6"
  }
 },
 "nbformat": 4,
 "nbformat_minor": 5
}
