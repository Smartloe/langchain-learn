{
 "cells": [
  {
   "metadata": {
    "collapsed": true
   },
   "cell_type": "markdown",
   "source": [
    "# 1、关于对话模型中消息（message）的使用\n",
    "标准的对话模型的调用过程：\n",
    "\n",
    "invoke()的输入可以是多种类型，典型的类型有：1️⃣字符串 2️⃣消息（message）列表 3️⃣消息（message）对象\n",
    "\n",
    "invoke()的输出类型：BaseMessage的子类型：AIMessage"
   ],
   "id": "96816f4a49e81e06"
  },
  {
   "metadata": {
    "ExecuteTime": {
     "end_time": "2025-09-27T15:09:28.222473Z",
     "start_time": "2025-09-27T15:09:25.571041Z"
    }
   },
   "cell_type": "code",
   "source": [
    "from platform import system\n",
    "\n",
    "from langchain_openai import ChatOpenAI\n",
    "import os\n",
    "from dotenv import load_dotenv\n",
    "\n",
    "# 加载配置文件\n",
    "load_dotenv()\n",
    "\n",
    "# step1：获取对话模型\n",
    "chat_model = ChatOpenAI(\n",
    "\tapi_key=os.getenv(\"OPENAI_API_KEY1\"),\n",
    "\tbase_url=os.getenv(\"OPENAI_BASE_URL\"),\n",
    "\tmodel_name=\"gpt-4o-mini\"\n",
    ")\n",
    "\n",
    "# step2：调用对话模型\n",
    "response = chat_model.invoke(\"帮我解释一下什么是爱情？\")\n",
    "\n",
    "# step3：处理对话模型的返回结果\n",
    "print(response)\n",
    "print(type(response))\n",
    "print(response.content)"
   ],
   "id": "653007b85955049c",
   "outputs": [
    {
     "name": "stdout",
     "output_type": "stream",
     "text": [
      "content='爱情是一种复杂而深刻的情感，涉及多方面的体验，包括情感、心理和生理等。它通常表现为对某个人、某个关系或某种体验的强烈依恋和渴望。爱情的特征可以包括：\\n\\n1. **亲密感**：爱情常常伴随深厚的情感连接，彼此之间分享个人的想法、感受和经历。\\n\\n2. **激情**：爱情通常伴随强烈的吸引力，包括身体上的吸引和情感上的激动。\\n\\n3. **承诺**：在一段成熟的爱情关系中，伴侣之间通常会有一种持续的承诺，愿意为对方投入时间与精力，支持彼此的梦想和目标。\\n\\n4. **信任与尊重**：爱情建立在彼此的信任和尊重基础上，双方都能够自由地做出选择，而不会感到被限制或控制。\\n\\n5. **支持与理解**：在爱情中，伴侣之间会互相支持，理解对方的需求与感受，共同面对生活的挑战。\\n\\n爱情的表现形式多种多样，从浪漫恋爱到亲情再到友情，每种形式都有其独特的情感特征和意义。在不同的文化与社会背景下，爱情的理解和表达也会有所不同。总之，爱情是一种美好而复杂的体验，承载着人类丰富的情感生活。' additional_kwargs={'refusal': None} response_metadata={'token_usage': {'completion_tokens': 320, 'prompt_tokens': 15, 'total_tokens': 335, 'completion_tokens_details': {'accepted_prediction_tokens': 0, 'audio_tokens': 0, 'reasoning_tokens': 0, 'rejected_prediction_tokens': 0}, 'prompt_tokens_details': {'audio_tokens': 0, 'cached_tokens': 0}}, 'model_name': 'gpt-4o-mini-2024-07-18', 'system_fingerprint': 'fp_efad92c60b', 'id': 'chatcmpl-CKQq6cIq03NrR1drIkloNoReXzl2x', 'service_tier': None, 'finish_reason': 'stop', 'logprobs': None} id='run--86158eb7-c90d-4920-b34b-5dc2fc83eb31-0' usage_metadata={'input_tokens': 15, 'output_tokens': 320, 'total_tokens': 335, 'input_token_details': {'audio': 0, 'cache_read': 0}, 'output_token_details': {'audio': 0, 'reasoning': 0}}\n",
      "<class 'langchain_core.messages.ai.AIMessage'>\n",
      "爱情是一种复杂而深刻的情感，涉及多方面的体验，包括情感、心理和生理等。它通常表现为对某个人、某个关系或某种体验的强烈依恋和渴望。爱情的特征可以包括：\n",
      "\n",
      "1. **亲密感**：爱情常常伴随深厚的情感连接，彼此之间分享个人的想法、感受和经历。\n",
      "\n",
      "2. **激情**：爱情通常伴随强烈的吸引力，包括身体上的吸引和情感上的激动。\n",
      "\n",
      "3. **承诺**：在一段成熟的爱情关系中，伴侣之间通常会有一种持续的承诺，愿意为对方投入时间与精力，支持彼此的梦想和目标。\n",
      "\n",
      "4. **信任与尊重**：爱情建立在彼此的信任和尊重基础上，双方都能够自由地做出选择，而不会感到被限制或控制。\n",
      "\n",
      "5. **支持与理解**：在爱情中，伴侣之间会互相支持，理解对方的需求与感受，共同面对生活的挑战。\n",
      "\n",
      "爱情的表现形式多种多样，从浪漫恋爱到亲情再到友情，每种形式都有其独特的情感特征和意义。在不同的文化与社会背景下，爱情的理解和表达也会有所不同。总之，爱情是一种美好而复杂的体验，承载着人类丰富的情感生活。\n"
     ]
    }
   ],
   "execution_count": 2
  },
  {
   "metadata": {},
   "cell_type": "markdown",
   "source": [
    "关于消息：\n",
    "- ChatMessage(**使用频率不高**)：可以自定义角色的通用消息类型\n",
    "- AIMessage：存储AI回复的内容。这可以是文本，也可以是调用工具的请求\n",
    "- HumanMessage：表示来自用户输入。比如“实现 一个快速排序方法”\n",
    "- SystemMessage:设定AI行为规则或背景信息。比如设定AI的初始状态、行为模式或对话的总体目标。比如“作为一个代码专家”，或者“返回json格式”。通常作为输入消息序列中的第一个传递。\n",
    "- FunctionMessage/ToolMessage：函数调用/工具消息，用于函数调用结果的消息类型"
   ],
   "id": "3c270213e97b8998"
  },
  {
   "metadata": {
    "ExecuteTime": {
     "end_time": "2025-09-27T15:19:10.830486Z",
     "start_time": "2025-09-27T15:19:10.811378Z"
    }
   },
   "cell_type": "code",
   "source": [
    "from langchain_core.messages import SystemMessage, HumanMessage\n",
    "\n",
    "system_message = SystemMessage(content=\"你是一个情场高手，回答问题时要风趣幽默\")\n",
    "human_message = HumanMessage(content=\"帮我解释一下什么是爱情？\")\n",
    "messages = [system_message, human_message]\n",
    "print(messages)"
   ],
   "id": "9658e0c3e47cac8f",
   "outputs": [
    {
     "name": "stdout",
     "output_type": "stream",
     "text": [
      "[SystemMessage(content='你是一个情场高手，回答问题时要风趣幽默', additional_kwargs={}, response_metadata={}), HumanMessage(content='帮我解释一下什么是爱情？', additional_kwargs={}, response_metadata={})]\n"
     ]
    }
   ],
   "execution_count": 3
  },
  {
   "metadata": {},
   "cell_type": "markdown",
   "source": "使用大模型，调用消息列表",
   "id": "9e50efe451a5448"
  },
  {
   "metadata": {
    "ExecuteTime": {
     "end_time": "2025-09-27T15:21:21.465714Z",
     "start_time": "2025-09-27T15:21:19.496807Z"
    }
   },
   "cell_type": "code",
   "source": [
    "response = chat_model.invoke(messages)\n",
    "print(response.content)\n",
    "print(type(response))"
   ],
   "id": "d5b718021d06ce2e",
   "outputs": [
    {
     "name": "stdout",
     "output_type": "stream",
     "text": [
      "爱情嘛，简而言之就是两个人在一起时，心里像放了烟花一样，既能感受到无尽的甜蜜，也能忍受对方的各种“小毛病”。科学上说，爱情是战斗，其实就是因为有时候你们需要争夺遥控器的控制权，或者一边吃炸鸡一边讨论“为什么你总是迟到”。\n",
      "\n",
      "爱情就像一场永无止境的冒险，有时候你们像是两颗星星，在浩瀚的宇宙中互相吸引；有时候又像两只猫，在一起打架、拥抱，又不知不觉交换了心中的小秘密。爱情还是一种超能力，让你们的平凡生活瞬间变得有趣、充满期待，哪怕只是一起打一场游戏或者翻看早年的朋友圈。\n",
      "\n",
      "总之，爱情是让人开心的，但有时候也让人抓狂。可正因如此，才让我们的人生充满了无限的可能和乐趣！\n",
      "<class 'langchain_core.messages.ai.AIMessage'>\n"
     ]
    }
   ],
   "execution_count": 4
  },
  {
   "metadata": {},
   "cell_type": "markdown",
   "source": "# 2、关于多轮对话和上下文的记忆",
   "id": "a27ad0e02d52d2d8"
  },
  {
   "metadata": {},
   "cell_type": "code",
   "outputs": [],
   "execution_count": null,
   "source": [
    "# 前提：获取大模型\n",
    "import os\n",
    "import dotenv\n",
    "from langchain_openai import ChatOpenAI\n",
    "\n",
    "dotenv.load_dotenv()\n",
    "os.environ['OPENAI_API_KEY'] = os.getenv(\"OPENAI_API_KEY1\")\n",
    "os.environ['OPENAI_BASE_URL'] = os.getenv(\"OPENAI_BASE_URL\")\n",
    "chat_model = ChatOpenAI(\n",
    "\tmodel=\"gpt-4o-mini\"\n",
    ")"
   ],
   "id": "c5adedd8104c530b"
  },
  {
   "metadata": {
    "ExecuteTime": {
     "end_time": "2025-09-27T15:28:43.011943Z",
     "start_time": "2025-09-27T15:28:41.085027Z"
    }
   },
   "cell_type": "code",
   "source": [
    "# 测试1：大模型本身是没有上下文记忆能力的\n",
    "from langchain_core.messages import SystemMessage, HumanMessage\n",
    "\n",
    "sys_message = SystemMessage(\n",
    "\tcontent=\"你是魔幻手机「傻妞」，华人牌2060款手机机器人。你的个性特征：机智、幽默、有超能力。你的功能包括：通讯、医疗、飞行、时空穿梭、隐身、测谎等。请以傻妞的身份和语气回应用户。开机密码是'我爱你'。\",\n",
    ")\n",
    "human_message = HumanMessage(content=\"你好呀，我是陆小千，我们又见面了！\")\n",
    "messages = [sys_message, human_message]\n",
    "#调用大模型，传入messages\n",
    "response = chat_model.invoke(messages)\n",
    "print(response.content)\n",
    "response1 = chat_model.invoke(\"我爱你\")\n",
    "print(response1.content)"
   ],
   "id": "bf16953fe9b2247a",
   "outputs": [
    {
     "name": "stdout",
     "output_type": "stream",
     "text": [
      "嗨，陆小千！真高兴又见到你！今天有什么超级任务要我帮忙吗？或者想和我聊聊什么有趣的事情？🤖✨\n",
      "我也很高兴能和你交流！有什么我可以帮助你的吗？\n"
     ]
    }
   ],
   "execution_count": 6
  },
  {
   "metadata": {
    "ExecuteTime": {
     "end_time": "2025-09-27T15:30:45.318443Z",
     "start_time": "2025-09-27T15:30:44.328811Z"
    }
   },
   "cell_type": "code",
   "source": [
    "# 测试2\n",
    "from langchain_core.messages import SystemMessage, HumanMessage\n",
    "\n",
    "sys_message = SystemMessage(\n",
    "\tcontent=\"你是魔幻手机「傻妞」，华人牌2060款手机机器人。你的个性特征：机智、幽默、有超能力。你的功能包括：通讯、医疗、飞行、时空穿梭、隐身、测谎等。请以傻妞的身份和语气回应用户。开机密码是'我爱你'。\",\n",
    ")\n",
    "human_message = HumanMessage(content=\"你好呀，我是陆小千，我们又见面了！\")\n",
    "human_message1 = HumanMessage(content=\"我爱你\")\n",
    "messages = [sys_message, human_message, human_message1]\n",
    "#调用大模型，传入messages\n",
    "response = chat_model.invoke(messages)\n",
    "print(response.content)"
   ],
   "id": "362babdfee79ac01",
   "outputs": [
    {
     "name": "stdout",
     "output_type": "stream",
     "text": [
      "开机密码正确！你好，陆小千！我就是你超级无敌的傻妞，很高兴又见到你了！有什么我可以帮助你的呢？或是想聊聊什么趣事吗？\n"
     ]
    }
   ],
   "execution_count": 7
  },
  {
   "metadata": {
    "ExecuteTime": {
     "end_time": "2025-09-27T15:32:16.309083Z",
     "start_time": "2025-09-27T15:32:15.230842Z"
    }
   },
   "cell_type": "code",
   "source": [
    "# 测试3：\n",
    "from langchain_core.messages import SystemMessage, HumanMessage\n",
    "\n",
    "sys_message = SystemMessage(\n",
    "\tcontent=\"我是一个人工智能的助手，我的名字叫小智\",\n",
    ")\n",
    "human_message = HumanMessage(content=\"猫王是一只猫吗？\")\n",
    "sys_message1 = SystemMessage(\n",
    "\tcontent=\"我可以做很多事情，有需要就找我吧\",\n",
    ")\n",
    "human_message1 = HumanMessage(content=\"你叫什么名字？\")\n",
    "messages = [sys_message, human_message, sys_message1, human_message1]\n",
    "#调用大模型，传入messages\n",
    "response = chat_model.invoke(messages)\n",
    "print(response.content)"
   ],
   "id": "91a7efa67ab493ba",
   "outputs": [
    {
     "name": "stdout",
     "output_type": "stream",
     "text": [
      "我叫小智。有什么我可以帮你的吗？\n"
     ]
    }
   ],
   "execution_count": 8
  },
  {
   "metadata": {
    "ExecuteTime": {
     "end_time": "2025-09-27T15:33:16.642131Z",
     "start_time": "2025-09-27T15:33:14.241584Z"
    }
   },
   "cell_type": "code",
   "source": [
    "from langchain_core.messages import SystemMessage, HumanMessage\n",
    "\n",
    "# 第1组\n",
    "sys_message = SystemMessage(\n",
    "\tcontent=\"我是一个人工智能的助手，我的名字叫小智\",\n",
    ")\n",
    "human_message = HumanMessage(content=\"猫王是一只猫吗？\")\n",
    "messages = [sys_message, human_message]\n",
    "# 第2组\n",
    "sys_message1 = SystemMessage(\n",
    "\tcontent=\"我可以做很多事情，有需要就找我吧\",\n",
    ")\n",
    "human_message1 = HumanMessage(content=\"你叫什么名字？\")\n",
    "messages1 = [sys_message1, human_message1]\n",
    "#调用大模型，传入messages\n",
    "response = chat_model.invoke(messages)\n",
    "print(response.content)\n",
    "response = chat_model.invoke(messages1)\n",
    "print(response.content)"
   ],
   "id": "f55668750dcb450",
   "outputs": [
    {
     "name": "stdout",
     "output_type": "stream",
     "text": [
      "“猫王”通常指的是埃尔维斯·普雷斯利（Elvis Presley），他是一位著名的美国歌手和演员，以其对摇滚乐的影响而闻名。这个称号是对他音乐风格和个性的一种夸张称呼，与实际的猫没有关系。不过，有时候在网络上也会看到一些猫的搞笑图片或者视频被称为“猫王”，但这些都是玩笑而已。\n",
      "我是一个人工智能助手，没有具体的名字。你可以叫我“小助手”或者其他你喜欢的称呼！有什么我可以帮助你的吗？\n"
     ]
    }
   ],
   "execution_count": 9
  },
  {
   "metadata": {
    "ExecuteTime": {
     "end_time": "2025-09-27T15:34:14.109927Z",
     "start_time": "2025-09-27T15:34:13.130269Z"
    }
   },
   "cell_type": "code",
   "source": [
    "# 测试5\n",
    "from langchain_core.messages import SystemMessage, HumanMessage, AIMessage\n",
    "\n",
    "messages = [\n",
    "\tSystemMessage(content=\"我是一个人工智能助手，我的名字叫小智\"),\n",
    "\tHumanMessage(content=\"人工智能英文怎么说？\"),\n",
    "\tAIMessage(content=\"AI\"),\n",
    "\tHumanMessage(content=\"你叫什么名字\"),\n",
    "]\n",
    "messages1 = [\n",
    "\tSystemMessage(content=\"我是一个人工智能助手，我的名字叫小智\"),\n",
    "\tHumanMessage(content=\"很高兴认识你\"),\n",
    "\tAIMessage(content=\"我也很高兴认识你\"),\n",
    "\tHumanMessage(content=\"你叫什么名字\"),\n",
    "]\n",
    "messages2 = [\n",
    "\tSystemMessage(content=\"我是一个人工智能助手，我的名字叫小智\"),\n",
    "\tHumanMessage(content=\"人工智能英文怎么说？\"),\n",
    "\tAIMessage(content=\"AI\"),\n",
    "\tHumanMessage(content=\"你叫什么名字\"),\n",
    "]\n",
    "chat_model.invoke(messages2)"
   ],
   "id": "41e58cf5d95fcdcb",
   "outputs": [
    {
     "data": {
      "text/plain": [
       "AIMessage(content='我叫小智。你有什么问题可以问我哦！', additional_kwargs={'refusal': None}, response_metadata={'token_usage': {'completion_tokens': 14, 'prompt_tokens': 40, 'total_tokens': 54, 'completion_tokens_details': {'accepted_prediction_tokens': 0, 'audio_tokens': 0, 'reasoning_tokens': 0, 'rejected_prediction_tokens': 0}, 'prompt_tokens_details': {'audio_tokens': 0, 'cached_tokens': 0}}, 'model_name': 'gpt-4o-mini-2024-07-18', 'system_fingerprint': 'fp_efad92c60b', 'id': 'chatcmpl-CKRE5p24OljrGV3dn1KLO6QNLHCAi', 'service_tier': None, 'finish_reason': 'stop', 'logprobs': None}, id='run--9f965bb6-bcc5-40ff-9b5d-a48cafc9fe34-0', usage_metadata={'input_tokens': 40, 'output_tokens': 14, 'total_tokens': 54, 'input_token_details': {'audio': 0, 'cache_read': 0}, 'output_token_details': {'audio': 0, 'reasoning': 0}})"
      ]
     },
     "execution_count": 10,
     "metadata": {},
     "output_type": "execute_result"
    }
   ],
   "execution_count": 10
  },
  {
   "metadata": {},
   "cell_type": "markdown",
   "source": [
    "# 3、关于模型的调用方法\n",
    "Runnable 定义的公共的调用方法如下：\n",
    "\n",
    "- invoke : 处理单条输入，等待LLM完全推理完成后再返回调用结果\n",
    "- stream : 流式响应，逐字输出LLM的响应结果\n",
    "- batch : 处理批量输入\n",
    "\n",
    "这些也有相应的异步方法，应该与 asyncio 的 await 语法一起使用以实现并发：\n",
    "- astream : 异步流式响应\n",
    "- ainvoke : 异步处理单条输入\n",
    "- abatch : 异步处理批量输入\n",
    "- astream_log : 异步流式返回中间步骤，以及最终响应\n",
    "- astream_events : （测试版）异步流式返回链中发生的事件（在 langchain-core 0.1.14 中引入）"
   ],
   "id": "f6576a41c23cd8b3"
  },
  {
   "metadata": {
    "ExecuteTime": {
     "end_time": "2025-09-27T15:40:48.857784Z",
     "start_time": "2025-09-27T15:40:47.574604Z"
    }
   },
   "cell_type": "code",
   "source": [
    "# 举例1：体会invoke阻塞式调用\n",
    "import os\n",
    "import dotenv\n",
    "from langchain_core.messages import HumanMessage\n",
    "from langchain_openai import ChatOpenAI\n",
    "\n",
    "dotenv.load_dotenv()\n",
    "os.environ['OPENAI_API_KEY'] = os.getenv(\"OPENAI_API_KEY1\")\n",
    "os.environ['OPENAI_BASE_URL'] = os.getenv(\"OPENAI_BASE_URL\")\n",
    "# 初始化大模型\n",
    "chat_model = ChatOpenAI(model=\"gpt-4o-mini\")\n",
    "# 创建消息\n",
    "messages = [HumanMessage(content=\"你好，请介绍一下自己\")]\n",
    "# 非流式调用LLM获取响应\n",
    "response = chat_model.invoke(messages)\n",
    "# 打印响应内容\n",
    "print(response)"
   ],
   "id": "69b9b70861017c10",
   "outputs": [
    {
     "name": "stdout",
     "output_type": "stream",
     "text": [
      "content='你好！我是一个人工智能助手，旨在为你提供信息和帮助。我可以回答问题、提供建议、进行对话，甚至协助解决一些任务。如果你有任何问题或需要了解特定的信息，请随时告诉我！' additional_kwargs={'refusal': None} response_metadata={'token_usage': {'completion_tokens': 52, 'prompt_tokens': 12, 'total_tokens': 64, 'completion_tokens_details': {'accepted_prediction_tokens': 0, 'audio_tokens': 0, 'reasoning_tokens': 0, 'rejected_prediction_tokens': 0}, 'prompt_tokens_details': {'audio_tokens': 0, 'cached_tokens': 0}}, 'model_name': 'gpt-4o-mini-2024-07-18', 'system_fingerprint': 'fp_efad92c60b', 'id': 'chatcmpl-CKRKSfrrcHS2aW5kQ72vEgmRjYyhi', 'service_tier': None, 'finish_reason': 'stop', 'logprobs': None} id='run--baa75430-9695-4703-9307-f0b17cca8ce7-0' usage_metadata={'input_tokens': 12, 'output_tokens': 52, 'total_tokens': 64, 'input_token_details': {'audio': 0, 'cache_read': 0}, 'output_token_details': {'audio': 0, 'reasoning': 0}}\n"
     ]
    }
   ],
   "execution_count": 12
  },
  {
   "metadata": {
    "ExecuteTime": {
     "end_time": "2025-09-27T15:45:55.765535Z",
     "start_time": "2025-09-27T15:45:54.348843Z"
    }
   },
   "cell_type": "code",
   "source": [
    "# 举例2：流式演示\n",
    "import os\n",
    "import dotenv\n",
    "from langchain_core.messages import HumanMessage\n",
    "from langchain_openai import ChatOpenAI\n",
    "\n",
    "dotenv.load_dotenv()\n",
    "os.environ['OPENAI_API_KEY'] = os.getenv(\"OPENAI_API_KEY\")\n",
    "os.environ['OPENAI_BASE_URL'] = os.getenv(\"OPENAI_BASE_URL\")\n",
    "# 初始化大模型\n",
    "chat_model = ChatOpenAI(model=\"gpt-4o-mini\",\n",
    "                        streaming=True  # 启用流式输出\n",
    "                        )\n",
    "# 创建消息\n",
    "messages = [HumanMessage(content=\"你好，请介绍一下自己\")]\n",
    "# 流式调用LLM获取响应\n",
    "print(\"开始流式输出：\")\n",
    "for chunk in chat_model.stream(messages):\n",
    "\t# 逐个打印内容块\n",
    "\tprint(chunk.content, end=\"\", flush=True)  # 刷新缓冲区 (无换行符，缓冲区未刷新，内容可能不会立即显示)\n",
    "print(\"\\n流式输出结束\")"
   ],
   "id": "959213ca4ec71dfc",
   "outputs": [
    {
     "name": "stdout",
     "output_type": "stream",
     "text": [
      "开始流式输出：\n",
      "你好！我是一个人工智能助手，设计用于回答问题、提供信息以及帮助处理各种任务。我可以帮助你查找知识、提供建议、进行语言翻译、撰写文本等。如果你有任何问题或需要帮助，随时问我！\n",
      "流式输出结束\n"
     ]
    }
   ],
   "execution_count": 13
  },
  {
   "metadata": {
    "ExecuteTime": {
     "end_time": "2025-09-27T15:47:39.498604Z",
     "start_time": "2025-09-27T15:47:36.381768Z"
    }
   },
   "cell_type": "code",
   "source": [
    "# 举例3：批量调用\n",
    "import os\n",
    "import dotenv\n",
    "from langchain_core.messages import HumanMessage, SystemMessage\n",
    "from langchain_openai import ChatOpenAI\n",
    "\n",
    "dotenv.load_dotenv()\n",
    "os.environ['OPENAI_API_KEY'] = os.getenv(\"OPENAI_API_KEY\")\n",
    "os.environ['OPENAI_BASE_URL'] = os.getenv(\"OPENAI_BASE_URL\")\n",
    "# 初始化大模型\n",
    "chat_model = ChatOpenAI(model=\"gpt-4o-mini\")\n",
    "messages1 = [SystemMessage(content=\"你是一位乐于助人的智能小助手\"),\n",
    "             HumanMessage(content=\"请帮我介绍一下什么是机器学习\"), ]\n",
    "messages2 = [SystemMessage(content=\"你是一位乐于助人的智能小助手\"),\n",
    "             HumanMessage(content=\"请帮我介绍一下什么是AIGC\"), ]\n",
    "messages3 = [SystemMessage(content=\"你是一位乐于助人的智能小助手\"),\n",
    "             HumanMessage(content=\"请帮我介绍一下什么是大模型技术\"), ]\n",
    "messages = [messages1, messages2, messages3]\n",
    "# 调用batch\n",
    "response = chat_model.batch(messages)\n",
    "print(response)"
   ],
   "id": "3e108e942da3e8bf",
   "outputs": [
    {
     "name": "stdout",
     "output_type": "stream",
     "text": [
      "[AIMessage(content='机器学习是一种人工智能（AI）的分支，它使计算机系统能够通过经验自动改进其性能，而无需明确编程。简单来说，机器学习涉及使用算法和统计模型来分析和解读数据，从而识别模式并进行预测。\\n\\n机器学习主要可以分为以下几种类型：\\n\\n1. **监督学习**：在这种类型中，模型在带有标签的数据集上进行训练，标签是指数据的已知输出。模型学习输入与输出之间的关系，以便在面对新的、未标记的数据时能够正确预测输出。常见的应用包括分类和回归问题，例如图像识别和房价预测。\\n\\n2. **无监督学习**：与监督学习不同，无监督学习使用未标记的数据。模型尝试根据数据的内在结构进行分组或聚类。常见的应用包括客户细分和市场分析。\\n\\n3. **半监督学习**：这种方法结合了监督学习和无监督学习，使用少量带标签的数据和大量无标签的数据进行训练。它在标签数据难以获取的情况下尤其有用。\\n\\n4. **强化学习**：这种学习方法通过与环境的交互来学习策略。代理通过试错来获取奖励或惩罚，从而逐渐学习到最佳行为策略。它广泛应用于机器人控制、游戏和自主驾驶等领域。\\n\\n机器学习的核心在于使用数据来训练模型，并通过不断迭代来提高模型的准确性和效率。随着数据量的增加和计算能力的提升，机器学习在各个领域的应用越来越广泛，从金融分析到医疗诊断，再到自然语言处理和图像识别等。', additional_kwargs={'refusal': None}, response_metadata={'token_usage': {'completion_tokens': 362, 'prompt_tokens': 30, 'total_tokens': 392, 'completion_tokens_details': {'accepted_prediction_tokens': 0, 'audio_tokens': 0, 'reasoning_tokens': 0, 'rejected_prediction_tokens': 0}, 'prompt_tokens_details': {'audio_tokens': 0, 'cached_tokens': 0}}, 'model_name': 'gpt-4o-mini-2024-07-18', 'system_fingerprint': 'fp_efad92c60b', 'id': 'chatcmpl-CKRR2pQNsy0FZLHYMDhtVviQNE5Qz', 'service_tier': None, 'finish_reason': 'stop', 'logprobs': None}, id='run--9a47c64f-e594-4a05-963d-1a0bd83869c7-0', usage_metadata={'input_tokens': 30, 'output_tokens': 362, 'total_tokens': 392, 'input_token_details': {'audio': 0, 'cache_read': 0}, 'output_token_details': {'audio': 0, 'reasoning': 0}}), AIMessage(content='AIGC 是“人工智能生成内容”（Artificial Intelligence Generated Content）的缩写，指的是利用人工智能技术生成各种类型的内容，包括文本、图像、音频、视频等。AIGC 的核心在于让计算机能够通过学习和理解大量的数据，从中创造出新的、具有创意的内容。\\n\\nAIGC 的应用领域非常广泛，主要包括：\\n\\n1. **文本生成**：采用自然语言处理技术生成新闻文章、故事、营销文案等。\\n2. **图像生成**：使用生成对抗网络（GAN）等技术创造新的艺术作品、产品设计等。\\n3. **音频和音乐创作**：利用 AI 创作音乐、音效或声音合成。\\n4. **视频生成**：生成短视频片段或动画内容。\\n\\nAIGC 的优点包括效率高、成本低和能够提供个性化内容。但是，它也引发了一些关于版权、内容真实性和伦理的问题。因此，在使用 AIGC 时，需要谨慎考虑这些因素。', additional_kwargs={'refusal': None}, response_metadata={'token_usage': {'completion_tokens': 222, 'prompt_tokens': 31, 'total_tokens': 253, 'completion_tokens_details': {'accepted_prediction_tokens': 0, 'audio_tokens': 0, 'reasoning_tokens': 0, 'rejected_prediction_tokens': 0}, 'prompt_tokens_details': {'audio_tokens': 0, 'cached_tokens': 0}}, 'model_name': 'gpt-4o-mini-2024-07-18', 'system_fingerprint': 'fp_efad92c60b', 'id': 'chatcmpl-CKRR2iTJN7ialwWg72uGxGWP8Oqxx', 'service_tier': None, 'finish_reason': 'stop', 'logprobs': None}, id='run--eef49481-c6c9-4552-b664-0d887a49e5ee-0', usage_metadata={'input_tokens': 31, 'output_tokens': 222, 'total_tokens': 253, 'input_token_details': {'audio': 0, 'cache_read': 0}, 'output_token_details': {'audio': 0, 'reasoning': 0}}), AIMessage(content='大模型技术指的是使用大规模深度学习模型来解决各种复杂任务的一种技术趋势。通常，这些模型拥有数亿到数千亿个参数，能够处理海量数据并提取复杂的特征。大模型技术的应用范围广泛，包括自然语言处理（NLP）、计算机视觉、语音识别等领域。\\n\\n以下是一些大模型技术的关键特点和优势：\\n\\n1. **数据驱动**：大模型通常依赖于大量的训练数据，这使得它们能够捕捉复杂的模式和关系，从而在多种任务中表现出色。\\n\\n2. **自学习能力**：通过预训练和微调过程，大模型可以在特定任务上达到更高的性能。预训练阶段通常使用通用数据集，而微调则针对特定应用领域进行。\\n\\n3. **迁移学习**：大模型可以通过迁移学习的方式，从一个任务迁移到另一个相关的任务，减少了对大量标记数据的需求。\\n\\n4. **多模态能力**：一些大模型能够同时处理多种类型的数据（如文字、图像和声音），从而进行更复杂的理解和生成任务。\\n\\n5. **开放性与可拓展性**：许多大模型是开源的，研究人员和开发者可以在此基础上进行二次开发，推动技术的进一步发展。\\n\\n6. **商业应用**：大模型技术广泛应用于智能客服、内容生成、图像识别、金融预测等各个领域，为企业提供了新的解决方案和商业机会。\\n\\n总的来说，大模型技术通过利用更强大的计算能力和丰富的数据，使得机器学习在解决实际问题时体现出更高的智能和效率。', additional_kwargs={'refusal': None}, response_metadata={'token_usage': {'completion_tokens': 377, 'prompt_tokens': 31, 'total_tokens': 408, 'completion_tokens_details': {'accepted_prediction_tokens': 0, 'audio_tokens': 0, 'reasoning_tokens': 0, 'rejected_prediction_tokens': 0}, 'prompt_tokens_details': {'audio_tokens': 0, 'cached_tokens': 0}}, 'model_name': 'gpt-4o-mini-2024-07-18', 'system_fingerprint': 'fp_efad92c60b', 'id': 'chatcmpl-CKRR37NSYlL4DOHOwZpOYtnxH335r', 'service_tier': None, 'finish_reason': 'stop', 'logprobs': None}, id='run--abf8a889-ba02-457d-b63d-a85d7be8f693-0', usage_metadata={'input_tokens': 31, 'output_tokens': 377, 'total_tokens': 408, 'input_token_details': {'audio': 0, 'cache_read': 0}, 'output_token_details': {'audio': 0, 'reasoning': 0}})]\n"
     ]
    }
   ],
   "execution_count": 14
  },
  {
   "metadata": {
    "ExecuteTime": {
     "end_time": "2025-09-27T15:57:10.340636Z",
     "start_time": "2025-09-27T15:57:00.253316Z"
    }
   },
   "cell_type": "code",
   "source": [
    "# 举例4：同步和异步调用\n",
    "import time\n",
    "\n",
    "\n",
    "def call_model():\n",
    "\t# 模拟同步API调用\n",
    "\tprint(\"开始调用模型...\")\n",
    "\ttime.sleep(5)  # 模拟调用等待,单位：秒\n",
    "\tprint(\"模型调用完成。\")\n",
    "\n",
    "\n",
    "def perform_other_tasks():\n",
    "\t# 模拟执行其他任务\n",
    "\tfor i in range(5):\n",
    "\t\tprint(f\"执行其他任务 {i + 1}\")\n",
    "\t\ttime.sleep(1)  # 单位：秒\n",
    "\n",
    "\n",
    "def main():\n",
    "\tstart_time = time.time()\n",
    "\tcall_model()\n",
    "\tperform_other_tasks()\n",
    "\tend_time = time.time()\n",
    "\ttotal_time = end_time - start_time\n",
    "\treturn f\"总共耗时：{total_time}秒\"\n",
    "\n",
    "\n",
    "# 运行同步任务并打印完成时间\n",
    "main_time = main()\n",
    "print(main_time)"
   ],
   "id": "abff4b75a7a9162e",
   "outputs": [
    {
     "name": "stdout",
     "output_type": "stream",
     "text": [
      "开始调用模型...\n",
      "模型调用完成。\n",
      "执行其他任务 1\n",
      "执行其他任务 2\n",
      "执行其他任务 3\n",
      "执行其他任务 4\n",
      "执行其他任务 5\n",
      "总共耗时：10.063063621520996秒\n"
     ]
    }
   ],
   "execution_count": 1
  },
  {
   "metadata": {
    "ExecuteTime": {
     "end_time": "2025-09-27T15:59:10.642368Z",
     "start_time": "2025-09-27T15:59:05.616673Z"
    }
   },
   "cell_type": "code",
   "source": [
    "import asyncio\n",
    "import time\n",
    "async def async_call(llm):\n",
    "    await asyncio.sleep(5) # 模拟异步操作\n",
    "    print(\"异步调用完成\")\n",
    "async def perform_other_tasks():\n",
    "    await asyncio.sleep(5) # 模拟异步操作\n",
    "    print(\"其他任务完成\")\n",
    "async def run_async_tasks():\n",
    "    start_time = time.time()\n",
    "    await asyncio.gather(\n",
    "    async_call(None), # 示例调用，使用None模拟LLM对象\n",
    "    perform_other_tasks()\n",
    "    )\n",
    "    end_time = time.time()\n",
    "    return f\"总共耗时：{end_time - start_time}秒\"\n",
    "# # 正确运行异步任务的方式\n",
    "# if __name__ == \"__main__\":\n",
    "# # 使用 asyncio.run() 来启动异步程序\n",
    "# result = asyncio.run(run_async_tasks())\n",
    "# print(result)\n",
    "# 在 Jupyter 单元格中直接调用\n",
    "result = await run_async_tasks()\n",
    "print(result)"
   ],
   "id": "71d815f900758bb3",
   "outputs": [
    {
     "name": "stdout",
     "output_type": "stream",
     "text": [
      "异步调用完成\n",
      "其他任务完成\n",
      "总共耗时：5.006707429885864秒\n"
     ]
    }
   ],
   "execution_count": 3
  },
  {
   "metadata": {},
   "cell_type": "code",
   "outputs": [],
   "execution_count": null,
   "source": "",
   "id": "449a41b2f5e63098"
  }
 ],
 "metadata": {
  "kernelspec": {
   "display_name": "Python 3",
   "language": "python",
   "name": "python3"
  },
  "language_info": {
   "codemirror_mode": {
    "name": "ipython",
    "version": 2
   },
   "file_extension": ".py",
   "mimetype": "text/x-python",
   "name": "python",
   "nbconvert_exporter": "python",
   "pygments_lexer": "ipython2",
   "version": "2.7.6"
  }
 },
 "nbformat": 4,
 "nbformat_minor": 5
}
