{
 "cells": [
  {
   "metadata": {
    "collapsed": true
   },
   "cell_type": "markdown",
   "source": [
    "# 1、关于对话模型中消息（message）的使用\n",
    "标准的对话模型的调用过程："
   ],
   "id": "96816f4a49e81e06"
  },
  {
   "metadata": {},
   "cell_type": "code",
   "outputs": [],
   "execution_count": null,
   "source": [
    "from langchain_openai import ChatOpenAI\n",
    "import os\n",
    "from dotenv import load_dotenv\n",
    "\n",
    "# 加载配置文件\n",
    "load_dotenv()\n",
    "\n",
    "# step1：获取对话模型\n",
    "chat_model = ChatOpenAI(\n",
    "\tapi_key=os.getenv(\"OPENAI_API_KEY1\"),\n",
    "\tbase_url=os.getenv(\"OPENAI_BASE_URL\"),\n",
    "\tmodel_name=\"gpt-3.5-turbo\"\n",
    ")\n",
    "\n",
    "# step2：调用对话模型\n",
    "response = chat_model.invoke()\n",
    "\n",
    "# step3：处理对话模型的返回结果\n",
    "print(response)"
   ],
   "id": "653007b85955049c"
  }
 ],
 "metadata": {
  "kernelspec": {
   "display_name": "Python 3",
   "language": "python",
   "name": "python3"
  },
  "language_info": {
   "codemirror_mode": {
    "name": "ipython",
    "version": 2
   },
   "file_extension": ".py",
   "mimetype": "text/x-python",
   "name": "python",
   "nbconvert_exporter": "python",
   "pygments_lexer": "ipython2",
   "version": "2.7.6"
  }
 },
 "nbformat": 4,
 "nbformat_minor": 5
}
