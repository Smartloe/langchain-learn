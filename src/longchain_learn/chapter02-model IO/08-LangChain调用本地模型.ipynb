{
 "cells": [
  {
   "metadata": {
    "collapsed": true
   },
   "cell_type": "markdown",
   "source": [
    "# LangChain调用本地模型\n",
    "- 第一步：下载并包装Ollama\n",
    "\n",
    "- 第二步：在本地运行Ollama下部署大模型：deepseek-r1:7b\n",
    "\n",
    "- 第三步：在langchain中调用Ollama下的大模型"
   ],
   "id": "b3e5c115e66cc2e1"
  },
  {
   "metadata": {
    "ExecuteTime": {
     "end_time": "2025-09-30T13:40:35.886346Z",
     "start_time": "2025-09-30T13:40:25.493585Z"
    }
   },
   "cell_type": "code",
   "source": [
    "from langchain_core.messages import HumanMessage\n",
    "from langchain_ollama import ChatOllama\n",
    "\n",
    "# 此时调用的是本地运行的Ollama模型\n",
    "llm = ChatOllama(\n",
    "\tmodel=\"deepseek-r1:7b\"\n",
    ")\n",
    "# llm.invoke(\"写一首关于春天的诗\")\n",
    "messages = [\n",
    "\tHumanMessage(content=\"你好，请问2.2和2.18谁大？\")\n",
    "]\n",
    "response = llm.invoke(messages)\n",
    "print(response.content)"
   ],
   "id": "f8898ec655a3fe4b",
   "outputs": [
    {
     "name": "stdout",
     "output_type": "stream",
     "text": [
      "<think>\n",
      "\n",
      "</think>\n",
      "\n",
      "首先，我们需要比较的是小数点后的数字。2.2可以写成2.20，以便更清晰地进行比较。\n",
      "\n",
      "接下来，我们逐一比较每一位：\n",
      "- 十分位：2（2） vs 1（2）\n",
      "  \n",
      "在十分位上，2大于1，因此2.2大于2.18。\n"
     ]
    }
   ],
   "execution_count": 5
  }
 ],
 "metadata": {
  "kernelspec": {
   "display_name": "Python 3",
   "language": "python",
   "name": "python3"
  },
  "language_info": {
   "codemirror_mode": {
    "name": "ipython",
    "version": 2
   },
   "file_extension": ".py",
   "mimetype": "text/x-python",
   "name": "python",
   "nbconvert_exporter": "python",
   "pygments_lexer": "ipython2",
   "version": "2.7.6"
  }
 },
 "nbformat": 4,
 "nbformat_minor": 5
}
