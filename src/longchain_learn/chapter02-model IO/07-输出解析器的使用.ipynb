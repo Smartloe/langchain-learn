{
 "cells": [
  {
   "metadata": {
    "collapsed": true
   },
   "cell_type": "markdown",
   "source": "## 1、字符串解析器 StrOutputParser",
   "id": "1026cb6fbfeaaf66"
  },
  {
   "metadata": {
    "ExecuteTime": {
     "end_time": "2025-09-29T15:30:48.285261Z",
     "start_time": "2025-09-29T15:30:43.997136Z"
    }
   },
   "cell_type": "code",
   "source": [
    "# 1、获取大模型\n",
    "import os\n",
    "import dotenv\n",
    "from defusedxml.cElementTree import XMLParser\n",
    "from langchain_openai import ChatOpenAI\n",
    "from langchain_core.prompts import ChatPromptTemplate\n",
    "from langchain_core.output_parsers import StrOutputParser\n",
    "\n",
    "dotenv.load_dotenv()\n",
    "os.environ['OPENAI_API_KEY'] = os.getenv('OPENAI_API_KEY1')\n",
    "os.environ['OPENAI_BASE_URL'] = os.getenv('OPENAI_BASE_URL')\n",
    "\n",
    "llm = ChatOpenAI(model=\"gpt-4o-mini\", temperature=0.3)\n",
    "\n",
    "# 2.调用大模型\n",
    "response = llm.invoke(\"什么是爱情？\")\n",
    "print(type(response))\n",
    "\n",
    "# 3.使用字符串解析器\n",
    "parser = StrOutputParser()\n",
    "parsed_response = parser.invoke(response)\n",
    "print(type(parsed_response))\n",
    "print(parsed_response)"
   ],
   "id": "794ba4451917c271",
   "outputs": [
    {
     "name": "stdout",
     "output_type": "stream",
     "text": [
      "<class 'langchain_core.messages.ai.AIMessage'>\n",
      "<class 'str'>\n",
      "爱情是一种复杂而深刻的情感，通常涉及对另一个人的强烈依恋、关心和吸引。它可以表现为浪漫的情感，也可以是亲情、友情等多种形式的深厚情感。爱情不仅仅是生理上的吸引，还包括心理和情感上的连接。\n",
      "\n",
      "在不同的文化和哲学中，爱情的定义和表现形式各不相同。它可以带来快乐和满足感，也可能伴随着痛苦和挑战。爱情常常涉及信任、理解、包容和支持，是人际关系中重要的一部分。\n",
      "\n",
      "总的来说，爱情是一种让人感到充实和有意义的情感体验，能够激励人们追求更好的自己和更美好的生活。\n"
     ]
    }
   ],
   "execution_count": 2
  },
  {
   "metadata": {},
   "cell_type": "markdown",
   "source": [
    "## 2、JSON解析器 JsonOutputParser\n",
    "实现方式\n",
    "- 方式1：用户自己通过提示词指明返回Json格式\n",
    "- 方式2：借助JsonOutputParser的 get_format_instructions() ，生成格式说明，指导模型输出JSON 结构"
   ],
   "id": "498cedf87c05a90f"
  },
  {
   "metadata": {
    "ExecuteTime": {
     "end_time": "2025-09-29T15:53:11.312575Z",
     "start_time": "2025-09-29T15:53:04.616359Z"
    }
   },
   "cell_type": "code",
   "source": [
    "# 方式1：\n",
    "from langchain_core.output_parsers import JsonOutputParser\n",
    "from langchain_core.prompts import ChatPromptTemplate\n",
    "\n",
    "chat_model = ChatOpenAI(model=\"gpt-4o-mini\")\n",
    "chat_prompt_template = ChatPromptTemplate.from_messages([\n",
    "\t(\"system\", \"你是一个靠谱的{role}\"),\n",
    "\t(\"human\", \"{question}\")\n",
    "])\n",
    "\n",
    "result = chat_model.invoke(\n",
    "\tchat_prompt_template.invoke(\n",
    "\t\t{\"role\": \"人工智能专家\",\n",
    "\t\t \"question\": \"人工智能用英文怎么说？问题用q表示，答案用a表示，返回一个JSON格式\"\n",
    "\t\t }\n",
    "\t)\n",
    ")\n",
    "print(result.content)\n",
    "print(type(result))\n",
    "\n",
    "# 获取一个JsonOutputParser的实例\n",
    "json_parser = JsonOutputParser()\n",
    "parsed_result = json_parser.invoke(result)\n",
    "print(parsed_result)\n",
    "print(type(parsed_result))"
   ],
   "id": "8e53fc1d158b43f1",
   "outputs": [
    {
     "name": "stdout",
     "output_type": "stream",
     "text": [
      "```json\n",
      "{\n",
      "  \"q\": \"人工智能用英文怎么说？\",\n",
      "  \"a\": \"Artificial Intelligence\"\n",
      "}\n",
      "```\n",
      "<class 'langchain_core.messages.ai.AIMessage'>\n",
      "{'q': '人工智能用英文怎么说？', 'a': 'Artificial Intelligence'}\n",
      "<class 'dict'>\n"
     ]
    }
   ],
   "execution_count": 6
  },
  {
   "metadata": {
    "ExecuteTime": {
     "end_time": "2025-09-29T15:57:18.662298Z",
     "start_time": "2025-09-29T15:57:18.652303Z"
    }
   },
   "cell_type": "code",
   "source": [
    "# 举例2\n",
    "from langchain_core.output_parsers import JsonOutputParser\n",
    "\n",
    "output_parser = JsonOutputParser()\n",
    "# 返回一些指令或模板，这些指令告诉系统如何解析或格式化输出数据\n",
    "format_instructions = output_parser.get_format_instructions()\n",
    "print(format_instructions)"
   ],
   "id": "cbe0e054643884d1",
   "outputs": [
    {
     "name": "stdout",
     "output_type": "stream",
     "text": [
      "Return a JSON object.\n"
     ]
    }
   ],
   "execution_count": 7
  },
  {
   "metadata": {
    "ExecuteTime": {
     "end_time": "2025-09-29T16:04:40.229645Z",
     "start_time": "2025-09-29T16:04:38.168099Z"
    }
   },
   "cell_type": "code",
   "source": [
    "# 引入依赖包\n",
    "from langchain_core.output_parsers import JsonOutputParser\n",
    "from langchain_core.prompts import PromptTemplate\n",
    "\n",
    "# 初始化语言模型\n",
    "chat_model = ChatOpenAI(model=\"gpt-4o-mini\")\n",
    "joke_query = \"告诉我一个笑话。\"\n",
    "# 定义Json解析器\n",
    "parser = JsonOutputParser()\n",
    "# 以PromptTemplate为例\n",
    "prompt_template = PromptTemplate.from_template(\n",
    "\ttemplate=\"回答用户查询的问题\\n满足格式为{format_instructions}\\n问题是:{question}\",\n",
    "\tpartial_variables={\n",
    "\t\t\"format_instructions\": parser.get_format_instructions(),\n",
    "\t}\n",
    ")\n",
    "prompt = prompt_template.invoke(input={\"question\": joke_query})\n",
    "# 调用大模型\n",
    "response = chat_model.invoke(prompt)\n",
    "#\n",
    "json_result = parser.invoke(response)\n",
    "print(json_result)\n",
    "print(type(json_result))"
   ],
   "id": "2656f2ed61b25300",
   "outputs": [
    {
     "name": "stdout",
     "output_type": "stream",
     "text": [
      "{'joke': '为什么自行车不能站起来？因为它有两个轮子！'}\n",
      "<class 'dict'>\n"
     ]
    }
   ],
   "execution_count": 8
  },
  {
   "metadata": {},
   "cell_type": "markdown",
   "source": "知识拓展：",
   "id": "a47fc4991844b5b1"
  },
  {
   "metadata": {
    "ExecuteTime": {
     "end_time": "2025-09-29T16:10:34.805221Z",
     "start_time": "2025-09-29T16:10:33.317343Z"
    }
   },
   "cell_type": "code",
   "source": [
    "# 针对举例1\n",
    "from langchain_core.output_parsers import JsonOutputParser\n",
    "from langchain_core.prompts import ChatPromptTemplate\n",
    "\n",
    "chat_model = ChatOpenAI(model=\"gpt-4o-mini\")\n",
    "chat_prompt_template = ChatPromptTemplate.from_messages([\n",
    "\t(\"system\", \"你是一个靠谱的{role}\"),\n",
    "\t(\"human\", \"{question}\")\n",
    "])\n",
    "\n",
    "# 获取一个JsonOutputParser的实例\n",
    "json_parser = JsonOutputParser()\n",
    "\n",
    "chain = chat_prompt_template | chat_model | json_parser\n",
    "json_result = chain.invoke(\n",
    "\t{\"role\": \"人工智能专家\",\n",
    "\t \"question\": \"人工智能用英文怎么说？问题用q表示，答案用a表示，返回一个JSON格式\"\n",
    "\t }\n",
    ")\n",
    "print(json_result)\n",
    "print(type(json_result))"
   ],
   "id": "3f1a4949eb833d75",
   "outputs": [
    {
     "name": "stdout",
     "output_type": "stream",
     "text": [
      "{'q': '人工智能用英文怎么说？', 'a': 'Artificial Intelligence'}\n",
      "<class 'dict'>\n"
     ]
    }
   ],
   "execution_count": 9
  },
  {
   "metadata": {
    "ExecuteTime": {
     "end_time": "2025-09-29T16:13:00.978736Z",
     "start_time": "2025-09-29T16:12:58.071438Z"
    }
   },
   "cell_type": "code",
   "source": [
    "# 针对举例2\n",
    "from langchain_core.output_parsers import JsonOutputParser\n",
    "from langchain_core.prompts import PromptTemplate\n",
    "\n",
    "# 初始化语言模型\n",
    "chat_model = ChatOpenAI(model=\"gpt-4o-mini\")\n",
    "joke_query = \"告诉我一个脑经急转弯。\"\n",
    "\n",
    "# 以PromptTemplate为例\n",
    "prompt_template = PromptTemplate.from_template(\n",
    "\ttemplate=\"回答用户查询的问题\\n满足格式为{format_instructions}\\n问题是:{question}\",\n",
    "\tpartial_variables={\n",
    "\t\t\"format_instructions\": parser.get_format_instructions(),\n",
    "\t}\n",
    ")\n",
    "# 定义Json解析器\n",
    "parser = JsonOutputParser()\n",
    "\n",
    "chain = prompt_template | chat_model | parser\n",
    "json_result = chain.invoke(input={\"question\": joke_query})\n",
    "print(json_result)\n",
    "print(type(json_result))"
   ],
   "id": "ea89ead80410a475",
   "outputs": [
    {
     "name": "stdout",
     "output_type": "stream",
     "text": [
      "{'riddle': '什么东西越洗越脏？', 'answer': '水'}\n",
      "<class 'dict'>\n"
     ]
    }
   ],
   "execution_count": 11
  },
  {
   "metadata": {},
   "cell_type": "markdown",
   "source": [
    "## 3、XML解析器 XMLOutputParser\n",
    "\n",
    "注意：XMLOutputParser 不会直接将模型的输出保持为原始XML字符串，而是会解析XML并转换成Python字典 （或类似结构化的数据）。目的是为了方便程序后续处理数据，而不是单纯保留XML格式。"
   ],
   "id": "b531b90e89d77451"
  },
  {
   "metadata": {
    "ExecuteTime": {
     "end_time": "2025-09-30T08:40:16.937904Z",
     "start_time": "2025-09-30T08:40:12.636916Z"
    }
   },
   "cell_type": "code",
   "source": [
    "# 举例1：不使用XMLOutputParser，通过大模型的能力，返回xml格式数据\n",
    "# 初始化语言模型\n",
    "chat_model = ChatOpenAI(model=\"gpt-4o-mini\")\n",
    "# 测试模型的xml解析效果\n",
    "actor_query = \"生成周星驰的简短电影记录\"\n",
    "output = chat_model.invoke(f\"\"\"{actor_query}请将影片附在<movie></movie>标签中\"\"\"\n",
    "                           )\n",
    "print(type(output))  # <class 'langchain_core.messages.ai.AIMessage'>\n",
    "print(output.content)"
   ],
   "id": "ee234f481826af0c",
   "outputs": [
    {
     "name": "stdout",
     "output_type": "stream",
     "text": [
      "<class 'langchain_core.messages.ai.AIMessage'>\n",
      "周星驰是一位著名的中国香港演员、导演、编剧和制片人，以其独特的喜剧风格和幽默感而闻名。他的电影作品通常充满了夸张的搞笑元素，结合了丰富的文化背景和社会讽刺。以下是一些他的经典电影记录：\n",
      "\n",
      "<movie>\n",
      "1. 《大话西游之月光宝盒》（1995）\n",
      "   - 角色：至尊宝\n",
      "   - 简介：讲述了至尊宝的爱情故事，以及他在时光穿梭中所经历的奇幻冒险。\n",
      "\n",
      "2. 《唐伯虎点秋香》（1993）\n",
      "   - 角色：唐伯虎\n",
      "   - 简介：唐伯虎为追寻秋香假扮成书生，发生了一系列搞笑的爱情纠葛。\n",
      "\n",
      "3. 《功夫》（2004）\n",
      "   - 角色：无名\n",
      "   - 简介：在1930年代的中国，一名小混混为成为功夫高手而拼搏的故事，融合了喜剧与动作元素。\n",
      "\n",
      "4. 《食神》（1996）\n",
      "   - 角色：周星驰\n",
      "   - 简介：讲述了一位被打入低谷的厨师重归巅峰的励志故事，满是美食和搞笑。\n",
      "\n",
      "5. 《西游降魔篇》（2013）\n",
      "   - 角色：唐僧\n",
      "   - 简介：对经典《西游记》的幽默改编，结合了爱情、奋斗与友情的主题。\n",
      "</movie>\n",
      "\n",
      "这些影片不仅展示了周星驰的表演才华，还体现了他对社会现象的深刻观察与幽默批判，成为华语电影经典。\n"
     ]
    }
   ],
   "execution_count": 13
  },
  {
   "metadata": {
    "ExecuteTime": {
     "end_time": "2025-09-30T08:45:10.966596Z",
     "start_time": "2025-09-30T08:45:10.876257Z"
    }
   },
   "cell_type": "code",
   "source": [
    "from langchain_core.output_parsers import XMLOutputParser\n",
    "\n",
    "# 举例2\n",
    "output_parser = XMLOutputParser()\n",
    "parsed_output = output_parser.get_format_instructions()\n",
    "print(parsed_output)"
   ],
   "id": "5dd4ad55f79087b4",
   "outputs": [
    {
     "name": "stdout",
     "output_type": "stream",
     "text": [
      "The output should be formatted as a XML file.\n",
      "1. Output should conform to the tags below.\n",
      "2. If tags are not given, make them on your own.\n",
      "3. Remember to always open and close all the tags.\n",
      "\n",
      "As an example, for the tags [\"foo\", \"bar\", \"baz\"]:\n",
      "1. String \"<foo>\n",
      "   <bar>\n",
      "      <baz></baz>\n",
      "   </bar>\n",
      "</foo>\" is a well-formatted instance of the schema.\n",
      "2. String \"<foo>\n",
      "   <bar>\n",
      "   </foo>\" is a badly-formatted instance.\n",
      "3. String \"<foo>\n",
      "   <tag>\n",
      "   </tag>\n",
      "</foo>\" is a badly-formatted instance.\n",
      "\n",
      "Here are the output tags:\n",
      "```\n",
      "None\n",
      "```\n"
     ]
    }
   ],
   "execution_count": 14
  },
  {
   "metadata": {
    "ExecuteTime": {
     "end_time": "2025-09-30T08:55:31.871453Z",
     "start_time": "2025-09-30T08:55:28.638264Z"
    }
   },
   "cell_type": "code",
   "source": [
    "# 使用parser.get_format_instructions()结构实现\n",
    "from langchain_core.output_parsers import XMLOutputParser\n",
    "from langchain_openai import ChatOpenAI\n",
    "import os\n",
    "import dotenv\n",
    "\n",
    "# 加载环境\n",
    "dotenv.load_dotenv()\n",
    "os.environ['OPENAI_API_KEY'] = os.getenv('OPENAI_API_KEY1')\n",
    "os.environ['OPENAI_BASE_URL'] = os.getenv('OPENAI_BASE_URL')\n",
    "# 初始化语言大模型\n",
    "llm = ChatOpenAI(model=\"gpt-4o-mini\")\n",
    "\n",
    "# 测试模型的xml解析效果\n",
    "actor_query = \"生成苍井空的简短电影记录\"\n",
    "\n",
    "# 定义XML解析器\n",
    "parser = XMLOutputParser()\n",
    "\n",
    "#生成提示词模板\n",
    "prompt_template1 = PromptTemplate.from_template(\n",
    "\ttemplate=\"用户的问题{question}\\n满足格式为{format_instructions}\\n\",\n",
    ")\n",
    "prompt_template2 = prompt_template1.partial(format_instructions=parser.get_format_instructions())\n",
    "response = llm.invoke(\n",
    "\tprompt_template2.invoke(\n",
    "\t\tinput={\"question\": actor_query}\n",
    "\t)\n",
    ")\n",
    "print(response.content)"
   ],
   "id": "c411b30a00d50ff0",
   "outputs": [
    {
     "name": "stdout",
     "output_type": "stream",
     "text": [
      "```xml\n",
      "<filmography>\n",
      "    <actress>\n",
      "        <name>苍井空</name>\n",
      "        <movies>\n",
      "            <movie>\n",
      "                <title>爱丽丝的幻想</title>\n",
      "                <year>2004</year>\n",
      "                <genre>剧情</genre>\n",
      "            </movie>\n",
      "            <movie>\n",
      "                <title>午夜迷情</title>\n",
      "                <year>2005</year>\n",
      "                <genre>爱情</genre>\n",
      "            </movie>\n",
      "            <movie>\n",
      "                <title>激情之夜</title>\n",
      "                <year>2006</year>\n",
      "                <genre>爱情</genre>\n",
      "            </movie>\n",
      "            <movie>\n",
      "                <title>梦幻俏佳人</title>\n",
      "                <year>2007</year>\n",
      "                <genre>喜剧</genre>\n",
      "            </movie>\n",
      "        </movies>\n",
      "    </actress>\n",
      "</filmography>\n",
      "```\n"
     ]
    }
   ],
   "execution_count": 16
  },
  {
   "metadata": {
    "ExecuteTime": {
     "end_time": "2025-09-30T08:58:11.268944Z",
     "start_time": "2025-09-30T08:58:11.258949Z"
    }
   },
   "cell_type": "code",
   "source": [
    "xml_result = parser.invoke(response)\n",
    "print(type(xml_result))\n",
    "print(xml_result)\n",
    "# 注意：XMLOutputParser 不会直接将模型的输出保持为原始XML字符串，而是会解析XML并转换成Python字典 （或类似结构化的数据）。目的是为了方便程序后续处理数据，而不是单纯保留XML格式。"
   ],
   "id": "e5b0d83c5a5ed9f9",
   "outputs": [
    {
     "name": "stdout",
     "output_type": "stream",
     "text": [
      "<class 'dict'>\n",
      "{'filmography': [{'actress': [{'name': '苍井空'}, {'movies': [{'movie': [{'title': '爱丽丝的幻想'}, {'year': '2004'}, {'genre': '剧情'}]}, {'movie': [{'title': '午夜迷情'}, {'year': '2005'}, {'genre': '爱情'}]}, {'movie': [{'title': '激情之夜'}, {'year': '2006'}, {'genre': '爱情'}]}, {'movie': [{'title': '梦幻俏佳人'}, {'year': '2007'}, {'genre': '喜剧'}]}]}]}]}\n"
     ]
    }
   ],
   "execution_count": 17
  },
  {
   "metadata": {},
   "cell_type": "markdown",
   "source": "## 4、列表解析器 CommaSeparatedListOutputParser",
   "id": "8bd9eb249a43e61e"
  },
  {
   "metadata": {
    "ExecuteTime": {
     "end_time": "2025-09-30T09:00:21.803569Z",
     "start_time": "2025-09-30T09:00:21.778582Z"
    }
   },
   "cell_type": "code",
   "source": [
    "# 举例1\n",
    "from langchain_core.output_parsers import CommaSeparatedListOutputParser\n",
    "\n",
    "output_parser = CommaSeparatedListOutputParser()\n",
    "# 返回一些指令或模板，这些指令告诉系统如何解析或格式化输出数据\n",
    "format_instructions = output_parser.get_format_instructions()\n",
    "print(format_instructions)\n",
    "messages = \"大象,猩猩,狮子\"\n",
    "result = output_parser.parse(messages)\n",
    "print(result)\n",
    "print(type(result))"
   ],
   "id": "3f3e93220c0b40fe",
   "outputs": [
    {
     "name": "stdout",
     "output_type": "stream",
     "text": [
      "Your response should be a list of comma separated values, eg: `foo, bar, baz` or `foo,bar,baz`\n",
      "['大象', '猩猩', '狮子']\n",
      "<class 'list'>\n"
     ]
    }
   ],
   "execution_count": 18
  },
  {
   "metadata": {
    "ExecuteTime": {
     "end_time": "2025-09-30T09:02:10.852590Z",
     "start_time": "2025-09-30T09:02:07.234286Z"
    }
   },
   "cell_type": "code",
   "source": [
    "# 举例2\n",
    "from langchain_core.prompts import PromptTemplate\n",
    "from langchain_openai import ChatOpenAI\n",
    "from langchain.output_parsers import CommaSeparatedListOutputParser\n",
    "\n",
    "# 初始化语言模型\n",
    "chat_model = ChatOpenAI(model=\"gpt-4o-mini\")\n",
    "# 创建解析器\n",
    "output_parser = CommaSeparatedListOutputParser()\n",
    "# 创建LangChain提示模板\n",
    "chat_prompt = PromptTemplate.from_template(\n",
    "\t\"生成5个关于{text}的列表.\\n\\n{format_instructions}\",\n",
    "\tpartial_variables={\n",
    "\t\t\"format_instructions\": output_parser.get_format_instructions()\n",
    "\t})\n",
    "# 提示模板与输出解析器传递输出\n",
    "# chat_prompt =\n",
    "chat_prompt.partial(format_instructions=output_parser.get_format_instructions())\n",
    "# 将提示和模型合并以进行调用\n",
    "chain = chat_prompt | chat_model | output_parser\n",
    "res = chain.invoke({\"text\": \"电影\"})\n",
    "print(res)\n",
    "print(type(res))"
   ],
   "id": "6b09a574f51a1681",
   "outputs": [
    {
     "name": "stdout",
     "output_type": "stream",
     "text": [
      "['科幻电影', '动作电影', '爱情电影', '恐怖电影', '喜剧电影']\n",
      "<class 'list'>\n"
     ]
    }
   ],
   "execution_count": 19
  },
  {
   "metadata": {},
   "cell_type": "markdown",
   "source": "## 5、日期解析器 DatetimeOutputParser (了解)",
   "id": "e94697465bbfc298"
  },
  {
   "metadata": {
    "ExecuteTime": {
     "end_time": "2025-09-30T09:03:42.360333Z",
     "start_time": "2025-09-30T09:03:42.340341Z"
    }
   },
   "cell_type": "code",
   "source": [
    "from langchain.output_parsers import DatetimeOutputParser\n",
    "\n",
    "output_parser = DatetimeOutputParser()\n",
    "format_instructions = output_parser.get_format_instructions()\n",
    "print(format_instructions)"
   ],
   "id": "fc7503a83103ba23",
   "outputs": [
    {
     "name": "stdout",
     "output_type": "stream",
     "text": [
      "Write a datetime string that matches the following pattern: '%Y-%m-%dT%H:%M:%S.%fZ'.\n",
      "\n",
      "Examples: 2023-07-04T14:30:00.000000Z, 1999-12-31T23:59:59.999999Z, 2025-01-01T00:00:00.000000Z\n",
      "\n",
      "Return ONLY this string, no other words!\n"
     ]
    }
   ],
   "execution_count": 20
  },
  {
   "metadata": {
    "ExecuteTime": {
     "end_time": "2025-09-30T09:17:36.884002Z",
     "start_time": "2025-09-30T09:17:34.220526Z"
    }
   },
   "cell_type": "code",
   "source": [
    "from langchain_openai import ChatOpenAI\n",
    "from langchain.prompts.chat import HumanMessagePromptTemplate\n",
    "from langchain_core.prompts import ChatPromptTemplate\n",
    "from langchain.output_parsers import DatetimeOutputParser\n",
    "import os\n",
    "import dotenv\n",
    "\n",
    "# 加载环境\n",
    "dotenv.load_dotenv()\n",
    "os.environ['OPENAI_API_KEY'] = os.getenv('OPENAI_API_KEY1')\n",
    "os.environ['OPENAI_BASE_URL'] = os.getenv('OPENAI_BASE_URL')\n",
    "# 初始化语言大模型\n",
    "chat_model = ChatOpenAI(model=\"gpt-4o-mini\")\n",
    "chat_prompt = ChatPromptTemplate.from_messages([\n",
    "\t(\"system\", \"{format_instructions}\"),\n",
    "\t(\"human\", \"{request}\")\n",
    "])\n",
    "output_parser = DatetimeOutputParser()\n",
    "chain = chat_prompt | chat_model | output_parser\n",
    "response = chain.invoke({\n",
    "\t\"request\": \"请告诉我2024年奥运会的开幕日期？\",\n",
    "\t\"format_instructions\": output_parser.get_format_instructions()\n",
    "})\n",
    "print(response)\n",
    "print(type(response))"
   ],
   "id": "bd4e95febb2888ec",
   "outputs": [
    {
     "name": "stdout",
     "output_type": "stream",
     "text": [
      "2024-07-26 00:00:00\n",
      "<class 'datetime.datetime'>\n"
     ]
    }
   ],
   "execution_count": 2
  }
 ],
 "metadata": {
  "kernelspec": {
   "display_name": "Python 3",
   "language": "python",
   "name": "python3"
  },
  "language_info": {
   "codemirror_mode": {
    "name": "ipython",
    "version": 2
   },
   "file_extension": ".py",
   "mimetype": "text/x-python",
   "name": "python",
   "nbconvert_exporter": "python",
   "pygments_lexer": "ipython2",
   "version": "2.7.6"
  }
 },
 "nbformat": 4,
 "nbformat_minor": 5
}
