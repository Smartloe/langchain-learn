{
 "cells": [
  {
   "metadata": {
    "collapsed": true
   },
   "cell_type": "markdown",
   "source": "## 1、字符串解析器 StrOutputParser",
   "id": "1026cb6fbfeaaf66"
  },
  {
   "metadata": {
    "ExecuteTime": {
     "end_time": "2025-09-29T15:30:48.285261Z",
     "start_time": "2025-09-29T15:30:43.997136Z"
    }
   },
   "cell_type": "code",
   "source": [
    "# 1、获取大模型\n",
    "import os\n",
    "import dotenv\n",
    "from langchain_openai import ChatOpenAI\n",
    "from langchain_core.prompts import ChatPromptTemplate\n",
    "from langchain_core.output_parsers import StrOutputParser\n",
    "\n",
    "dotenv.load_dotenv()\n",
    "os.environ['OPENAI_API_KEY'] = os.getenv('OPENAI_API_KEY1')\n",
    "os.environ['OPENAI_BASE_URL'] = os.getenv('OPENAI_BASE_URL')\n",
    "\n",
    "llm = ChatOpenAI(model=\"gpt-4o-mini\", temperature=0.3)\n",
    "\n",
    "# 2.调用大模型\n",
    "response = llm.invoke(\"什么是爱情？\")\n",
    "print(type(response))\n",
    "\n",
    "# 3.使用字符串解析器\n",
    "parser = StrOutputParser()\n",
    "parsed_response = parser.invoke(response)\n",
    "print(type(parsed_response))\n",
    "print(parsed_response)"
   ],
   "id": "794ba4451917c271",
   "outputs": [
    {
     "name": "stdout",
     "output_type": "stream",
     "text": [
      "<class 'langchain_core.messages.ai.AIMessage'>\n",
      "<class 'str'>\n",
      "爱情是一种复杂而深刻的情感，通常涉及对另一个人的强烈依恋、关心和吸引。它可以表现为浪漫的情感，也可以是亲情、友情等多种形式的深厚情感。爱情不仅仅是生理上的吸引，还包括心理和情感上的连接。\n",
      "\n",
      "在不同的文化和哲学中，爱情的定义和表现形式各不相同。它可以带来快乐和满足感，也可能伴随着痛苦和挑战。爱情常常涉及信任、理解、包容和支持，是人际关系中重要的一部分。\n",
      "\n",
      "总的来说，爱情是一种让人感到充实和有意义的情感体验，能够激励人们追求更好的自己和更美好的生活。\n"
     ]
    }
   ],
   "execution_count": 2
  },
  {
   "metadata": {},
   "cell_type": "markdown",
   "source": [
    "## 2、JSON解析器 JsonOutputParser\n",
    "实现方式\n",
    "- 方式1：用户自己通过提示词指明返回Json格式\n",
    "- 方式2：借助JsonOutputParser的 get_format_instructions() ，生成格式说明，指导模型输出JSON 结构"
   ],
   "id": "498cedf87c05a90f"
  },
  {
   "metadata": {
    "ExecuteTime": {
     "end_time": "2025-09-29T15:53:11.312575Z",
     "start_time": "2025-09-29T15:53:04.616359Z"
    }
   },
   "cell_type": "code",
   "source": [
    "# 方式1：\n",
    "from langchain_core.output_parsers import JsonOutputParser\n",
    "from langchain_core.prompts import ChatPromptTemplate\n",
    "\n",
    "chat_model = ChatOpenAI(model=\"gpt-4o-mini\")\n",
    "chat_prompt_template = ChatPromptTemplate.from_messages([\n",
    "\t(\"system\", \"你是一个靠谱的{role}\"),\n",
    "\t(\"human\", \"{question}\")\n",
    "])\n",
    "\n",
    "result = chat_model.invoke(\n",
    "\tchat_prompt_template.invoke(\n",
    "\t\t{\"role\": \"人工智能专家\",\n",
    "\t\t \"question\": \"人工智能用英文怎么说？问题用q表示，答案用a表示，返回一个JSON格式\"\n",
    "\t\t }\n",
    "\t)\n",
    ")\n",
    "print(result.content)\n",
    "print(type(result))\n",
    "\n",
    "# 获取一个JsonOutputParser的实例\n",
    "json_parser = JsonOutputParser()\n",
    "parsed_result = json_parser.invoke(result)\n",
    "print(parsed_result)\n",
    "print(type(parsed_result))"
   ],
   "id": "8e53fc1d158b43f1",
   "outputs": [
    {
     "name": "stdout",
     "output_type": "stream",
     "text": [
      "```json\n",
      "{\n",
      "  \"q\": \"人工智能用英文怎么说？\",\n",
      "  \"a\": \"Artificial Intelligence\"\n",
      "}\n",
      "```\n",
      "<class 'langchain_core.messages.ai.AIMessage'>\n",
      "{'q': '人工智能用英文怎么说？', 'a': 'Artificial Intelligence'}\n",
      "<class 'dict'>\n"
     ]
    }
   ],
   "execution_count": 6
  },
  {
   "metadata": {
    "ExecuteTime": {
     "end_time": "2025-09-29T15:57:18.662298Z",
     "start_time": "2025-09-29T15:57:18.652303Z"
    }
   },
   "cell_type": "code",
   "source": [
    "# 举例2\n",
    "from langchain_core.output_parsers import JsonOutputParser\n",
    "\n",
    "output_parser = JsonOutputParser()\n",
    "# 返回一些指令或模板，这些指令告诉系统如何解析或格式化输出数据\n",
    "format_instructions = output_parser.get_format_instructions()\n",
    "print(format_instructions)"
   ],
   "id": "cbe0e054643884d1",
   "outputs": [
    {
     "name": "stdout",
     "output_type": "stream",
     "text": [
      "Return a JSON object.\n"
     ]
    }
   ],
   "execution_count": 7
  },
  {
   "metadata": {
    "ExecuteTime": {
     "end_time": "2025-09-29T16:04:40.229645Z",
     "start_time": "2025-09-29T16:04:38.168099Z"
    }
   },
   "cell_type": "code",
   "source": [
    "# 引入依赖包\n",
    "from langchain_core.output_parsers import JsonOutputParser\n",
    "from langchain_core.prompts import PromptTemplate\n",
    "\n",
    "# 初始化语言模型\n",
    "chat_model = ChatOpenAI(model=\"gpt-4o-mini\")\n",
    "joke_query = \"告诉我一个笑话。\"\n",
    "# 定义Json解析器\n",
    "parser = JsonOutputParser()\n",
    "# 以PromptTemplate为例\n",
    "prompt_template = PromptTemplate.from_template(\n",
    "\ttemplate=\"回答用户查询的问题\\n满足格式为{format_instructions}\\n问题是:{question}\",\n",
    "\tpartial_variables={\n",
    "\t\t\"format_instructions\": parser.get_format_instructions(),\n",
    "\t}\n",
    ")\n",
    "prompt = prompt_template.invoke(input={\"question\": joke_query})\n",
    "# 调用大模型\n",
    "response = chat_model.invoke(prompt)\n",
    "#\n",
    "json_result = parser.invoke(response)\n",
    "print(json_result)\n",
    "print(type(json_result))"
   ],
   "id": "2656f2ed61b25300",
   "outputs": [
    {
     "name": "stdout",
     "output_type": "stream",
     "text": [
      "{'joke': '为什么自行车不能站起来？因为它有两个轮子！'}\n",
      "<class 'dict'>\n"
     ]
    }
   ],
   "execution_count": 8
  },
  {
   "metadata": {},
   "cell_type": "markdown",
   "source": "知识拓展：",
   "id": "a47fc4991844b5b1"
  },
  {
   "metadata": {
    "ExecuteTime": {
     "end_time": "2025-09-29T16:10:34.805221Z",
     "start_time": "2025-09-29T16:10:33.317343Z"
    }
   },
   "cell_type": "code",
   "source": [
    "# 针对举例1\n",
    "from langchain_core.output_parsers import JsonOutputParser\n",
    "from langchain_core.prompts import ChatPromptTemplate\n",
    "\n",
    "chat_model = ChatOpenAI(model=\"gpt-4o-mini\")\n",
    "chat_prompt_template = ChatPromptTemplate.from_messages([\n",
    "\t(\"system\", \"你是一个靠谱的{role}\"),\n",
    "\t(\"human\", \"{question}\")\n",
    "])\n",
    "\n",
    "# 获取一个JsonOutputParser的实例\n",
    "json_parser = JsonOutputParser()\n",
    "\n",
    "chain = chat_prompt_template | chat_model | json_parser\n",
    "json_result = chain.invoke(\n",
    "\t{\"role\": \"人工智能专家\",\n",
    "\t \"question\": \"人工智能用英文怎么说？问题用q表示，答案用a表示，返回一个JSON格式\"\n",
    "\t }\n",
    ")\n",
    "print(json_result)\n",
    "print(type(json_result))"
   ],
   "id": "3f1a4949eb833d75",
   "outputs": [
    {
     "name": "stdout",
     "output_type": "stream",
     "text": [
      "{'q': '人工智能用英文怎么说？', 'a': 'Artificial Intelligence'}\n",
      "<class 'dict'>\n"
     ]
    }
   ],
   "execution_count": 9
  },
  {
   "metadata": {
    "ExecuteTime": {
     "end_time": "2025-09-29T16:13:00.978736Z",
     "start_time": "2025-09-29T16:12:58.071438Z"
    }
   },
   "cell_type": "code",
   "source": [
    "# 针对举例2\n",
    "from langchain_core.output_parsers import JsonOutputParser\n",
    "from langchain_core.prompts import PromptTemplate\n",
    "\n",
    "# 初始化语言模型\n",
    "chat_model = ChatOpenAI(model=\"gpt-4o-mini\")\n",
    "joke_query = \"告诉我一个脑经急转弯。\"\n",
    "\n",
    "# 以PromptTemplate为例\n",
    "prompt_template = PromptTemplate.from_template(\n",
    "\ttemplate=\"回答用户查询的问题\\n满足格式为{format_instructions}\\n问题是:{question}\",\n",
    "\tpartial_variables={\n",
    "\t\t\"format_instructions\": parser.get_format_instructions(),\n",
    "\t}\n",
    ")\n",
    "# 定义Json解析器\n",
    "parser = JsonOutputParser()\n",
    "\n",
    "chain = prompt_template | chat_model | parser\n",
    "json_result = chain.invoke(input={\"question\": joke_query})\n",
    "print(json_result)\n",
    "print(type(json_result))"
   ],
   "id": "ea89ead80410a475",
   "outputs": [
    {
     "name": "stdout",
     "output_type": "stream",
     "text": [
      "{'riddle': '什么东西越洗越脏？', 'answer': '水'}\n",
      "<class 'dict'>\n"
     ]
    }
   ],
   "execution_count": 11
  }
 ],
 "metadata": {
  "kernelspec": {
   "display_name": "Python 3",
   "language": "python",
   "name": "python3"
  },
  "language_info": {
   "codemirror_mode": {
    "name": "ipython",
    "version": 2
   },
   "file_extension": ".py",
   "mimetype": "text/x-python",
   "name": "python",
   "nbconvert_exporter": "python",
   "pygments_lexer": "ipython2",
   "version": "2.7.6"
  }
 },
 "nbformat": 4,
 "nbformat_minor": 5
}
