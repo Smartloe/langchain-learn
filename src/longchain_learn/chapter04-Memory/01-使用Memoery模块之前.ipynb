{
 "cells": [
  {
   "cell_type": "code",
   "id": "initial_id",
   "metadata": {
    "collapsed": true,
    "jupyter": {
     "is_executing": true
    }
   },
   "source": [
    "import os\n",
    "import dotenv\n",
    "from langchain.chains.summarize.map_reduce_prompt import prompt_template\n",
    "from langchain.chat_models import ChatOpenAI\n",
    "from langchain_core.prompts import ChatPromptTemplate\n",
    "\n",
    "# 1、加载环境变量\n",
    "dotenv.load_dotenv()\n",
    "os.environ[\"OPENAI_API_KEY\"] = os.getenv(\"OPENAI_API_KEY1\")\n",
    "os.environ[\"OPENAI_BASE_URL\"] = os.getenv(\"OPENAI_BASE_URL\")\n",
    "\n",
    "# 2、获取大模型\n",
    "llm = ChatOpenAI(model=\"gpt-4o-mini\", temperature=0)\n",
    "\n",
    "\n",
    "def chat_with_model(answer):\n",
    "\t# 3、提供提示词模板\n",
    "\tprompt_template = ChatPromptTemplate.from_messages(\n",
    "\t\t[\n",
    "\t\t\t(\"system\", \"You are a helpful assistant that helps people find information.\"),\n",
    "\t\t\t(\"human\", \"{question}\"),\n",
    "\t\t]\n",
    "\t)\n",
    "\twhile True:\n",
    "\t\tchain = prompt_template | llm\n",
    "\t\tresponse = chain.invoke({\"question\": answer})\n",
    "\t\t# 输出大模型的响应\n",
    "\t\tprint(f\"模型回复: {response.content}\")\n"
   ],
   "outputs": [],
   "execution_count": null
  }
 ],
 "metadata": {
  "kernelspec": {
   "display_name": "Python 3",
   "language": "python",
   "name": "python3"
  },
  "language_info": {
   "codemirror_mode": {
    "name": "ipython",
    "version": 2
   },
   "file_extension": ".py",
   "mimetype": "text/x-python",
   "name": "python",
   "nbconvert_exporter": "python",
   "pygments_lexer": "ipython2",
   "version": "2.7.6"
  }
 },
 "nbformat": 4,
 "nbformat_minor": 5
}
