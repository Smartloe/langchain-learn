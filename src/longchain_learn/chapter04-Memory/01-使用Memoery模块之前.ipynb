{
 "cells": [
  {
   "metadata": {
    "ExecuteTime": {
     "end_time": "2025-10-04T01:43:32.873534Z",
     "start_time": "2025-10-04T01:43:11.179069Z"
    }
   },
   "cell_type": "code",
   "source": [
    "import os\n",
    "import dotenv\n",
    "from langchain.chat_models import ChatOpenAI\n",
    "from langchain_core.messages import AIMessage, HumanMessage\n",
    "from langchain_core.prompts import ChatPromptTemplate\n",
    "\n",
    "# 1、加载环境变量\n",
    "dotenv.load_dotenv()\n",
    "os.environ[\"OPENAI_API_KEY\"] = os.getenv(\"OPENAI_API_KEY1\")\n",
    "os.environ[\"OPENAI_BASE_URL\"] = os.getenv(\"OPENAI_BASE_URL\")\n",
    "\n",
    "# 2、获取大模型\n",
    "llm = ChatOpenAI(model=\"gpt-4o-mini\", temperature=0)\n",
    "\n",
    "\n",
    "def chat_with_model(answer):\n",
    "\t# 3、提供提示词模板\n",
    "\tprompt_template = ChatPromptTemplate.from_messages(\n",
    "\t\t[\n",
    "\t\t\t(\"system\", \"You are a helpful assistant that helps people find information.\"),\n",
    "\t\t\t(\"human\", \"{question}\"),\n",
    "\t\t]\n",
    "\t)\n",
    "\twhile True:\n",
    "\t\t# 4、获取chain，将提示词模板和大模型结合\n",
    "\t\tchain = prompt_template | llm\n",
    "\t\tresponse = chain.invoke({\"question\": answer})\n",
    "\n",
    "\t\t# 5、输出大模型的响应\n",
    "\t\tprint(f\"模型回复: {response.content}\")\n",
    "\n",
    "\t\t# 6、继续获取用户的问题\n",
    "\t\tuser_input = input(\"请输入您的问题 (输入 'exit' 退出): \")\n",
    "\n",
    "\t\t# 7、指明退出循环的方式\n",
    "\t\tif user_input.lower() == 'exit':\n",
    "\t\t\tprint(\"退出对话。\")\n",
    "\t\t\tbreak\n",
    "\n",
    "\t\t# 8、将上述新生成的消息存放到提示词模板的消息列表中\n",
    "\t\tprompt_template.messages.append(AIMessage(content=response.content))\n",
    "\t\tprompt_template.messages.append(HumanMessage(content=user_input))\n",
    "\n",
    "\n",
    "# 9、启动对话\n",
    "chat_with_model(\"请问北京有什么好吃的？\")"
   ],
   "id": "60243827e5cbc5a8",
   "outputs": [
    {
     "name": "stderr",
     "output_type": "stream",
     "text": [
      "C:\\Users\\Chenxr\\AppData\\Local\\Temp\\ipykernel_1788\\3059640835.py:13: LangChainDeprecationWarning: The class `ChatOpenAI` was deprecated in LangChain 0.0.10 and will be removed in 1.0. An updated version of the class exists in the :class:`~langchain-openai package and should be used instead. To use it run `pip install -U :class:`~langchain-openai` and import as `from :class:`~langchain_openai import ChatOpenAI``.\n",
      "  llm = ChatOpenAI(model=\"gpt-4o-mini\", temperature=0)\n"
     ]
    },
    {
     "name": "stdout",
     "output_type": "stream",
     "text": [
      "模型回复: 北京有很多美味的地方特色美食，以下是一些推荐：\n",
      "\n",
      "1. **北京烤鸭**：这是北京最著名的美食之一，外皮酥脆，肉质鲜嫩，通常配有薄饼、甜面酱和葱丝。\n",
      "\n",
      "2. **炸酱面**：这是一种用黄面条配上炸酱（由黄豆酱和肉末炒制而成）和各种蔬菜的传统面食。\n",
      "\n",
      "3. **豆汁**：这是一种用绿豆制作的发酵饮品，味道独特，通常搭配焦圈（炸面圈）一起食用。\n",
      "\n",
      "4. **卤煮火烧**：这是一种将火烧（类似于饼）和各种肉类、豆腐等炖煮在一起的美食，味道浓郁。\n",
      "\n",
      "5. **羊肉串**：在北京的夜市上，羊肉串是非常受欢迎的小吃，通常用香料腌制后烤制而成。\n",
      "\n",
      "6. **京味小吃**：如糖葫芦、驴打滚、炸春卷等，都是非常受欢迎的传统小吃。\n",
      "\n",
      "7. **涮羊肉**：在火锅店可以享受到新鲜的羊肉片，搭配各种蔬菜和调料，十分美味。\n",
      "\n",
      "8. **北京豆腐脑**：这是一种用豆腐制作的传统小吃，通常有咸和甜两种口味。\n",
      "\n",
      "如果你有机会到北京旅游，记得尝试这些美食！\n",
      "模型回复: 贾宝玉是中国古典小说《红楼梦》中的主要人物之一。该小说由曹雪芹创作，是中国文学史上的经典之作。贾宝玉是贾府的公子，性格温柔、善良，重情重义，对女性有着深厚的感情。他与林黛玉、薛宝钗等女性角色之间的情感纠葛是小说的主要情节之一。\n",
      "\n",
      "贾宝玉的身上有着许多象征意义，他的名字中“宝玉”二字也暗示了他与女性之间的复杂关系，以及对美好事物的追求。贾宝玉的性格和经历反映了当时社会的种种矛盾和人性的复杂，是《红楼梦》中最具代表性的人物之一。\n",
      "退出对话。\n"
     ]
    }
   ],
   "execution_count": 1
  }
 ],
 "metadata": {
  "kernelspec": {
   "display_name": "Python 3",
   "language": "python",
   "name": "python3"
  },
  "language_info": {
   "codemirror_mode": {
    "name": "ipython",
    "version": 2
   },
   "file_extension": ".py",
   "mimetype": "text/x-python",
   "name": "python",
   "nbconvert_exporter": "python",
   "pygments_lexer": "ipython2",
   "version": "2.7.6"
  }
 },
 "nbformat": 4,
 "nbformat_minor": 5
}
