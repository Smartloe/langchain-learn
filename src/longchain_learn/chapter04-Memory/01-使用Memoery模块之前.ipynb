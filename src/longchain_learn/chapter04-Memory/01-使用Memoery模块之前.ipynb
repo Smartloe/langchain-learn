{
 "cells": [
  {
   "metadata": {
    "ExecuteTime": {
     "end_time": "2025-10-04T02:12:02.151673Z",
     "start_time": "2025-10-04T02:11:24.888127Z"
    }
   },
   "cell_type": "code",
   "source": [
    "import os\n",
    "import dotenv\n",
    "from langchain.chat_models import ChatOpenAI\n",
    "from langchain_core.messages import AIMessage, HumanMessage\n",
    "from langchain_core.prompts import ChatPromptTemplate\n",
    "\n",
    "# 1、加载环境变量\n",
    "dotenv.load_dotenv()\n",
    "os.environ[\"OPENAI_API_KEY\"] = os.getenv(\"OPENAI_API_KEY1\")\n",
    "os.environ[\"OPENAI_BASE_URL\"] = os.getenv(\"OPENAI_BASE_URL\")\n",
    "\n",
    "# 2、获取大模型\n",
    "llm = ChatOpenAI(model=\"gpt-4o-mini\", temperature=0)\n",
    "\n",
    "\n",
    "def chat_with_model(answer):\n",
    "\t# 3、提供提示词模板\n",
    "\tprompt_template = ChatPromptTemplate.from_messages(\n",
    "\t\t[\n",
    "\t\t\t(\"system\", \"You are a helpful assistant that helps people find information.\"),\n",
    "\t\t\t(\"human\", \"{question}\"),\n",
    "\t\t]\n",
    "\t)\n",
    "\twhile True:\n",
    "\t\t# 4、获取chain，将提示词模板和大模型结合\n",
    "\t\tchain = prompt_template | llm\n",
    "\t\tresponse = chain.invoke({\"question\": answer})\n",
    "\n",
    "\t\t# 5、输出大模型的响应\n",
    "\t\tprint(f\"模型回复: {response.content}\")\n",
    "\n",
    "\t\t# 6、继续获取用户的问题\n",
    "\t\tuser_input = input(\"请输入您的问题 (输入 'exit' 退出): \")\n",
    "\n",
    "\t\t# 7、指明退出循环的方式\n",
    "\t\tif user_input.lower() == 'exit':\n",
    "\t\t\tprint(\"退出对话。\")\n",
    "\t\t\tbreak\n",
    "\n",
    "\t\t# 8、将上述新生成的消息存放到提示词模板的消息列表中\n",
    "\t\tprompt_template.messages.append(AIMessage(content=response.content))\n",
    "\t\tprompt_template.messages.append(HumanMessage(content=user_input))\n",
    "\n",
    "\n",
    "# 9、启动对话\n",
    "chat_with_model(\"请问北京有什么好吃的？\")"
   ],
   "id": "60243827e5cbc5a8",
   "outputs": [
    {
     "name": "stdout",
     "output_type": "stream",
     "text": [
      "模型回复: 北京有很多美味的地方特色美食，以下是一些推荐：\n",
      "\n",
      "1. **北京烤鸭**：这是北京最著名的美食之一，外皮酥脆，肉质鲜嫩，通常配有薄饼、甜面酱和葱丝。\n",
      "\n",
      "2. **炸酱面**：这是一种用黄面条配上炸酱（由黄豆酱和肉末炒制而成）和各种蔬菜的传统面食。\n",
      "\n",
      "3. **豆汁**：这是一种用绿豆制作的发酵饮品，味道独特，通常搭配焦圈（炸面圈）一起食用。\n",
      "\n",
      "4. **卤煮火烧**：这是一种将火烧（类似于饼）和各种肉类、豆腐等炖煮在一起的美食，味道浓郁。\n",
      "\n",
      "5. **京味小吃**：如糖葫芦、驴打滚、炸糕等，都是非常受欢迎的小吃。\n",
      "\n",
      "6. **涮羊肉**：在冬天特别受欢迎，通常用新鲜的羊肉片和各种蔬菜在火锅中涮煮。\n",
      "\n",
      "7. **北京炸鸡**：虽然不是传统的北京菜，但近年来在北京也非常流行，许多地方提供美味的炸鸡。\n",
      "\n",
      "8. **羊蝎子**：这是一种以羊脊骨为主料的火锅，肉质鲜嫩，汤底浓郁。\n",
      "\n",
      "在北京，除了这些传统美食，还有许多国际美食和现代餐厅，可以满足不同口味的需求。希望你能在北京享受到美味的食物！\n",
      "模型回复: 您刚才询问的是北京的美食。\n",
      "退出对话。\n"
     ]
    }
   ],
   "execution_count": 2
  }
 ],
 "metadata": {
  "kernelspec": {
   "display_name": "Python 3",
   "language": "python",
   "name": "python3"
  },
  "language_info": {
   "codemirror_mode": {
    "name": "ipython",
    "version": 2
   },
   "file_extension": ".py",
   "mimetype": "text/x-python",
   "name": "python",
   "nbconvert_exporter": "python",
   "pygments_lexer": "ipython2",
   "version": "2.7.6"
  }
 },
 "nbformat": 4,
 "nbformat_minor": 5
}
