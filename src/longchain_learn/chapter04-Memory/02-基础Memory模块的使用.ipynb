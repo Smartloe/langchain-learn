{
 "cells": [
  {
   "metadata": {
    "collapsed": true
   },
   "cell_type": "markdown",
   "source": "## 1、ChatMessageHistory(基础)的使用",
   "id": "8354ea905e90ce72"
  },
  {
   "metadata": {
    "ExecuteTime": {
     "end_time": "2025-10-04T06:40:15.163990Z",
     "start_time": "2025-10-04T06:40:12.079420Z"
    }
   },
   "cell_type": "code",
   "source": [
    "# 场景一：记忆存储\n",
    "from langchain.memory import ChatMessageHistory\n",
    "\n",
    "# 1、ChatMessageHistory实例化\n",
    "history = ChatMessageHistory()\n",
    "\n",
    "# 2、添加消息\n",
    "history.add_user_message(\"你好\")\n",
    "history.add_ai_message(\"你好！有什么我可以帮助你的吗？\")\n",
    "\n",
    "# 3、获取消息\n",
    "messages = history.messages\n",
    "for message in messages:\n",
    "\tprint(f\"{message.type}: {message.content}\")"
   ],
   "id": "11fd3506af70a24a",
   "outputs": [
    {
     "name": "stdout",
     "output_type": "stream",
     "text": [
      "human: 你好\n",
      "ai: 你好！有什么我可以帮助你的吗？\n"
     ]
    }
   ],
   "execution_count": 1
  },
  {
   "metadata": {
    "ExecuteTime": {
     "end_time": "2025-10-04T06:45:26.415092Z",
     "start_time": "2025-10-04T06:45:24.418004Z"
    }
   },
   "cell_type": "code",
   "source": [
    "# 场景二：与LLM集成\n",
    "from langchain.chat_models import ChatOpenAI\n",
    "from langchain.memory import ChatMessageHistory\n",
    "import os\n",
    "import dotenv\n",
    "\n",
    "# 1、加载环境变量\n",
    "dotenv.load_dotenv()\n",
    "os.environ[\"OPENAI_API_KEY\"] = os.getenv(\"OPENAI_API_KEY1\")\n",
    "os.environ[\"OPENAI_BASE_URL\"] = os.getenv(\"OPENAI_BASE_URL\")\n",
    "# 2、实例化ChatOpenAI\n",
    "llm = ChatOpenAI(model=\"gpt-4o-mini\", temperature=0)\n",
    "# 3、实例化ChatMessageHistory\n",
    "history = ChatMessageHistory()\n",
    "# 4、添加用户消息\n",
    "history.add_user_message(\"你好\")\n",
    "# 5、获取消息并调用LLM\n",
    "response = llm.invoke(history.messages)\n",
    "print(\"AI:\", response.content)\n",
    "# 6、添加AI消息到历史\n",
    "history.add_ai_message(response.content)\n",
    "# 7、继续对话\n",
    "history.add_user_message(\"今天天气怎么样？\")\n",
    "response = llm.invoke(history.messages)\n",
    "print(\"AI:\", response.content)\n",
    "history.add_ai_message(response.content)\n",
    "# 8、查看完整对话历史\n",
    "for message in history.messages:\n",
    "\tprint(f\"{message.type}: {message.content}\")"
   ],
   "id": "4cc83213d52990a5",
   "outputs": [
    {
     "name": "stdout",
     "output_type": "stream",
     "text": [
      "AI: 你好！有什么我可以帮助你的吗？\n",
      "AI: 我无法实时获取天气信息，但你可以通过天气应用、网站或当地新闻来查看今天天气。如果你告诉我你所在的城市，我可以给你一些建议，如何查找天气信息！\n",
      "human: 你好\n",
      "ai: 你好！有什么我可以帮助你的吗？\n",
      "human: 今天天气怎么样？\n",
      "ai: 我无法实时获取天气信息，但你可以通过天气应用、网站或当地新闻来查看今天天气。如果你告诉我你所在的城市，我可以给你一些建议，如何查找天气信息！\n"
     ]
    }
   ],
   "execution_count": 3
  }
 ],
 "metadata": {
  "kernelspec": {
   "display_name": "Python 3",
   "language": "python",
   "name": "python3"
  },
  "language_info": {
   "codemirror_mode": {
    "name": "ipython",
    "version": 2
   },
   "file_extension": ".py",
   "mimetype": "text/x-python",
   "name": "python",
   "nbconvert_exporter": "python",
   "pygments_lexer": "ipython2",
   "version": "2.7.6"
  }
 },
 "nbformat": 4,
 "nbformat_minor": 5
}
