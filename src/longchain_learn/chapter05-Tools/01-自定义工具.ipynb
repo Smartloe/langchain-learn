{
 "cells": [
  {
   "metadata": {},
   "cell_type": "markdown",
   "source": "## 1、使用@tool装饰器定义工具",
   "id": "e0bdca97ad62a058"
  },
  {
   "metadata": {
    "ExecuteTime": {
     "end_time": "2025-10-09T11:40:32.481565Z",
     "start_time": "2025-10-09T11:40:32.452643Z"
    }
   },
   "cell_type": "code",
   "source": [
    "# 举例1\n",
    "from langchain_core.tools import tool\n",
    "\n",
    "\n",
    "@tool\n",
    "def add_numbers(a: int, b: int) -> int:\n",
    "\t\"\"\"计算两个整数的和\"\"\"\n",
    "\treturn a + b\n",
    "\n",
    "\n",
    "print(f\"name={add_numbers.name}\")  #默认函数名\n",
    "print(f\"args={add_numbers.args}\")\n",
    "print(f\"description={add_numbers.description}\")  #默认函数注释\n",
    "print(f\"return_direct={add_numbers.return_direct}\")  #默认False"
   ],
   "id": "7c8986a45f41e1c7",
   "outputs": [
    {
     "name": "stdout",
     "output_type": "stream",
     "text": [
      "name=add_numbers\n",
      "args={'a': {'title': 'A', 'type': 'integer'}, 'b': {'title': 'B', 'type': 'integer'}}\n",
      "description=计算两个整数的和\n",
      "return_direct=False\n"
     ]
    }
   ],
   "execution_count": 3
  },
  {
   "metadata": {
    "ExecuteTime": {
     "end_time": "2025-10-09T11:43:10.571834Z",
     "start_time": "2025-10-09T11:43:10.542913Z"
    }
   },
   "cell_type": "code",
   "source": [
    "# 举例2\n",
    "from langchain_core.tools import tool\n",
    "\n",
    "\n",
    "@tool(name_or_callable=\"add_two_numbers\", return_direct=True, description=\"这是一个计算两个整数和的函数\")\n",
    "def add_numbers(a: int, b: int) -> int:\n",
    "\t\"\"\"计算两个整数的和\"\"\"\n",
    "\treturn a + b\n",
    "\n",
    "\n",
    "print(f\"name={add_numbers.name}\")  #默认函数名\n",
    "print(f\"args={add_numbers.args}\")\n",
    "print(f\"description={add_numbers.description}\")  #默认函数注释\n",
    "print(f\"return_direct={add_numbers.return_direct}\")  #默认False"
   ],
   "id": "9a98566f1572cc56",
   "outputs": [
    {
     "name": "stdout",
     "output_type": "stream",
     "text": [
      "name=add_two_numbers\n",
      "args={'a': {'title': 'A', 'type': 'integer'}, 'b': {'title': 'B', 'type': 'integer'}}\n",
      "description=这是一个计算两个整数和的函数\n",
      "return_direct=True\n"
     ]
    }
   ],
   "execution_count": 4
  },
  {
   "metadata": {
    "ExecuteTime": {
     "end_time": "2025-10-09T11:44:21.688936Z",
     "start_time": "2025-10-09T11:44:21.631034Z"
    }
   },
   "cell_type": "code",
   "source": [
    "# 调用工具\n",
    "add_numbers.invoke({\"a\": 10, \"b\": 20})"
   ],
   "id": "a8f14dd71e32a45f",
   "outputs": [
    {
     "data": {
      "text/plain": [
       "30"
      ]
     },
     "execution_count": 5,
     "metadata": {},
     "output_type": "execute_result"
    }
   ],
   "execution_count": 5
  },
  {
   "metadata": {
    "ExecuteTime": {
     "end_time": "2025-10-09T11:49:31.661213Z",
     "start_time": "2025-10-09T11:49:31.639272Z"
    }
   },
   "cell_type": "code",
   "source": [
    "# 举例3：修改args参数的描述\n",
    "from langchain_core.tools import tool\n",
    "from pydantic import Field\n",
    "from pydantic import BaseModel\n",
    "\n",
    "\n",
    "class FieldInfo(BaseModel):\n",
    "\ta: int = Field(description=\"第一个整型参数\")\n",
    "\tb: int = Field(description=\"第二个整型参数\")\n",
    "\n",
    "\n",
    "@tool(name_or_callable=\"add_two_numbers\", return_direct=True, description=\"这是一个计算两个整数和的函数\",\n",
    "      args_schema=FieldInfo)\n",
    "def add_numbers(a: int, b: int) -> int:\n",
    "\t\"\"\"计算两个整数的和\"\"\"\n",
    "\treturn a + b\n",
    "\n",
    "\n",
    "print(f\"name={add_numbers.name}\")  #默认函数名\n",
    "print(f\"args={add_numbers.args}\")\n",
    "print(f\"description={add_numbers.description}\")  #默认函数注释\n",
    "print(f\"return_direct={add_numbers.return_direct}\")  #默认False"
   ],
   "id": "28ea8b481197cccc",
   "outputs": [
    {
     "name": "stdout",
     "output_type": "stream",
     "text": [
      "name=add_two_numbers\n",
      "args={'a': {'description': '第一个整数', 'title': 'A', 'type': 'integer'}, 'b': {'description': '第二个整数', 'title': 'B', 'type': 'integer'}}\n",
      "description=这是一个计算两个整数和的函数\n",
      "return_direct=True\n"
     ]
    }
   ],
   "execution_count": 7
  },
  {
   "metadata": {},
   "cell_type": "markdown",
   "source": [
    "## 2、StructuredTool的from_function()\n",
    "StructuredTool.from_function 类方法提供了比 @tool 装饰器更多的可配置性，而无需太多额外的代码。"
   ],
   "id": "fdcdfab3df8bce26"
  },
  {
   "metadata": {
    "ExecuteTime": {
     "end_time": "2025-10-09T11:55:55.129065Z",
     "start_time": "2025-10-09T11:55:55.102085Z"
    }
   },
   "cell_type": "code",
   "source": [
    "# 举例1\n",
    "from langchain_core.tools import StructuredTool\n",
    "\n",
    "\n",
    "# 声明一个函数\n",
    "def search_engine(query: str):\n",
    "\t\"\"\"一个搜索引擎的模拟函数\"\"\"\n",
    "\treturn \"最后查询到的结果\"\n",
    "\n",
    "\n",
    "# 定义一个工具\n",
    "search_tool = StructuredTool.from_function(\n",
    "\tfunc=search_engine,  #\n",
    "\tname=\"search_engine\",\n",
    "\tdescription=\"一个搜索引擎的模拟函数\",\n",
    "\treturn_direct=True\n",
    ")\n",
    "\n",
    "print(f\"name={search_tool.name}\")  #默认函数名\n",
    "print(f\"args={search_tool.args}\")\n",
    "print(f\"description={search_tool.description}\")  #默认函数注释\n",
    "print(f\"return_direct={search_tool.return_direct}\")  #默认False"
   ],
   "id": "8ddd28fdf30c255f",
   "outputs": [
    {
     "name": "stdout",
     "output_type": "stream",
     "text": [
      "name=search_engine\n",
      "args={'query': {'title': 'Query', 'type': 'string'}}\n",
      "description=一个搜索引擎的模拟函数\n",
      "return_direct=True\n"
     ]
    }
   ],
   "execution_count": 8
  },
  {
   "metadata": {
    "ExecuteTime": {
     "end_time": "2025-10-09T11:57:47.243956Z",
     "start_time": "2025-10-09T11:57:47.219989Z"
    }
   },
   "cell_type": "code",
   "source": [
    "# 调用工具\n",
    "search_tool.invoke({\"query\": \"Python\"})"
   ],
   "id": "8c01bc6468fdc11b",
   "outputs": [
    {
     "data": {
      "text/plain": [
       "'最后查询到的结果'"
      ]
     },
     "execution_count": 9,
     "metadata": {},
     "output_type": "execute_result"
    }
   ],
   "execution_count": 9
  },
  {
   "metadata": {
    "ExecuteTime": {
     "end_time": "2025-10-09T12:02:51.546643Z",
     "start_time": "2025-10-09T12:02:51.533643Z"
    }
   },
   "cell_type": "code",
   "source": [
    "# 举例2\n",
    "from langchain_core.tools import StructuredTool\n",
    "from pydantic import BaseModel\n",
    "\n",
    "\n",
    "class FieldInfo(BaseModel):\n",
    "\tquery: str = Field(description=\"搜索的关键词\")\n",
    "\n",
    "\n",
    "# 声明一个函数\n",
    "def search_engine(query: str):\n",
    "\t\"\"\"一个搜索引擎的模拟函数\"\"\"\n",
    "\treturn \"最后查询到的结果\"\n",
    "\n",
    "\n",
    "# 定义一个工具\n",
    "search_tool01 = StructuredTool.from_function(\n",
    "\tfunc=search_engine,  #\n",
    "\tname=\"search_engine\",\n",
    "\tdescription=\"一个搜索引擎的模拟函数\",\n",
    "\treturn_direct=True,\n",
    "\targs_schema=FieldInfo  #自定义参数描述\n",
    ")\n",
    "\n",
    "print(f\"name={search_tool01.name}\")  #默认函数名\n",
    "print(f\"args={search_tool01.args}\")\n",
    "print(f\"description={search_tool01.description}\")  #默认函数注释\n",
    "print(f\"return_direct={search_tool01.return_direct}\")  #默认False"
   ],
   "id": "3729a35c3ba29988",
   "outputs": [
    {
     "name": "stdout",
     "output_type": "stream",
     "text": [
      "name=search_engine\n",
      "args={'query': {'description': '搜索的关键词', 'title': 'Query', 'type': 'string'}}\n",
      "description=一个搜索引擎的模拟函数\n",
      "return_direct=True\n"
     ]
    }
   ],
   "execution_count": 11
  }
 ],
 "metadata": {
  "kernelspec": {
   "display_name": "Python 3",
   "language": "python",
   "name": "python3"
  },
  "language_info": {
   "codemirror_mode": {
    "name": "ipython",
    "version": 2
   },
   "file_extension": ".py",
   "mimetype": "text/x-python",
   "name": "python",
   "nbconvert_exporter": "python",
   "pygments_lexer": "ipython2",
   "version": "2.7.6"
  }
 },
 "nbformat": 4,
 "nbformat_minor": 5
}
