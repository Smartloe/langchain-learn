{
 "cells": [
  {
   "metadata": {
    "collapsed": true
   },
   "cell_type": "markdown",
   "source": "## 举例1：大模型分析工具的调用",
   "id": "c68c37b7b26e0cc5"
  },
  {
   "metadata": {
    "ExecuteTime": {
     "end_time": "2025-10-09T12:23:24.896917Z",
     "start_time": "2025-10-09T12:23:21.006279Z"
    }
   },
   "cell_type": "code",
   "source": [
    "from langchain_core.utils.function_calling import convert_to_openai_function\n",
    "from langchain_community.tools import MoveFileTool\n",
    "from langchain_core.messages import HumanMessage\n",
    "from langchain_openai import ChatOpenAI\n",
    "import os\n",
    "import dotenv\n",
    "from markdown_it.cli.parse import convert\n",
    "\n",
    "# 1、加载环境变量\n",
    "dotenv.load_dotenv()\n",
    "os.environ[\"OPENAI_API_KEY\"] = os.getenv(\"OPENAI_API_KEY1\")\n",
    "os.environ[\"OPENAI_BASE_URL\"] = os.getenv(\"OPENAI_BASE_URL\")\n",
    "\n",
    "# 2、获取大模型\n",
    "llm = ChatOpenAI(model=\"gpt-4o-mini\", temperature=0.2)\n",
    "\n",
    "# 3、获取工具列表\n",
    "tools = [MoveFileTool()]  # 这里可以添加更多工具\n",
    "# 4、因为大模型invoke调用时需要传入函数的列表，所以需要把工具转换成函数\n",
    "function = [convert_to_openai_function(tool) for tool in tools]\n",
    "\n",
    "# 5、获取消息列表\n",
    "messages = [HumanMessage(content=\"将文件A移动到桌面\")]\n",
    "\n",
    "# 6、调用大模型（传入消息、工具列表）\n",
    "response = llm.invoke(\n",
    "\tinput=messages,\n",
    "\t# tools=tools, # 不支持直接传入工具列表\n",
    "\tfunctions=function,\n",
    ")\n",
    "print(response)"
   ],
   "id": "432d50b0d0f711a7",
   "outputs": [
    {
     "name": "stdout",
     "output_type": "stream",
     "text": [
      "content='请提供文件A的具体路径，以便我可以将其移动到桌面。' additional_kwargs={'refusal': None} response_metadata={'token_usage': {'completion_tokens': 20, 'prompt_tokens': 76, 'total_tokens': 96, 'completion_tokens_details': {'accepted_prediction_tokens': 0, 'audio_tokens': 0, 'reasoning_tokens': 0, 'rejected_prediction_tokens': 0}, 'prompt_tokens_details': {'audio_tokens': 0, 'cached_tokens': 0}}, 'model_name': 'gpt-4o-mini-2024-07-18', 'system_fingerprint': 'fp_efad92c60b', 'id': 'chatcmpl-COjxzHvQ8TxTamUKsPCh1sA0eu0Hx', 'service_tier': None, 'finish_reason': 'stop', 'logprobs': None} id='run--25193ec7-af68-4537-9eaf-875339493d20-0' usage_metadata={'input_tokens': 76, 'output_tokens': 20, 'total_tokens': 96, 'input_token_details': {'audio': 0, 'cache_read': 0}, 'output_token_details': {'audio': 0, 'reasoning': 0}}\n"
     ]
    }
   ],
   "execution_count": 10
  }
 ],
 "metadata": {
  "kernelspec": {
   "display_name": "Python 3",
   "language": "python",
   "name": "python3"
  },
  "language_info": {
   "codemirror_mode": {
    "name": "ipython",
    "version": 2
   },
   "file_extension": ".py",
   "mimetype": "text/x-python",
   "name": "python",
   "nbconvert_exporter": "python",
   "pygments_lexer": "ipython2",
   "version": "2.7.6"
  }
 },
 "nbformat": 4,
 "nbformat_minor": 5
}
