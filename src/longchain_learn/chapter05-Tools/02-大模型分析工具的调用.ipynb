{
 "cells": [
  {
   "metadata": {
    "collapsed": true
   },
   "cell_type": "markdown",
   "source": "## 举例1：大模型分析工具的调用",
   "id": "c68c37b7b26e0cc5"
  },
  {
   "metadata": {
    "ExecuteTime": {
     "end_time": "2025-10-09T13:10:26.235404Z",
     "start_time": "2025-10-09T13:10:21.231182Z"
    }
   },
   "cell_type": "code",
   "source": [
    "from langchain_core.utils.function_calling import convert_to_openai_function\n",
    "from langchain_community.tools import MoveFileTool\n",
    "from langchain_core.messages import HumanMessage\n",
    "from langchain_openai import ChatOpenAI\n",
    "import os\n",
    "import dotenv\n",
    "from markdown_it.cli.parse import convert\n",
    "\n",
    "# 1、加载环境变量\n",
    "dotenv.load_dotenv()\n",
    "os.environ[\"OPENAI_API_KEY\"] = os.getenv(\"OPENAI_API_KEY1\")\n",
    "os.environ[\"OPENAI_BASE_URL\"] = os.getenv(\"OPENAI_BASE_URL\")\n",
    "\n",
    "# 2、获取大模型\n",
    "llm = ChatOpenAI(model=\"gpt-4o-mini\", temperature=0)\n",
    "\n",
    "# 3、获取工具列表\n",
    "tools = [MoveFileTool()]  # 这里可以添加更多工具\n",
    "# 4、因为大模型invoke调用时需要传入函数的列表，所以需要把工具转换成函数\n",
    "function = [convert_to_openai_function(tool) for tool in tools]\n",
    "\n",
    "# 5、获取消息列表\n",
    "messages = [HumanMessage(content=\"将文件a移动到桌面\")]\n",
    "\n",
    "# 6、调用大模型（传入消息、工具列表）\n",
    "response = llm.invoke(\n",
    "\tinput=messages,\n",
    "\t# tools=tools, # 不支持直接传入工具列表\n",
    "\tfunctions=function,\n",
    ")\n",
    "print(response)"
   ],
   "id": "432d50b0d0f711a7",
   "outputs": [
    {
     "name": "stdout",
     "output_type": "stream",
     "text": [
      "content='' additional_kwargs={'function_call': {'arguments': '{\"source_path\":\"a\",\"destination_path\":\"/Users/YourUsername/Desktop/a\"}', 'name': 'move_file'}, 'refusal': None} response_metadata={'token_usage': {'completion_tokens': 27, 'prompt_tokens': 76, 'total_tokens': 103, 'completion_tokens_details': {'accepted_prediction_tokens': 0, 'audio_tokens': 0, 'reasoning_tokens': 0, 'rejected_prediction_tokens': 0}, 'prompt_tokens_details': {'audio_tokens': 0, 'cached_tokens': 0}}, 'model_name': 'gpt-4o-mini-2024-07-18', 'system_fingerprint': 'fp_efad92c60b', 'id': 'chatcmpl-COkhUQwXg8lvkmdMRoz3oaozTBOtx', 'service_tier': None, 'finish_reason': 'function_call', 'logprobs': None} id='run--57ccc241-747f-49f5-8c1a-373c5a8c8b01-0' usage_metadata={'input_tokens': 76, 'output_tokens': 27, 'total_tokens': 103, 'input_token_details': {'audio': 0, 'cache_read': 0}, 'output_token_details': {'audio': 0, 'reasoning': 0}}\n"
     ]
    }
   ],
   "execution_count": 16
  },
  {
   "metadata": {
    "ExecuteTime": {
     "end_time": "2025-10-09T13:10:58.952206Z",
     "start_time": "2025-10-09T13:10:55.386803Z"
    }
   },
   "cell_type": "code",
   "source": [
    "# 作为对比\n",
    "from langchain_core.utils.function_calling import convert_to_openai_function\n",
    "from langchain_community.tools import MoveFileTool\n",
    "from langchain_core.messages import HumanMessage\n",
    "from langchain_openai import ChatOpenAI\n",
    "import os\n",
    "import dotenv\n",
    "from markdown_it.cli.parse import convert\n",
    "\n",
    "# 1、加载环境变量\n",
    "dotenv.load_dotenv()\n",
    "os.environ[\"OPENAI_API_KEY\"] = os.getenv(\"OPENAI_API_KEY1\")\n",
    "os.environ[\"OPENAI_BASE_URL\"] = os.getenv(\"OPENAI_BASE_URL\")\n",
    "\n",
    "# 2、获取大模型\n",
    "llm = ChatOpenAI(model=\"gpt-4o-mini\", temperature=0)\n",
    "\n",
    "# 3、获取工具列表\n",
    "tools = [\n",
    "\tMoveFileTool(),\n",
    "]  # 这里可以添加更多工具\n",
    "\n",
    "# 4、因为大模型invoke调用时需要传入函数的列表，所以需要把工具转换成函数\n",
    "functions = [convert_to_openai_function(tool) for tool in tools]\n",
    "\n",
    "# 5、获取消息列表\n",
    "messages = [HumanMessage(content=\"查询上海明天的天气信息\")]\n",
    "\n",
    "# 6、调用大模型（传入消息、工具列表）\n",
    "response = llm.invoke(\n",
    "\tinput=messages,\n",
    "\t# tools=tools, # 不支持直接传入工具列表\n",
    "\tfunctions=functions,\n",
    ")\n",
    "\n",
    "print(response)"
   ],
   "id": "f439a0b6143da607",
   "outputs": [
    {
     "name": "stdout",
     "output_type": "stream",
     "text": [
      "content='抱歉，我无法提供实时的天气信息。建议您查看天气预报网站或使用天气应用程序获取上海明天的天气信息。' additional_kwargs={'refusal': None} response_metadata={'token_usage': {'completion_tokens': 32, 'prompt_tokens': 76, 'total_tokens': 108, 'completion_tokens_details': {'accepted_prediction_tokens': 0, 'audio_tokens': 0, 'reasoning_tokens': 0, 'rejected_prediction_tokens': 0}, 'prompt_tokens_details': {'audio_tokens': 0, 'cached_tokens': 0}}, 'model_name': 'gpt-4o-mini-2024-07-18', 'system_fingerprint': 'fp_efad92c60b', 'id': 'chatcmpl-COki1GgHcWS0MjZQAGvziYwFpQmLD', 'service_tier': None, 'finish_reason': 'stop', 'logprobs': None} id='run--775c4175-cd30-4e73-93a3-a81df6d1f0b3-0' usage_metadata={'input_tokens': 76, 'output_tokens': 32, 'total_tokens': 108, 'input_token_details': {'audio': 0, 'cache_read': 0}, 'output_token_details': {'audio': 0, 'reasoning': 0}}\n"
     ]
    }
   ],
   "execution_count": 17
  },
  {
   "metadata": {},
   "cell_type": "markdown",
   "source": [
    "通过上述2个例子可以看出，得到的AIMessages的核心属性如下：\n",
    "- 如果分析出需要调用对应的工具：\n",
    "\n",
    "\t- content：信息为空。因为大模型要调用工具，所以不需要返回内容\n",
    "\t - additional_kwargs：包含function_call字段，指明具体函数调用的参数和函数名。\n",
    "- 如果没有分析出需要调用对应的工具：\n",
    "\t- content：信息不为空。包含大模型的回答内容\n",
    "\t - additional_kwargs：不包含function_call字段。"
   ],
   "id": "448b7710dac8e107"
  },
  {
   "metadata": {},
   "cell_type": "markdown",
   "source": [
    "## 举例2：如何调用具体大模型分析出来的工具\n",
    "\n",
    "说明：\n",
    "\n",
    "1. 大模型与Agent的区别：是否涉及到工具的调用\n",
    "2. 针对于大模型：仅能分析出要调用的工具，但是此工具（或函数）不能真正被调用\n",
    "3. 针对于Agent：不仅能分析出要调用的工具，而且此工具（或函数）能真正被调用\n"
   ],
   "id": "2339e176e3bfff61"
  },
  {
   "metadata": {
    "ExecuteTime": {
     "end_time": "2025-10-09T15:12:10.412373Z",
     "start_time": "2025-10-09T15:12:00.588029Z"
    }
   },
   "cell_type": "code",
   "source": [
    "from langchain_core.utils.function_calling import convert_to_openai_function\n",
    "from langchain_community.tools import MoveFileTool\n",
    "from langchain_core.messages import HumanMessage\n",
    "from langchain_openai import ChatOpenAI\n",
    "import os\n",
    "import dotenv\n",
    "from markdown_it.cli.parse import convert\n",
    "\n",
    "# 1、加载环境变量\n",
    "dotenv.load_dotenv()\n",
    "os.environ[\"OPENAI_API_KEY\"] = os.getenv(\"OPENAI_API_KEY1\")\n",
    "os.environ[\"OPENAI_BASE_URL\"] = os.getenv(\"OPENAI_BASE_URL\")\n",
    "\n",
    "# 2、获取大模型\n",
    "llm = ChatOpenAI(model=\"gpt-4o-mini\", temperature=0)\n",
    "\n",
    "# 3、获取工具列表\n",
    "tools = [MoveFileTool()]  # 这里可以添加更多工具\n",
    "# 4、因为大模型invoke调用时需要传入函数的列表，所以需要把工具转换成函数\n",
    "function = [convert_to_openai_function(tool) for tool in tools]\n",
    "\n",
    "# 5、获取消息列表\n",
    "messages = [HumanMessage(content=r\"将当前目录下的文件a.txt移动到C:\\Users\\Chenxr\\Desktop\")]\n",
    "\n",
    "# 6、调用大模型（传入消息、工具列表）\n",
    "response = llm.invoke(\n",
    "\tinput=messages,\n",
    "\t# tools=tools, # 不支持直接传入工具列表\n",
    "\tfunctions=function,\n",
    ")\n",
    "# print(response)"
   ],
   "id": "8987fb368da6e68b",
   "outputs": [],
   "execution_count": 26
  },
  {
   "metadata": {},
   "cell_type": "markdown",
   "source": "### 步骤一：分析要调用哪个工具或函数",
   "id": "20ec3d871036d9b8"
  },
  {
   "metadata": {
    "ExecuteTime": {
     "end_time": "2025-10-09T15:13:42.730477Z",
     "start_time": "2025-10-09T15:13:42.712488Z"
    }
   },
   "cell_type": "code",
   "source": [
    "import json\n",
    "\n",
    "if \"function_call\" in response.additional_kwargs:\n",
    "\t# 1、获取函数名/工具名\n",
    "\ttool_name = response.additional_kwargs[\"function_call\"][\"name\"]\n",
    "\t# 2、获取函数参数\n",
    "\ttool_args = json.loads(response.additional_kwargs[\"function_call\"][\"arguments\"])\n",
    "\tprint(f\"函数名/工具名：{tool_name}\")\n",
    "\tprint(f\"函数参数：{tool_args}\")\n",
    "else:\n",
    "\tprint(f\"模型回复：{response.content}\")"
   ],
   "id": "d2926eada96af",
   "outputs": [
    {
     "name": "stdout",
     "output_type": "stream",
     "text": [
      "函数名/工具名：move_file\n",
      "函数参数：{'source_path': 'a.txt', 'destination_path': 'C:\\\\Users\\\\Chenxr\\\\Desktop\\\\a.txt'}\n"
     ]
    }
   ],
   "execution_count": 29
  },
  {
   "metadata": {},
   "cell_type": "markdown",
   "source": "### 步骤二：根据函数名/工具名，调用对应的工具或函数",
   "id": "a17765fb1937af1e"
  },
  {
   "metadata": {
    "ExecuteTime": {
     "end_time": "2025-10-09T15:13:46.446627Z",
     "start_time": "2025-10-09T15:13:46.421681Z"
    }
   },
   "cell_type": "code",
   "source": [
    "if \"move_file\" in response.additional_kwargs[\"function_call\"][\"name\"]:\n",
    "\ttool = MoveFileTool()\n",
    "\tresult = tool.run(tool_args)  # 调用工具\n",
    "\tprint(f\"工具调用结果：{result}\")"
   ],
   "id": "bcb8c767f8ad8380",
   "outputs": [
    {
     "name": "stdout",
     "output_type": "stream",
     "text": [
      "工具调用结果：File moved successfully from a.txt to C:\\Users\\Chenxr\\Desktop\\a.txt.\n"
     ]
    }
   ],
   "execution_count": 30
  }
 ],
 "metadata": {
  "kernelspec": {
   "display_name": "Python 3",
   "language": "python",
   "name": "python3"
  },
  "language_info": {
   "codemirror_mode": {
    "name": "ipython",
    "version": 2
   },
   "file_extension": ".py",
   "mimetype": "text/x-python",
   "name": "python",
   "nbconvert_exporter": "python",
   "pygments_lexer": "ipython2",
   "version": "2.7.6"
  }
 },
 "nbformat": 4,
 "nbformat_minor": 5
}
