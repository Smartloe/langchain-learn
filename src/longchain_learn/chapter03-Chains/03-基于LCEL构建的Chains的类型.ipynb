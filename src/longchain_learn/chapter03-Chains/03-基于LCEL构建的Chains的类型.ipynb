{
 "cells": [
  {
   "metadata": {
    "collapsed": true
   },
   "cell_type": "markdown",
   "source": [
    "## 1、create_sql_query_chain\n",
    "create_sql_query_chain，SQL查询链，是创建生成SQL查询的链，用于将 自然语言 转换成 数据库的SQL查询"
   ],
   "id": "87b58e6c2a4005d0"
  },
  {
   "metadata": {
    "ExecuteTime": {
     "end_time": "2025-10-03T11:25:45.419117Z",
     "start_time": "2025-10-03T11:25:45.296334Z"
    }
   },
   "cell_type": "code",
   "source": [
    "from langchain_community.utilities import SQLDatabase\n",
    "\n",
    "# 连接 MySQL 数据库\n",
    "db_user = \"root\"\n",
    "db_password = \"xllzy123\"  #根据自己的密码填写\n",
    "db_host = \"127.0.0.1\"  #或者使用localhost\n",
    "db_port = \"3306\"\n",
    "db_name = \"pet_shop\"\n",
    "# mysql+pymysql://用户名:密码@ip地址:端口号/数据库名\n",
    "db = SQLDatabase.from_uri(\n",
    "\tf\"mysql+pymysql://{db_user}:{db_password}@{db_host}:{db_port}/{db_name}\"\n",
    ")\n",
    "print(\"哪种数据库：\", db.dialect)\n",
    "print(\"获取数据表：\", db.get_usable_table_names())\n",
    "# 执行查询\n",
    "res = db.run(\"SELECT count(*) FROM auth_user;\")\n",
    "print(\"查询结果：\", res)\n"
   ],
   "id": "5f6edcaf08814cf5",
   "outputs": [
    {
     "name": "stdout",
     "output_type": "stream",
     "text": [
      "哪种数据库： mysql\n",
      "获取数据表： ['accounts_userprofile', 'auth_group', 'auth_group_permissions', 'auth_permission', 'auth_user', 'auth_user_groups', 'auth_user_user_permissions', 'charts_soldmodel', 'charts_usermodel', 'commodity_commoditycategories', 'commodity_commodityinfos', 'customer_operation_useraddress', 'customer_operation_usercomment', 'customer_operation_userfav', 'customer_operation_userleavingmessage', 'django_admin_log', 'django_content_type', 'django_migrations', 'django_session', 'merchant_advertisement', 'trade_ordergoods', 'trade_orderinfos', 'trade_shoppingcart']\n",
      "查询结果： [(11,)]\n"
     ]
    }
   ],
   "execution_count": 3
  },
  {
   "metadata": {
    "ExecuteTime": {
     "end_time": "2025-10-03T13:51:25.782979Z",
     "start_time": "2025-10-03T13:51:17.447453Z"
    }
   },
   "cell_type": "code",
   "source": [
    "# 举例1\n",
    "from langchain_openai import ChatOpenAI\n",
    "from langchain.chains.sql_database.query import create_sql_query_chain\n",
    "from langchain_community.utilities import SQLDatabase\n",
    "import os\n",
    "import dotenv\n",
    "\n",
    "# 1、加载环境变量\n",
    "dotenv.load_dotenv()\n",
    "os.environ[\"OPENAI_API_KEY\"] = os.getenv(\"OPENAI_API_KEY1\")\n",
    "os.environ[\"OPENAI_BASE_URL\"] = os.getenv(\"OPENAI_BASE_URL\")\n",
    "\n",
    "# 2、获取MySQL的数据库连接\n",
    "db_user = \"root\"\n",
    "db_password = \"xllzy123\"  #根据自己的密码填写\n",
    "db_host = \"127.0.0.1\"  #或者使用localhost\n",
    "db_port = \"3306\"\n",
    "db_name = \"pet_shop\"\n",
    "db = SQLDatabase.from_uri(\n",
    "\tf\"mysql+pymysql://{db_user}:{db_password}@{db_host}:{db_port}/{db_name}\"\n",
    ")\n",
    "\n",
    "# 3.初始化语言模型\n",
    "llm = ChatOpenAI(model=\"gpt-4o-mini\", temperature=0)\n",
    "chain = create_sql_query_chain(llm, db)\n",
    "\n",
    "# 4.使用链进行查询\n",
    "question = \"请问有多少个用户？\"\n",
    "response = chain.invoke({\"question\": question})\n",
    "print(\"问题：\", question)\n",
    "print(\"回答：\", response)"
   ],
   "id": "f9a7d74304a244f6",
   "outputs": [
    {
     "name": "stdout",
     "output_type": "stream",
     "text": [
      "问题： 请问有多少个用户？\n",
      "回答： SQLQuery: SELECT COUNT(`id`) AS `user_count` FROM `auth_user`;\n"
     ]
    }
   ],
   "execution_count": 11
  },
  {
   "metadata": {},
   "cell_type": "markdown",
   "source": [
    "## 2、create_stuff_documents_chain(了解)\n",
    "create_stuff_documents_chain用于将 多个文档内容 合并成 单个长文本 的链式工具，并一次性传递给LLM处理（而不是分多次处理）。\n",
    "\n",
    "适合场景：\n",
    "\n",
    "- 保持上下文完整，适合需要全局理解所有文档内容的任务（如总结、问答）\n",
    "- 适合处理 少量/中等长度文档 的场景。"
   ],
   "id": "f1dee4333ab63003"
  },
  {
   "metadata": {
    "ExecuteTime": {
     "end_time": "2025-10-03T13:59:08.168067Z",
     "start_time": "2025-10-03T13:59:01.256653Z"
    }
   },
   "cell_type": "code",
   "source": [
    "# 举例1：多文档摘要\n",
    "from langchain.chains.combine_documents import create_stuff_documents_chain\n",
    "from langchain_core.prompts import PromptTemplate\n",
    "from langchain_openai import ChatOpenAI\n",
    "from langchain_core.documents import Document\n",
    "\n",
    "# 定义提示词模板\n",
    "prompt = PromptTemplate.from_template(\"\"\"\n",
    "如下文档{docs}中说，香蕉是什么颜色的？\n",
    "\"\"\")\n",
    "# 创建链\n",
    "llm = ChatOpenAI(model=\"gpt-4o-mini\")\n",
    "chain = create_stuff_documents_chain(llm, prompt, document_variable_name=\"docs\")\n",
    "# 文档输入\n",
    "docs = [\n",
    "\tDocument(\n",
    "\t\tpage_content=\"苹果，学名Malus pumila Mill.，别称西洋苹果、柰，属于蔷薇科苹果属的植物。苹果是全球最广泛种植和销售的水果之一，具有悠久的栽培历史和广泛的分布范围。苹果的原始种群主要起源于中亚的天山山脉附近，尤其是现代哈萨克斯坦的阿拉木图地区，提供了所有现代苹果品种的基因库。苹果通过早期的贸易路线，如丝绸之路，从中亚向外扩散到全球各地。\"\n",
    "\t),\n",
    "\tDocument(\n",
    "\t\tpage_content=\"香蕉是白色的水果，主要产自热带地区。\"\n",
    "\t),\n",
    "\tDocument(\n",
    "\t\tpage_content=\"蓝莓是蓝色的浆果，含有抗氧化物质。\"\n",
    "\t)\n",
    "]\n",
    "# 执行摘要\n",
    "chain.invoke({\"docs\": docs})"
   ],
   "id": "7c79febde35a686c",
   "outputs": [
    {
     "data": {
      "text/plain": [
       "'香蕉是黄色的水果。尽管文中提到香蕉是白色的，但实际上成熟的香蕉通常是黄色的，未成熟时可能呈现绿色。'"
      ]
     },
     "execution_count": 12,
     "metadata": {},
     "output_type": "execute_result"
    }
   ],
   "execution_count": 12
  }
 ],
 "metadata": {
  "kernelspec": {
   "display_name": "Python 3",
   "language": "python",
   "name": "python3"
  },
  "language_info": {
   "codemirror_mode": {
    "name": "ipython",
    "version": 2
   },
   "file_extension": ".py",
   "mimetype": "text/x-python",
   "name": "python",
   "nbconvert_exporter": "python",
   "pygments_lexer": "ipython2",
   "version": "2.7.6"
  }
 },
 "nbformat": 4,
 "nbformat_minor": 5
}
