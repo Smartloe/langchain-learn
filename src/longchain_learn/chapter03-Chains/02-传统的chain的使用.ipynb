{
 "cells": [
  {
   "metadata": {
    "collapsed": true
   },
   "cell_type": "markdown",
   "source": "#  LLMCahin的使用",
   "id": "330f6f13f01c3d34"
  },
  {
   "metadata": {
    "ExecuteTime": {
     "end_time": "2025-09-30T14:36:53.761304Z",
     "start_time": "2025-09-30T14:36:49.799794Z"
    }
   },
   "cell_type": "code",
   "source": [
    "from langchain.chains.llm import LLMChain\n",
    "from langchain_core.prompts import PromptTemplate\n",
    "from langchain_openai import ChatOpenAI\n",
    "import os\n",
    "import dotenv\n",
    "\n",
    "# 加载环境变量\n",
    "dotenv.load_dotenv()\n",
    "os.environ[\"OPENAI_API_KEY\"] = os.getenv(\"OPENAI_API_KEY1\")\n",
    "os.environ[\"OPENAI_BASE_URL\"] = os.getenv(\"OPENAI_BASE_URL\")\n",
    "\n",
    "# 1、初始化语言大模型\n",
    "llm = ChatOpenAI(model=\"gpt-4o-mini\", temperature=0.7)\n",
    "\n",
    "# 2、提供提示词模板\n",
    "prompt_template = PromptTemplate.from_template(\n",
    "\ttemplate=\"你是一个数学高手，请帮我解答以下数学问题：{question}\"\n",
    ")\n",
    "\n",
    "chain = LLMChain(\n",
    "\tllm=llm,\n",
    "\tprompt=prompt_template,\n",
    ")\n",
    "response = chain.invoke(\n",
    "\t{\"question\": \"什么是勾股定理？\"}\n",
    ")\n",
    "print(response)"
   ],
   "id": "56f22b636e7e70bf",
   "outputs": [
    {
     "name": "stdout",
     "output_type": "stream",
     "text": [
      "{'question': '什么是勾股定理？', 'text': '勾股定理是一个基本的几何定理，适用于直角三角形。它表明，在一个直角三角形中，斜边（最长边）平方等于其他两条边（直角边）平方和。用数学公式表示为：\\n\\n\\\\[ c^2 = a^2 + b^2 \\\\]\\n\\n其中：\\n- \\\\( c \\\\) 是斜边的长度，\\n- \\\\( a \\\\) 和 \\\\( b \\\\) 是直角边的长度。\\n\\n这个定理可以用来计算直角三角形的边长，也可以用来判断三角形是否为直角三角形。如果已知三角形的三条边长 \\\\( a, b, c \\\\)，可以检查是否满足 \\\\( c^2 = a^2 + b^2 \\\\) 来判断它是否为直角三角形。'}\n"
     ]
    }
   ],
   "execution_count": 2
  },
  {
   "metadata": {
    "ExecuteTime": {
     "end_time": "2025-09-30T14:42:48.762820Z",
     "start_time": "2025-09-30T14:42:40.716174Z"
    }
   },
   "cell_type": "code",
   "source": [
    "# 举例2：使用ChatPromptTemplate及参数verbose的演示\n",
    "from langchain.chains.llm import LLMChain\n",
    "from langchain_core.prompts import ChatPromptTemplate\n",
    "from langchain_openai import ChatOpenAI\n",
    "import os\n",
    "import dotenv\n",
    "\n",
    "# 加载环境变量\n",
    "dotenv.load_dotenv()\n",
    "os.environ[\"OPENAI_API_KEY\"] = os.getenv(\"OPENAI_API_KEY1\")\n",
    "os.environ[\"OPENAI_BASE_URL\"] = os.getenv(\"OPENAI_BASE_URL\")\n",
    "\n",
    "# 1、初始化语言大模型\n",
    "llm = ChatOpenAI(model=\"gpt-4o-mini\", temperature=0.7)\n",
    "\n",
    "# 2、提供提示词模板\n",
    "chat_prompt_template = ChatPromptTemplate.from_messages(\n",
    "\t[\n",
    "\t\t(\"system\", \"你是一个数学高手，请帮我解答以下数学问题：\"),\n",
    "\t\t(\"human\", \"帮我解决如下的数学问题：{question}\")\n",
    "\t]\n",
    ")\n",
    "\n",
    "chain = LLMChain(\n",
    "\tllm=llm,\n",
    "\tprompt=chat_prompt_template,\n",
    "\tverbose=True,  #显示执行过程中的日志信息\n",
    ")\n",
    "response = chain.invoke(\n",
    "\t{\"question\": \"什么是勾股定理？\"}\n",
    ")\n",
    "print(response)"
   ],
   "id": "faaa1ff796ad6262",
   "outputs": [
    {
     "name": "stdout",
     "output_type": "stream",
     "text": [
      "\n",
      "\n",
      "\u001B[1m> Entering new LLMChain chain...\u001B[0m\n",
      "Prompt after formatting:\n",
      "\u001B[32;1m\u001B[1;3mSystem: 你是一个数学高手，请帮我解答以下数学问题：\n",
      "Human: 帮我解决如下的数学问题：什么是勾股定理？\u001B[0m\n",
      "\n",
      "\u001B[1m> Finished chain.\u001B[0m\n",
      "{'question': '什么是勾股定理？', 'text': '勾股定理是一个关于直角三角形的基本定理。它表明，在一个直角三角形中，直角所对的边（即斜边）的平方等于另外两条边的平方和。用数学公式表示为：\\n\\n\\\\[ c^2 = a^2 + b^2 \\\\]\\n\\n其中，\\\\( c \\\\) 是斜边的长度，\\\\( a \\\\) 和 \\\\( b \\\\) 是直角三角形的其他两条边的长度。\\n\\n例如，如果一条直角三角形的两条直角边分别为 3 和 4，那么可以使用勾股定理计算斜边的长度：\\n\\n\\\\[ c^2 = 3^2 + 4^2 = 9 + 16 = 25 \\\\]\\n\\n因此，斜边 \\\\( c = \\\\sqrt{25} = 5 \\\\)。\\n\\n勾股定理在几何、代数和许多实际应用中都非常重要。'}\n"
     ]
    }
   ],
   "execution_count": 3
  }
 ],
 "metadata": {
  "kernelspec": {
   "display_name": "Python 3",
   "language": "python",
   "name": "python3"
  },
  "language_info": {
   "codemirror_mode": {
    "name": "ipython",
    "version": 2
   },
   "file_extension": ".py",
   "mimetype": "text/x-python",
   "name": "python",
   "nbconvert_exporter": "python",
   "pygments_lexer": "ipython2",
   "version": "2.7.6"
  }
 },
 "nbformat": 4,
 "nbformat_minor": 5
}
