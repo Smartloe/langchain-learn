{
 "cells": [
  {
   "metadata": {},
   "cell_type": "markdown",
   "source": [
    "# LCEL语法的使用\n",
    "\n",
    "在使用|之前的举例"
   ],
   "id": "9a26f864b4ab58a8"
  },
  {
   "metadata": {
    "ExecuteTime": {
     "end_time": "2025-09-30T14:13:15.010173Z",
     "start_time": "2025-09-30T14:13:13.296770Z"
    }
   },
   "cell_type": "code",
   "source": [
    "from langchain_core.output_parsers import JsonOutputParser\n",
    "from langchain_core.prompts import PromptTemplate\n",
    "from langchain_openai import ChatOpenAI\n",
    "import os\n",
    "import dotenv\n",
    "\n",
    "# 加载环境变量\n",
    "dotenv.load_dotenv()\n",
    "os.environ[\"OPENAI_API_KEY\"] = os.getenv(\"OPENAI_API_KEY1\")\n",
    "os.environ[\"OPENAI_BASE_URL\"] = os.getenv(\"OPENAI_BASE_URL\")\n",
    "\n",
    "# 初始化语言大模型\n",
    "llm = ChatOpenAI(model=\"gpt-4o-mini\", temperature=0.7)\n",
    "\n",
    "# 定义Json解析器\n",
    "json_parser = JsonOutputParser()\n",
    "\n",
    "# 以PromptTemplate为例\n",
    "prompt_template = PromptTemplate.from_template(\n",
    "\ttemplate=\"请将以下内容翻译成英语，满足格式为{format_instructions}，原文：{text}\",\n",
    "\tpartial_variables={\"format_instructions\": json_parser.get_format_instructions()},\n",
    ")\n",
    "# LCEL的基本构成：提示（Prompt）+ 模型（Model）+ 输出解析器（OutputParser）\n",
    "chains = prompt_template | llm | json_parser\n",
    "json_result = chains.invoke(\n",
    "\t{\"text\": \"我喜欢吃苹果和香蕉。\"}\n",
    ")\n",
    "print(json_result)\n"
   ],
   "id": "41c450b907101a0d",
   "outputs": [
    {
     "name": "stdout",
     "output_type": "stream",
     "text": [
      "{'content': 'I like to eat apples and bananas.'}\n"
     ]
    }
   ],
   "execution_count": 3
  }
 ],
 "metadata": {
  "kernelspec": {
   "display_name": "Python 3",
   "language": "python",
   "name": "python3"
  },
  "language_info": {
   "codemirror_mode": {
    "name": "ipython",
    "version": 2
   },
   "file_extension": ".py",
   "mimetype": "text/x-python",
   "name": "python",
   "nbconvert_exporter": "python",
   "pygments_lexer": "ipython2",
   "version": "2.7.6"
  }
 },
 "nbformat": 4,
 "nbformat_minor": 5
}
