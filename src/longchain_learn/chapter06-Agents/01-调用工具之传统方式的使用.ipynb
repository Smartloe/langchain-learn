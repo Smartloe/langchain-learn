{
 "cells": [
  {
   "metadata": {
    "collapsed": true
   },
   "cell_type": "markdown",
   "source": [
    "## 1. 单工具的使用\n",
    "## 1.1 使用ReAct模式"
   ],
   "id": "faf0fc9b3ad03608"
  },
  {
   "metadata": {},
   "cell_type": "code",
   "outputs": [],
   "execution_count": null,
   "source": [
    "\n",
    "# 获取tavily搜索工具的实例\n",
    "\n",
    "# 获取一个搜索工具\n",
    "\n",
    "# 获取大语言模型\n",
    "\n",
    "# 获取Agent的实例\n",
    "\n",
    "# 获取AgentExecutor的实例\n",
    "\n",
    "# 使用AgentExecutor调用invoke()方法,并得到响应\n",
    "\n",
    "#处理响应数据"
   ],
   "id": "5920248dc1110eac"
  }
 ],
 "metadata": {
  "kernelspec": {
   "display_name": "Python 3",
   "language": "python",
   "name": "python3"
  },
  "language_info": {
   "codemirror_mode": {
    "name": "ipython",
    "version": 2
   },
   "file_extension": ".py",
   "mimetype": "text/x-python",
   "name": "python",
   "nbconvert_exporter": "python",
   "pygments_lexer": "ipython2",
   "version": "2.7.6"
  }
 },
 "nbformat": 4,
 "nbformat_minor": 5
}
