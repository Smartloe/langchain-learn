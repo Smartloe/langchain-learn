{
 "cells": [
  {
   "metadata": {
    "collapsed": true
   },
   "cell_type": "markdown",
   "source": [
    "## 1. 单工具的使用\n",
    "## 1.1 使用ReAct模式"
   ],
   "id": "faf0fc9b3ad03608"
  },
  {
   "metadata": {
    "ExecuteTime": {
     "end_time": "2025-10-09T16:22:07.964132Z",
     "start_time": "2025-10-09T16:21:31.833124Z"
    }
   },
   "cell_type": "code",
   "source": [
    "from langchain_core.tools import StructuredTool\n",
    "from langchain_openai import ChatOpenAI\n",
    "from langchain.agents import initialize_agent, AgentType\n",
    "from langchain.tools import Tool\n",
    "import os\n",
    "import dotenv\n",
    "from langchain_openai import ChatOpenAI\n",
    "from langchain_community.tools.tavily_search import TavilySearchResults\n",
    "\n",
    "# 加载环境变量\n",
    "dotenv.load_dotenv()\n",
    "os.environ[\"OPENAI_API_KEY\"] = os.getenv(\"OPENAI_API_KEY1\")\n",
    "os.environ[\"OPENAI_BASE_URL\"] = os.getenv(\"OPENAI_BASE_URL\")\n",
    "os.environ[\"TAVILY_API_KEY\"] = os.getenv(\"TAVILY_API_KEY\")\n",
    "# 获取tavily搜索工具的实例\n",
    "search = TavilySearchResults(max_results=3)\n",
    "# 获取一个搜索工具\n",
    "# 方式1：\n",
    "# search_tool = StructuredTool.from_function(\n",
    "# \tfunc=search.run,\n",
    "# \tname=\"Tavily搜索\",\n",
    "# \tdescription=\"用于检索互联网上的信息，输入应为搜索查询内容。\"\n",
    "# )\n",
    "# 方式2：\n",
    "search_tool = Tool(\n",
    "\tname=\"Tavily搜索\",\n",
    "\tfunc=search.run,\n",
    "\tdescription=\"用于检索互联网上的信息，输入应为搜索查询内容。\"\n",
    ")\n",
    "# 获取大语言模型\n",
    "llm = ChatOpenAI(model=\"gpt-4o-mini\", temperature=0)\n",
    "# 获取Agent的实例\n",
    "agent = AgentType.ZERO_SHOT_REACT_DESCRIPTION\n",
    "# 获取AgentExecutor的实例\n",
    "agent_executor = initialize_agent(\n",
    "\ttools=[search_tool],\n",
    "\tllm=llm,\n",
    "\tagent=agent,\n",
    "\tverbose=True  # 是否打印中间过程\n",
    ")\n",
    "# 使用AgentExecutor调用invoke()方法,并得到响应\n",
    "result= agent_executor.invoke(\"查询一下长沙今天的天气情况\")\n",
    "#处理响应数据\n",
    "print(result)"
   ],
   "id": "5920248dc1110eac",
   "outputs": [
    {
     "name": "stderr",
     "output_type": "stream",
     "text": [
      "C:\\Users\\Chenxr\\AppData\\Local\\Temp\\ipykernel_24476\\988235835.py:16: LangChainDeprecationWarning: The class `TavilySearchResults` was deprecated in LangChain 0.3.25 and will be removed in 1.0. An updated version of the class exists in the :class:`~langchain-tavily package and should be used instead. To use it run `pip install -U :class:`~langchain-tavily` and import as `from :class:`~langchain_tavily import TavilySearch``.\n",
      "  search = TavilySearchResults(max_results=3)\n",
      "C:\\Users\\Chenxr\\AppData\\Local\\Temp\\ipykernel_24476\\988235835.py:35: LangChainDeprecationWarning: LangChain agents will continue to be supported, but it is recommended for new use cases to be built with LangGraph. LangGraph offers a more flexible and full-featured framework for building agents, including support for tool-calling, persistence of state, and human-in-the-loop workflows. For details, refer to the `LangGraph documentation <https://langchain-ai.github.io/langgraph/>`_ as well as guides for `Migrating from AgentExecutor <https://python.langchain.com/docs/how_to/migrate_agent/>`_ and LangGraph's `Pre-built ReAct agent <https://langchain-ai.github.io/langgraph/how-tos/create-react-agent/>`_.\n",
      "  agent_executor = initialize_agent(\n"
     ]
    },
    {
     "name": "stdout",
     "output_type": "stream",
     "text": [
      "\n",
      "\n",
      "\u001B[1m> Entering new AgentExecutor chain...\u001B[0m\n",
      "\u001B[32;1m\u001B[1;3m我需要查找长沙今天的天气情况。  \n",
      "Action: Tavily搜索  \n",
      "Action Input: \"长沙今天的天气情况\"  \u001B[0m\n",
      "Observation: \u001B[36;1m\u001B[1;3m[{'title': '长沙市 - 天气预报', 'url': 'https://weather.cma.cn/web/weather/57687.html', 'content': '|  |  |  |  |  |  |  |  |  |\\n ---  ---  ---  --- \\n| 时间 | 08:00 | 11:00 | 14:00 | 17:00 | 20:00 | 23:00 | 02:00 | 05:00 |\\n| 天气 |\\n| 气温 | 25.4℃ | 30.9℃ | 34℃ | 32.1℃ | 28.9℃ | 28℃ | 23.9℃ | 25.9℃ |\\n| 降水 | 无降水 | 无降水 | 无降水 | 无降水 | 无降水 | 无降水 | 无降水 | 无降水 |\\n| 风速 | 2.5m/s | 2.5m/s | 2.4m/s | 3m/s | 3.3m/s | 3.3m/s | 2.8m/s | 2.6m/s |\\n| 风向 | 西北风 | 西北风 | 东北风 | 东北风 | 东北风 | 西北风 | 西北风 | 西北风 |\\n| 气压 | 1008hPa | 1008hPa | 1005.1hPa | 1003.8hPa | 1004.8hPa | 1004.8hPa | 1004.8hPa | 1005.3hPa | [...] | 湿度 | 66.2% | 81% | 78.3% | 78.6% | 85.5% | 86.7% | 91% | 91% |\\n| 云量 | 15.6% | 10% | 4.3% | 10% | 10% | 57.1% | 79.9% | 67.1% | [...] |  |  |  |  |  |  |  |  |  |\\n ---  ---  ---  --- \\n| 时间 | 08:00 | 11:00 | 14:00 | 17:00 | 20:00 | 23:00 | 02:00 | 05:00 |\\n| 天气 |\\n| 气温 | 24.4℃ | 29.5℃ | 32.7℃ | 31.2℃ | 27.7℃ | 25.4℃ | 24.9℃ | 24.1℃ |\\n| 降水 | 无降水 | 无降水 | 无降水 | 无降水 | 无降水 | 无降水 | 无降水 | 无降水 |\\n| 风速 | 3.3m/s | 2.7m/s | 2.8m/s | 3.3m/s | 2.4m/s | 3.3m/s | 2.6m/s | 2.9m/s |\\n| 风向 | 东北风 | 东北风 | 东北风 | 东北风 | 东北风 | 西北风 | 西北风 | 西北风 |\\n| 气压 | 1008.6hPa | 1009.6hPa | 1007.1hPa | 1006hPa | 1007.1hPa | 1008hPa | 1006.9hPa | 1006.3hPa |', 'score': 0.8029425}, {'title': '长沙市天气预报_天气查询- 墨迹天气', 'url': 'https://tianqi.moji.com/weather/china/hunan/changsha', 'content': '【长沙市天气】_长沙市天气预报_天气查询 - 墨迹天气\\n\\nImage 1: 墨迹天气\\n\\n_Image 2_ 随时随地 想查就查\\n\\n首页天气下载资讯关于墨迹\\n\\n   天气\\n   中国\\n   湖南省\\n   长沙市\\n\\n_长沙市， 湖南省， 中国_\\n\\n更多城市\\n\\n   Image 3: 58 良_58 良_\\n\\n_27_Image 4: 多云多云今天19:32更新\\n\\n湿度 83%_南风2级_\\n\\n今日天气提示 _明天有雨，略微偏热，注意衣物变化。_\\n\\nImage 5: 墨迹天气 小墨哥\\n\\nImage 6: Windows 下载Windows 下载\\n\\n预报\\n   7天预报\\n   10天预报\\n   15天预报\\n\\n   今天\\n   Image 7: 小雨 小雨 \\n   23° / 30°\\n   _西北风_1级\\n   58 良\\n\\n   明天\\n   Image 8: 小雨 小雨 \\n   23° / 30°\\n   _南风_1级\\n   90 良\\n\\n   后天\\n   Image 9: 中雨 中雨 \\n   23° / 30°\\n   _西南风_3级\\n   80 良\\n\\n24小时预报\\n   温度\\n   风力 [...] _23_Image 66: 小雨                                \\n19/23°\\n\\n北风 3级\\n\\n   _24_Image 67: 多云                                \\n18/26°\\n\\n北风 1级\\n\\n   _25_Image 68: 晴                                \\n19/28°\\n\\n南风 1级\\n\\n   _26_Image 69: 晴                                \\n22/29°\\n\\n南风 1级\\n\\n   _27_Image 70: 小雨                                \\n20/29°\\n\\n东南风 1级\\n\\n   _28_Image 71: 多云                                \\n19/34°\\n\\n东南风 1级\\n\\n   _29_Image 72: 阴                                \\n22/28°\\n\\n东北风 1级 [...] _02_Image 45: 晴                                \\n20/34°\\n\\n南风 1级\\n\\n   _03_Image 46: 多云                                \\n19/31°\\n\\n北风 1级\\n\\n   _04_Image 47: 中雨                                \\n18/23°\\n\\n西北风 1级\\n\\n   _05_Image 48: 多云                                \\n16/29°\\n\\n北风 1级\\n\\n   _06_Image 49: 多云                                \\n20/30°\\n\\n北风 1级\\n\\n   _07_Image 50: 小雨                                \\n20/28°\\n\\n东南风 1级\\n\\n   _08_Image 51: 大雨                                \\n18/27°\\n\\n南风 1级', 'score': 0.7992077}, {'title': '预报- 长沙 - 中国天气网', 'url': 'https://www.weather.com.cn/weather/101250101.shtml', 'content': '首页 预报 预警 雷达 云图 天气地图 专业产品 资讯 视频 节气 我的天空\\n\\n更多\\n\\n台风路径 空间天气 图片 专题 环境 旅游 碳中和 气象科普 一带一路 产创平台\\n\\n国内) 本地) 国际)\\n\\n:   北京 上海 成都 杭州 南京 天津 深圳 重庆 西安 广州 青岛 武汉\\n\\n:   故宫 阳朔漓江 龙门石窟 野三坡 颐和园 九寨沟 东方明珠 凤凰古城 秦始皇陵 桃花源\\n\\n高球\\n:   佘山 春城湖畔 华彬庄园 观澜湖 依必朗 旭宝 博鳌 玉龙雪山 番禺南沙 东方明珠\\n\\n<<返回 全国\\n\\n河北下辖区域\\n\\n热门城市\\n\\n:   曼谷 东京 首尔 吉隆坡 新加坡 巴黎 罗马 伦敦 雅典 柏林 纽约 温哥华 墨西哥城 哈瓦那 圣何塞 巴西利亚 布宜诺斯艾利斯 圣地亚哥 利马 基多 悉尼 墨尔本 惠灵顿 奥克兰 苏瓦 开罗 内罗毕 开普敦 维多利亚 拉巴特\\n\\n:   亚洲 欧洲 北美洲 南美洲 非洲 大洋洲\\n\\n全国> 湖南 > 长沙> 城区\\n\\n 今天\\n 7天\\n 8-15天\\n 40天\\n 雷达图\\n\\n # 6日（今天）\\n\\n  晴\\n\\n  24℃\\n\\n  <3级\\n # 7日（明天）\\n\\n  晴转多云', 'score': 0.7890553}]\u001B[0m\n",
      "Thought:\u001B[32;1m\u001B[1;3m我现在知道长沙今天的天气情况。  \n",
      "Final Answer: 今天长沙的天气为多云，气温在23℃到30℃之间，湿度为83%，风速为2级，空气质量良好。\u001B[0m\n",
      "\n",
      "\u001B[1m> Finished chain.\u001B[0m\n",
      "{'input': '查询一下长沙今天的天气情况', 'output': '今天长沙的天气为多云，气温在23℃到30℃之间，湿度为83%，风速为2级，空气质量良好。'}\n"
     ]
    }
   ],
   "execution_count": 2
  }
 ],
 "metadata": {
  "kernelspec": {
   "display_name": "Python 3",
   "language": "python",
   "name": "python3"
  },
  "language_info": {
   "codemirror_mode": {
    "name": "ipython",
    "version": 2
   },
   "file_extension": ".py",
   "mimetype": "text/x-python",
   "name": "python",
   "nbconvert_exporter": "python",
   "pygments_lexer": "ipython2",
   "version": "2.7.6"
  }
 },
 "nbformat": 4,
 "nbformat_minor": 5
}
