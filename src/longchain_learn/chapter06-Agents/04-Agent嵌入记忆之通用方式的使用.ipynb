{
 "cells": [
  {
   "metadata": {},
   "cell_type": "markdown",
   "source": "# 1. 使用FUNCTION_CALL模式",
   "id": "ecf167620cde04ed"
  },
  {
   "metadata": {},
   "cell_type": "code",
   "outputs": [],
   "execution_count": null,
   "source": [
    "import os\n",
    "import dotenv\n",
    "from langchain.agents import create_tool_calling_agent, AgentExecutor\n",
    "from langchain.chains.question_answering.map_reduce_prompt import system_template\n",
    "from langchain_community.tools import TavilySearchResults\n",
    "from langchain_core.prompts import ChatPromptTemplate\n",
    "from langchain_openai import ChatOpenAI\n",
    "from langchain.tools import Tool\n",
    "\n",
    "# 加载环境\n",
    "dotenv.load_dotenv()\n",
    "os.environ[\"OPENAI_API_KEY\"] = os.getenv(\"OPENAI_API_KEY1\")\n",
    "os.environ[\"OPENAI_BASE_URL\"] = os.getenv(\"OPENAI_BASE_URL\")\n",
    "os.environ[\"TAVILY_API_KEY\"] = os.getenv(\"TAVILY_API_KEY\")\n",
    "\n",
    "# 获取tavily搜索工具的实例\n",
    "search = TavilySearchResults(max_results=3)\n",
    "# 获取对应工具的实例\n",
    "search_tool = Tool(\n",
    "\tname=\"tavily_search\",\n",
    "\tfunc=search.run,\n",
    "\tdescription=\"一个可以用来搜索互联网信息的工具。输入是一个搜索查询，输出是搜索结果的摘要。\",\n",
    "\treturn_direct=True\n",
    ")\n",
    "# 获取大模型\n",
    "llm = ChatOpenAI(model=\"gpt-4o-mini\", temperature=0)\n",
    "# 提供提示词模板（以ChatPromptTemplate为例）\n",
    "prompt_template = ChatPromptTemplate.from_messages(\n",
    "\t[\n",
    "\t\t(\"system\", \"你是一个有帮助的助手。可以回答用户的问题。如果你不知道答案，请使用tavily_search工具来搜索互联网信息。\"),\n",
    "\t\t(\"human\", \"{input}\"),\n",
    "\t\t(\"placeholder\", \"{agent_scratchpad}\")\n",
    "\t]\n",
    ")\n",
    "# 获取Agent的实例：create_tool_calling_agent()\n",
    "agent = create_tool_calling_agent(\n",
    "\tllm=llm,\n",
    "\ttools=[search_tool],\n",
    "\tprompt=prompt_template\n",
    ")\n",
    "# 获取AgentExecutor的实例\n",
    "agent_executor = AgentExecutor(\n",
    "\tagent=agent,\n",
    "\ttools=[search_tool],\n",
    "\tverbose=True\n",
    ")\n",
    "# 通过AgentExecutor调用invoke()方法,并得到响应\n",
    "result = agent_executor.invoke({\"input\": \"2025年最新AI技术趋势是什么？\"})\n",
    "# 处理响应\n",
    "print(result)"
   ],
   "id": "f4c4c80e0891de5c"
  },
  {
   "metadata": {},
   "cell_type": "markdown",
   "source": "",
   "id": "40b56c3d847e3608"
  }
 ],
 "metadata": {
  "kernelspec": {
   "display_name": "Python 3",
   "language": "python",
   "name": "python3"
  },
  "language_info": {
   "codemirror_mode": {
    "name": "ipython",
    "version": 2
   },
   "file_extension": ".py",
   "mimetype": "text/x-python",
   "name": "python",
   "nbconvert_exporter": "python",
   "pygments_lexer": "ipython2",
   "version": "2.7.6"
  }
 },
 "nbformat": 4,
 "nbformat_minor": 5
}
