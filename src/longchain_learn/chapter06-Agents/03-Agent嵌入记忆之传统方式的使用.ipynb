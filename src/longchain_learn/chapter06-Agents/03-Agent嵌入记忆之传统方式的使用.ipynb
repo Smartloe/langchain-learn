{
 "cells": [
  {
   "metadata": {},
   "cell_type": "markdown",
   "source": [
    "比如：北京明天的天气怎么样？上海呢？ （通过两次对话实现）\n",
    "\n",
    "举例：以REACT模式为例"
   ],
   "id": "da947e019fd52334"
  },
  {
   "metadata": {
    "ExecuteTime": {
     "end_time": "2025-10-10T12:34:25.469454Z",
     "start_time": "2025-10-10T12:34:09.365008Z"
    }
   },
   "cell_type": "code",
   "source": [
    "from langchain.memory import ConversationBufferMemory\n",
    "from langchain_core.tools import StructuredTool\n",
    "from langchain_openai import ChatOpenAI\n",
    "from langchain.agents import initialize_agent, AgentType\n",
    "from langchain.tools import Tool\n",
    "import os\n",
    "import dotenv\n",
    "from langchain_openai import ChatOpenAI\n",
    "from langchain_community.tools.tavily_search import TavilySearchResults\n",
    "\n",
    "# 加载环境变量\n",
    "dotenv.load_dotenv()\n",
    "os.environ[\"OPENAI_API_KEY\"] = os.getenv(\"OPENAI_API_KEY1\")\n",
    "os.environ[\"OPENAI_BASE_URL\"] = os.getenv(\"OPENAI_BASE_URL\")\n",
    "os.environ[\"TAVILY_API_KEY\"] = os.getenv(\"TAVILY_API_KEY\")\n",
    "# 获取tavily搜索工具的实例\n",
    "search = TavilySearchResults(max_results=3)\n",
    "# 获取一个搜索工具\n",
    "search_tool = Tool(\n",
    "\tname=\"Tavily搜索\",\n",
    "\tfunc=search.run,\n",
    "\tdescription=\"用于检索互联网上的信息，输入应为搜索查询内容。\"\n",
    ")\n",
    "# 获取一个记忆的实例：ConversationBufferMemory\n",
    "memery = ConversationBufferMemory(\n",
    "\treturn_messages=True,\n",
    "\tmemory_key=\"chat_history\"\n",
    ")\n",
    "# 获取大语言模型\n",
    "llm = ChatOpenAI(model=\"gpt-4o-mini\", temperature=0)\n",
    "# 获取Agent的实例\n",
    "agent = AgentType.CONVERSATIONAL_REACT_DESCRIPTION\n",
    "# 获取AgentExecutor的实例\n",
    "agent_executor = initialize_agent(\n",
    "\ttools=[search_tool],\n",
    "\tllm=llm,\n",
    "\tagent=agent,\n",
    "\tverbose=True,  # 是否打印中间过程\n",
    "\tmemory=memery  # 记忆实例\n",
    ")\n",
    "# 使用AgentExecutor调用invoke()方法,并得到响应\n",
    "result = agent_executor.invoke({\"input\": \"查询一下长沙今天的天气情况\"})\n",
    "#处理响应数据\n",
    "print(result)"
   ],
   "id": "ba9bc0ea48dd423f",
   "outputs": [
    {
     "name": "stdout",
     "output_type": "stream",
     "text": [
      "\n",
      "\n",
      "\u001B[1m> Entering new AgentExecutor chain...\u001B[0m\n",
      "\u001B[32;1m\u001B[1;3m```\n",
      "Thought: Do I need to use a tool? Yes\n",
      "Action: Tavily搜索\n",
      "Action Input: 长沙今天的天气情况\n",
      "```\u001B[0m\n",
      "Observation: \u001B[36;1m\u001B[1;3m[{'title': '長沙, 湖南省, 中國每月天氣 - AccuWeather', 'url': 'https://www.accuweather.com/zh/cn/changsha/105567/october-weather/105567', 'content': '返回  # 長沙, 湖南省 95°F    95° 長沙, 湖南省 天氣 今天 WinterCast 當地{stormName}追蹤 每小時 每天 雷達 MinuteCast® 每月 空氣品質 健康與活動 ### 颶風 ### 惡劣天氣 ### 雷達與氣象圖 ### 視訊 今天   每小時   每天   雷達   MinuteCast®  ## 每月  空氣品質   健康與活動 2 高溫黃色預警  ## 十月 一月   二月   三月   四月   五月   六月   七月   八月   九月   十月   十一月   十二月 ## 每天 91° 69° 29 75° 69° 30 79° 69° 1 88° 69° 2 96° 72° 3 85° 69° 4 76° 68° 5 93° 68° 6 97° 71° 7 87° 74° 8 92° 74° 9 99° 79° 10 100° 74° 11 94° 72° 12 94° ### 十一月 2025 ### 十二月 2025 ### 一月 2026 世界 亞洲 中國 湖南省 長沙 * 婁底, 湖南省 * 株洲, 湖南省 * 益陽, 湖南省', 'score': 0.98589}, {'title': '预报- 长沙 - 中国天气网', 'url': 'https://www.weather.com.cn/weather/101250101.shtml', 'content': '更多 :   北京 上海 成都 杭州 南京 天津 深圳 重庆 西安 广州 青岛 武汉 :   故宫 阳朔漓江 龙门石窟 野三坡 颐和园 九寨沟 东方明珠 凤凰古城 秦始皇陵 桃花源 :   佘山 春城湖畔 华彬庄园 观澜湖 依必朗 旭宝 博鳌 玉龙雪山 番禺南沙 东方明珠 <<返回 全国 全国> 湖南 > 长沙> 城区 *<3级* *<3级* *<3级* *<3级* *<3级* *<3级转3-4级* *<3级转4-5级* * 较适宜 *运动指数* * 热 *穿衣指数* * 较不宜 *运动指数* * 炎热 *穿衣指数* * 较适宜 *运动指数* * 炎热 *穿衣指数* * 较适宜 *运动指数* * 炎热 *穿衣指数* * 较不宜 *运动指数* * 炎热 *穿衣指数* * 较不宜 *运动指数* * 炎热 *穿衣指数* * 较不宜 *洗车指数* * 较不宜 *运动指数* * 炎热 *穿衣指数* * 较不宜 *洗车指数* # 高清图集 ## 国庆中秋假期华西至黄淮降雨频繁 南方多地或现持续性高温 ## 国庆中秋假期华西至黄淮降雨频繁 南方多地秋老虎卷土重来 # 更多>>高清图集 * 九寨沟 小雨 16/22℃ 适宜 * 青岛 阴转多云 19/24℃ 适宜', 'score': 0.98526}, {'title': '长沙市 - 天气预报', 'url': 'https://weather.cma.cn/web/weather/57687.html', 'content': '34℃ 24℃ 34℃ 24℃ 24℃ | 气温 | 31℃ | 31.9℃ | 34℃ | 28.7℃ | 26.8℃ | 26.7℃ | 24.6℃ | 24.9℃ | | 气温 | 24.9℃ | 32℃ | 33℃ | 34℃ | 30.1℃ | 26.3℃ | 26.3℃ | 25.3℃ | | 气温 | 24.2℃ | 29.6℃ | 33.6℃ | 33℃ | 30℃ | 27.3℃ | 22.2℃ | 21.4℃ | | 气温 | 21.5℃ | 25.7℃ | 27.4℃ | 24.7℃ | 20.4℃ | 19.4℃ | 18.5℃ | 18.7℃ | | 气温 | 18.9℃ | 20.7℃ | 21.7℃ | 23℃ | 24.6℃ | 23.4℃ | 22.5℃ | 21.3℃ | | 气温 | 22.1℃ | 25.6℃ | 27.9℃ | 30℃ | 27℃ | 24℃ | 23.6℃ | 23.2℃ |', 'score': 0.98127}]\u001B[0m\n",
      "Thought:\u001B[32;1m\u001B[1;3mDo I need to use a tool? No  \n",
      "AI: 今天长沙的天气情况是：最高气温约为34℃，最低气温约为24℃。天气较热，适合穿着轻便的衣物。你可以查看更详细的天气预报，了解更多信息。\u001B[0m\n",
      "\n",
      "\u001B[1m> Finished chain.\u001B[0m\n",
      "{'input': '查询一下长沙今天的天气情况', 'chat_history': [HumanMessage(content='查询一下长沙今天的天气情况', additional_kwargs={}, response_metadata={}), AIMessage(content='今天长沙的天气情况是：最高气温约为34℃，最低气温约为24℃。天气较热，适合穿着轻便的衣物。你可以查看更详细的天气预报，了解更多信息。', additional_kwargs={}, response_metadata={})], 'output': '今天长沙的天气情况是：最高气温约为34℃，最低气温约为24℃。天气较热，适合穿着轻便的衣物。你可以查看更详细的天气预报，了解更多信息。'}\n"
     ]
    }
   ],
   "execution_count": 5
  },
  {
   "metadata": {
    "ExecuteTime": {
     "end_time": "2025-10-10T12:42:55.484870Z",
     "start_time": "2025-10-10T12:42:29.980414Z"
    }
   },
   "cell_type": "code",
   "source": [
    "# 使用AgentExecutor调用invoke()方法,并得到响应\n",
    "result = agent_executor.invoke({\"input\": \"上海呢？\"})\n",
    "#处理响应数据\n",
    "print(result)"
   ],
   "id": "8ebc21d8e9e7a89",
   "outputs": [
    {
     "name": "stdout",
     "output_type": "stream",
     "text": [
      "\n",
      "\n",
      "\u001B[1m> Entering new AgentExecutor chain...\u001B[0m\n",
      "\u001B[32;1m\u001B[1;3m```\n",
      "Thought: Do I need to use a tool? Yes\n",
      "Action: Tavily搜索\n",
      "Action Input: 上海今天的天气情况\n",
      "```\u001B[0m\n",
      "Observation: \u001B[36;1m\u001B[1;3m[{'title': '中国气象局-天气预报-城市预报- 上海', 'url': 'https://weather.cma.cn/web/weather/58367.html', 'content': '| 湿度 | 81.9% | 60.6% | 53.6% | 65.7% | 55.7% | 84.6% | 82.4% | 80.3% |\\n| 云量 | 10.1% | 10.1% | 10.1% | 10.1% | 10.1% | 80% | 80% | 80% | [...] | 湿度 | 75.1% | 66.2% | 64.1% | 69.4% | 59.9% | 87.4% | 87.5% | 82.9% |\\n| 云量 | 10.1% | 80% | 80% | 80% | 80% | 80% | 80% | 80% | [...] | 湿度 | 71.9% | 60.5% | 57% | 72.6% | 58.2% | 75.4% | 81.5% | 86.1% |\\n| 云量 | 80% | 10.1% | 10.1% | 10.1% | 10.1% | 10.1% | 10.1% | 10.1% |', 'score': 0.79542017}, {'title': '10月10日上海天气预报晴到多云', 'url': 'http://sh.bendibao.com/news/20221010/260681.shtm', 'content': '上海中心气象台2022年10月10日11点钟发布今天和明天上海市天气预报：晴到多云，明天多云。西北风4-5级阵风6级，沿江沿海地区5级阵风6-7级，傍晚都转4-5级，明天北到东北风3-4级。今天最高温度18度，明天最低温度12度。今天相对湿度20%-80%。\\n\\n 上海已于10月5日入秋，今天的天气也转好了，晴到多云但西北风风力依然较大白天4~5级阵风6级傍晚起有所减小\\n今天早间气温不高，全市大多10~13℃之间体感变冷，出行一定要注意添衣.\\n\\n白天虽有阳光助力，但气温回升缓慢，预计最高气温在18℃左右，午后暖阳体感会比较舒适\\n\\n本周秋高气爽的天气在线，以晴-多云-阴这样的云系变化为主，没有雨水打扰，是秋天该有的模样\\n\\n需要注意的是，周二早间比周一更冷，中心城区最低气温仅有11℃，郊区更低更冷，且这一天昼夜温差可接近10度\\n\\n在着装方面要多注意谨防感冒，其他时间气温整体较适中，保持在14~24℃之间\\n\\n手机访问上海本地宝首页\\n\\n相关推荐 上海天气上海天气预报 [...] 【导语】：申城今日晴到多云，西北风4-5级阵风6级，沿江沿海地区5级阵风6-7级，傍晚都转4-5级，今天最高温度18度。\\n\\n上海中心气象台2022年10月10日11点钟发布今天和明天上海市天气预报：晴到多云，明天多云。西北风4-5级阵风6级，沿江沿海地区5级阵风6-7级，傍晚都转4-5级，明天北到东北风3-4级。今天最高温度18度，明天最低温度12度。今天相对湿度20%-80%。\\n\\n 上海已于10月5日入秋，今天的天气也转好了，晴到多云但西北风风力依然较大白天4~5级阵风6级傍晚起有所减小\\n今天早间气温不高，全市大多10~13℃之间体感变冷，出行一定要注意添衣.\\n\\n白天虽有阳光助力，但气温回升缓慢，预计最高气温在18℃左右，午后暖阳体感会比较舒适\\n\\n本周秋高气爽的天气在线，以晴-多云-阴这样的云系变化为主，没有雨水打扰，是秋天该有的模样\\n\\n需要注意的是，周二早间比周一更冷，中心城区最低气温仅有11℃，郊区更低更冷，且这一天昼夜温差可接近10度\\n\\n在着装方面要多注意谨防感冒，其他时间气温整体较适中，保持在14~24℃之间\\n\\nImage 34\\n\\n本地宝产品 [...] 10月10日上海天气预报晴到多云- 上海本地宝\\n\\nImage 1\\n\\n   民生\\n   办事\\n   社保\\n   公积金\\n   交通\\n   地铁\\n   旅游\\n   景点\\n   活动\\n   教育\\n   网点\\n   招聘\\n   房产\\n   特惠\\n\\n上海\\n\\nImage 2\\n\\n首页\\n\\n下载app\\n\\n   生活指南\\n   关注\\n   生活\\n   经济\\n   旅游\\n   社会\\n   教育\\n   文体\\n   提醒\\n   新政\\n\\n资讯信息搜索\\n\\nImage 3\\n\\n上海本地宝>资讯快递>上海天气>10月10日上海天气预报晴到多云\\n\\n10月10日上海天气预报晴到多云\\n\\n2022-10-10 11:16 作者：第五十三【我要纠错】\\n\\nImage 4下载指南\\n\\n分享至\\n\\nImage 5; \"复制链接\")\\n\\n【导语】：申城今日晴到多云，西北风4-5级阵风6级，沿江沿海地区5级阵风6-7级，傍晚都转4-5级，今天最高温度18度。', 'score': 0.78709817}, {'title': '预报- 上海 - 中国天气网', 'url': 'https://www.weather.com.cn/weather/101020100.shtml', 'content': '首页 预报 预警 雷达 云图 天气地图 专业产品 资讯 视频 节气 我的天空\\n\\n更多\\n\\n台风路径 空间天气 图片 专题 环境 旅游 碳中和 气象科普 一带一路 产创平台\\n\\n国内) 本地) 国际)\\n\\n:   北京 上海 成都 杭州 南京 天津 深圳 重庆 西安 广州 青岛 武汉\\n\\n:   故宫 阳朔漓江 龙门石窟 野三坡 颐和园 九寨沟 东方明珠 凤凰古城 秦始皇陵 桃花源\\n\\n高球\\n:   佘山 春城湖畔 华彬庄园 观澜湖 依必朗 旭宝 博鳌 玉龙雪山 番禺南沙 东方明珠\\n\\n<<返回 全国\\n\\n河北下辖区域\\n\\n热门城市\\n\\n:   曼谷 东京 首尔 吉隆坡 新加坡 巴黎 罗马 伦敦 雅典 柏林 纽约 温哥华 墨西哥城 哈瓦那 圣何塞 巴西利亚 布宜诺斯艾利斯 圣地亚哥 利马 基多 悉尼 墨尔本 惠灵顿 奥克兰 苏瓦 开罗 内罗毕 开普敦 维多利亚 拉巴特\\n\\n:   亚洲 欧洲 北美洲 南美洲 非洲 大洋洲\\n\\n全国> 上海 > 城区\\n\\n 今天\\n 7天\\n 8-15天\\n 40天\\n 雷达图\\n\\n # 6日（今天）\\n\\n  多云\\n\\n  35/26℃\\n\\n  <3级\\n # 7日（明天）\\n\\n  阴', 'score': 0.6852132}]\u001B[0m\n",
      "Thought:\u001B[32;1m\u001B[1;3m```\n",
      "Thought: Do I need to use a tool? No\n",
      "AI: 今天上海的天气情况是：晴到多云，最高气温约为18℃，最低气温约为11℃。西北风4-5级，阵风可达6级。早晨气温较低，出行时请注意添衣。整体天气适合秋季活动，白天阳光明媚，体感较为舒适。请注意天气变化，保持适当的着装。\n",
      "```\u001B[0m\n",
      "\n",
      "\u001B[1m> Finished chain.\u001B[0m\n",
      "{'input': '上海呢？', 'chat_history': [HumanMessage(content='查询一下长沙今天的天气情况', additional_kwargs={}, response_metadata={}), AIMessage(content='今天长沙的天气情况是：最高气温约为34℃，最低气温约为24℃。天气较热，适合穿着轻便的衣物。你可以查看更详细的天气预报，了解更多信息。', additional_kwargs={}, response_metadata={}), HumanMessage(content='上海呢？', additional_kwargs={}, response_metadata={}), AIMessage(content='今天上海的天气情况是：晴到多云，最高气温约为18℃，最低气温约为11℃。西北风4-5级，阵风可达6级。早晨气温较低，出行时请注意添衣。整体天气适合秋季活动，白天阳光明媚，体感较为舒适。请注意天气变化，保持适当的着装。\\n```', additional_kwargs={}, response_metadata={})], 'output': '今天上海的天气情况是：晴到多云，最高气温约为18℃，最低气温约为11℃。西北风4-5级，阵风可达6级。早晨气温较低，出行时请注意添衣。整体天气适合秋季活动，白天阳光明媚，体感较为舒适。请注意天气变化，保持适当的着装。\\n```'}\n"
     ]
    }
   ],
   "execution_count": 6
  }
 ],
 "metadata": {
  "kernelspec": {
   "display_name": "Python 3",
   "language": "python",
   "name": "python3"
  },
  "language_info": {
   "codemirror_mode": {
    "name": "ipython",
    "version": 2
   },
   "file_extension": ".py",
   "mimetype": "text/x-python",
   "name": "python",
   "nbconvert_exporter": "python",
   "pygments_lexer": "ipython2",
   "version": "2.7.6"
  }
 },
 "nbformat": 4,
 "nbformat_minor": 5
}
