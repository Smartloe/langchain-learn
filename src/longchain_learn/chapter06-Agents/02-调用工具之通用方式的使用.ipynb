{
 "cells": [
  {
   "metadata": {
    "collapsed": true
   },
   "cell_type": "markdown",
   "source": "# 1. 使用FUNCTION_CALL模式",
   "id": "ae87a17799680dba"
  },
  {
   "metadata": {
    "ExecuteTime": {
     "end_time": "2025-10-10T02:39:04.374403Z",
     "start_time": "2025-10-10T02:38:39.470908Z"
    }
   },
   "cell_type": "code",
   "source": [
    "import os\n",
    "import dotenv\n",
    "from langchain.agents import create_tool_calling_agent, AgentExecutor\n",
    "from langchain.chains.question_answering.map_reduce_prompt import system_template\n",
    "from langchain_community.tools import TavilySearchResults\n",
    "from langchain_core.prompts import ChatPromptTemplate\n",
    "from langchain_openai import ChatOpenAI\n",
    "from langchain.tools import Tool\n",
    "\n",
    "# 加载环境\n",
    "dotenv.load_dotenv()\n",
    "os.environ[\"OPENAI_API_KEY\"] = os.getenv(\"OPENAI_API_KEY1\")\n",
    "os.environ[\"OPENAI_BASE_URL\"] = os.getenv(\"OPENAI_BASE_URL\")\n",
    "os.environ[\"TAVILY_API_KEY\"] = os.getenv(\"TAVILY_API_KEY\")\n",
    "\n",
    "# 获取tavily搜索工具的实例\n",
    "search = TavilySearchResults(max_results=3)\n",
    "# 获取对应工具的实例\n",
    "search_tool = Tool(\n",
    "\tname=\"tavily_search\",\n",
    "\tfunc=search.run,\n",
    "\tdescription=\"一个可以用来搜索互联网信息的工具。输入是一个搜索查询，输出是搜索结果的摘要。\",\n",
    "\treturn_direct=True\n",
    ")\n",
    "# 获取大模型\n",
    "llm = ChatOpenAI(model=\"gpt-4o-mini\", temperature=0)\n",
    "# 提供提示词模板（以ChatPromptTemplate为例）\n",
    "prompt_template = ChatPromptTemplate.from_messages(\n",
    "\t[\n",
    "\t\t(\"system\", \"你是一个有帮助的助手。可以回答用户的问题。如果你不知道答案，请使用tavily_search工具来搜索互联网信息。\"),\n",
    "\t\t(\"human\", \"{input}\"),\n",
    "\t\t(\"placeholder\", \"{agent_scratchpad}\")\n",
    "\t]\n",
    ")\n",
    "# 获取Agent的实例：create_tool_calling_agent()\n",
    "agent = create_tool_calling_agent(\n",
    "\tllm=llm,\n",
    "\ttools=[search_tool],\n",
    "\tprompt=prompt_template\n",
    ")\n",
    "# 获取AgentExecutor的实例\n",
    "agent_executor = AgentExecutor(\n",
    "\tagent=agent,\n",
    "\ttools=[search_tool],\n",
    "\tverbose=True\n",
    ")\n",
    "# 通过AgentExecutor调用invoke()方法,并得到响应\n",
    "result = agent_executor.invoke({\"input\": \"2025年10月的最新AI技术趋势是什么？\"})\n",
    "# 处理响应\n",
    "print(result)"
   ],
   "id": "6bf5de29638b48de",
   "outputs": [
    {
     "name": "stdout",
     "output_type": "stream",
     "text": [
      "\n",
      "\n",
      "\u001B[1m> Entering new AgentExecutor chain...\u001B[0m\n",
      "\u001B[32;1m\u001B[1;3m\n",
      "Invoking: `tavily_search` with `2025 AI technology trends October`\n",
      "\n",
      "\n",
      "\u001B[0m\u001B[36;1m\u001B[1;3m[{'title': 'AI Product Launches October 2025 & Tools for Business Automation', 'url': 'https://www.aiapps.com/blog/ai-news-breakthroughs-launches-trends/', 'content': \"The trends set in motion during October 2025 are poised to influence the AI industry for years to come. This period of rapid advancement is paving the way for broader AI adoption. With increasingly sophisticated technologies - from generative models to synthetic data solutions - and discovery platforms like AI Apps, businesses of all sizes are better equipped to harness AI for growth and innovation.\\n\\nFAQs [...] October 2025 marked a pivotal moment for artificial intelligence, redefining how automation, creativity, and business processes are approached. These advancements not only pushed AI's potential further but also reshaped strategies across industries. Generative and agent-based AI models raised the bar for user expectations, while multimodal and context-aware tools made AI feel more natural and user-friendly. [...] Finding the right AI tools is easier with AI Apps, a platform listing over 1,000 verified solutions. Use filters to match tools to your needs, whether for business, education, or creative tasks.\\n\\nThis month’s trends highlight AI's shift from experimental to essential, driving efficiency, innovation, and new possibilities across industries.\\n\\nMajor AI Industry Trends in October 2025\", 'score': 0.95100147}, {'title': 'McKinsey technology trends outlook 2025', 'url': 'https://www.mckinsey.com/capabilities/mckinsey-digital/our-insights/the-top-trends-in-tech', 'content': '### Agentic AI: Moving Beyond Pilots to Enterprise Impact\\n\\nThursday, October 23\\n\\n 11:30 a.m. - 12:00 p.m. EDT / 5:30 p.m. - 6:00 p.m. CEST\\n\\nGenerative AI has exploded into boardroom agendas. Nearly 80% of companies report using it, but many still see limited bottom-line impact. Agentic AI promises to change that.', 'score': 0.83549726}, {'title': 'AI Round-Up – October 2025 - Fladgate', 'url': 'https://www.fladgate.com/insights/ai-round-up-october-2025', 'content': 'furthering the rapid integration of new electronics architectures and functionalities directly into automotive manufacturing. [...] reduce administrative burdens, while future pilots will explore more advanced predictive models to improve sentencing and risk assessments. [...] British startup Oxford Quantum Circuits has installed New York City’s first quantum computer at a leading data centre in Manhattan. The OQC GENESIS system, integrated with Nvidia’s cutting-edge AI superchips and hosted by Digital Realty, will support hybrid quantum-AI workloads for sectors including finance and security. Science Minister Patrick Vallance said that the deployment showcased British innovation on the global stage, and would help drive economic growth and high-skilled jobs, while', 'score': 0.8351749}]\u001B[0m\n",
      "\u001B[32;1m\u001B[1;3m\u001B[0m\n",
      "\n",
      "\u001B[1m> Finished chain.\u001B[0m\n",
      "{'input': '2025年10月的最新AI技术趋势是什么？', 'output': [{'title': 'AI Product Launches October 2025 & Tools for Business Automation', 'url': 'https://www.aiapps.com/blog/ai-news-breakthroughs-launches-trends/', 'content': \"The trends set in motion during October 2025 are poised to influence the AI industry for years to come. This period of rapid advancement is paving the way for broader AI adoption. With increasingly sophisticated technologies - from generative models to synthetic data solutions - and discovery platforms like AI Apps, businesses of all sizes are better equipped to harness AI for growth and innovation.\\n\\nFAQs [...] October 2025 marked a pivotal moment for artificial intelligence, redefining how automation, creativity, and business processes are approached. These advancements not only pushed AI's potential further but also reshaped strategies across industries. Generative and agent-based AI models raised the bar for user expectations, while multimodal and context-aware tools made AI feel more natural and user-friendly. [...] Finding the right AI tools is easier with AI Apps, a platform listing over 1,000 verified solutions. Use filters to match tools to your needs, whether for business, education, or creative tasks.\\n\\nThis month’s trends highlight AI's shift from experimental to essential, driving efficiency, innovation, and new possibilities across industries.\\n\\nMajor AI Industry Trends in October 2025\", 'score': 0.95100147}, {'title': 'McKinsey technology trends outlook 2025', 'url': 'https://www.mckinsey.com/capabilities/mckinsey-digital/our-insights/the-top-trends-in-tech', 'content': '### Agentic AI: Moving Beyond Pilots to Enterprise Impact\\n\\nThursday, October 23\\n\\n 11:30 a.m. - 12:00 p.m. EDT / 5:30 p.m. - 6:00 p.m. CEST\\n\\nGenerative AI has exploded into boardroom agendas. Nearly 80% of companies report using it, but many still see limited bottom-line impact. Agentic AI promises to change that.', 'score': 0.83549726}, {'title': 'AI Round-Up – October 2025 - Fladgate', 'url': 'https://www.fladgate.com/insights/ai-round-up-october-2025', 'content': 'furthering the rapid integration of new electronics architectures and functionalities directly into automotive manufacturing. [...] reduce administrative burdens, while future pilots will explore more advanced predictive models to improve sentencing and risk assessments. [...] British startup Oxford Quantum Circuits has installed New York City’s first quantum computer at a leading data centre in Manhattan. The OQC GENESIS system, integrated with Nvidia’s cutting-edge AI superchips and hosted by Digital Realty, will support hybrid quantum-AI workloads for sectors including finance and security. Science Minister Patrick Vallance said that the deployment showcased British innovation on the global stage, and would help drive economic growth and high-skilled jobs, while', 'score': 0.8351749}]}\n"
     ]
    }
   ],
   "execution_count": 6
  },
  {
   "metadata": {},
   "cell_type": "markdown",
   "source": "# 2. 使用ReAct模式",
   "id": "52fa67bff049fd02"
  },
  {
   "metadata": {},
   "cell_type": "markdown",
   "source": "举例1：使用PromptTemplate",
   "id": "bf962fda49daf1da"
  },
  {
   "metadata": {
    "ExecuteTime": {
     "end_time": "2025-10-10T03:14:48.863240Z",
     "start_time": "2025-10-10T03:14:34.014397Z"
    }
   },
   "cell_type": "code",
   "source": [
    "import os\n",
    "import dotenv\n",
    "from langchain.agents import AgentExecutor, create_react_agent\n",
    "from langchain_community.tools import TavilySearchResults\n",
    "from langchain_core.prompts import PromptTemplate\n",
    "from langchain_openai import ChatOpenAI\n",
    "from langchain.tools import Tool\n",
    "\n",
    "# 加载环境\n",
    "dotenv.load_dotenv()\n",
    "os.environ[\"OPENAI_API_KEY\"] = os.getenv(\"OPENAI_API_KEY1\")\n",
    "os.environ[\"OPENAI_BASE_URL\"] = os.getenv(\"OPENAI_BASE_URL\")\n",
    "os.environ[\"TAVILY_API_KEY\"] = os.getenv(\"TAVILY_API_KEY\")\n",
    "\n",
    "# 获取tavily搜索工具的实例\n",
    "search = TavilySearchResults(max_results=3)\n",
    "# 获取对应工具的实例\n",
    "search_tool = Tool(\n",
    "\tname=\"tavily_search\",\n",
    "\tfunc=search.run,\n",
    "\tdescription=\"一个可以用来搜索互联网信息的工具。输入是一个搜索查询，输出是搜索结果的摘要。\",\n",
    "\treturn_direct=True\n",
    ")\n",
    "# 获取大模型\n",
    "llm = ChatOpenAI(model=\"gpt-4o-mini\", temperature=0)\n",
    "# 提供提示词模板（以PromptTemplate为例）\n",
    "template = \"\"\"\n",
    "Answer the following questions as best you can. You have access to the following tools:\n",
    "\n",
    "{tools}\n",
    "\n",
    "Use the following format:\n",
    "\n",
    "Question: the input question you must answer\n",
    "Thought: you should always think about what to do\n",
    "Action: the action to take, should be one of [{tool_names}]\n",
    "Action Input: the input to the action\n",
    "Observation: the result of the action\n",
    "... (this Thought/Action/Action Input/Observation can repeat N times)\n",
    "Thought: I now know the final answer\n",
    "Final Answer: the final answer to the original input question\n",
    "\n",
    "Begin!\n",
    "\n",
    "Question: {input}\n",
    "Thought:{agent_scratchpad}\n",
    "\"\"\"\n",
    "prompt_template = PromptTemplate.from_template(\n",
    "\ttemplate=template\n",
    ")\n",
    "# 获取Agent的实例：create_react_agent()\n",
    "agent = create_react_agent(\n",
    "\tllm=llm,\n",
    "\ttools=[search_tool],\n",
    "\tprompt=prompt_template\n",
    ")\n",
    "# 获取AgentExecutor的实例\n",
    "agent_executor = AgentExecutor(\n",
    "\tagent=agent,\n",
    "\ttools=[search_tool],\n",
    "\tverbose=True\n",
    ")\n",
    "# 通过AgentExecutor调用invoke()方法,并得到响应\n",
    "result = agent_executor.invoke({\"input\": \"未来什么行业比较火？\"})\n",
    "# 处理响应\n",
    "print(result)"
   ],
   "id": "32dbb8615ac2f387",
   "outputs": [
    {
     "name": "stdout",
     "output_type": "stream",
     "text": [
      "\n",
      "\n",
      "\u001B[1m> Entering new AgentExecutor chain...\u001B[0m\n",
      "\u001B[32;1m\u001B[1;3m为了回答这个问题，我需要查找关于未来热门行业的最新信息和趋势。  \n",
      "Action: tavily_search  \n",
      "Action Input: \"未来热门行业 2024\"  \u001B[0m\u001B[36;1m\u001B[1;3m[{'title': '2024年全球并购趋势展望 - 普华永道', 'url': 'https://www.pwccn.com/zh/services/deals-m-and-a/publications/global-ma-industry-trends-2024.html', 'content': 'Menu 行业 行业 Menu 行业 金融服务 Menu 行业 资产和财富管理 Menu 行业 银行及资本市场 Menu 行业 保险 Menu 行业 私募股权基金 Menu 行业 科技、媒体和通信 Menu 行业 医药医疗及大健康 Menu 行业 消费市场 Menu 行业 汽车 Menu 行业 工业产品 Menu 行业 工程建筑 Menu 行业 防务及航空航天 Menu 行业 运输与物流 Menu 行业 房地产 Menu 行业 政府及公共服务 Menu 行业 食品行业诚信服务 Menu 行业 航空 Menu 行业 能源、公用事业及采矿 Menu 行业 基础设施与大型项目投融资服务 Menu 重要议题 重要议题 Menu 重要议题 全球跨境服务 Menu 重要议题 网络安全和隐私保护 Menu 重要议题 科创与民营企业 Menu 重要议题 环境、社会及治理 (ESG) Menu 重要议题 生成式人工智能 (GenAI) Menu 重要议题 粤港澳大湾区 Menu 重要议题 新基建 Menu 重要议题 新时代。新技能。 Menu 重要议题 掌控风险平台 Menu 重要议题 科创板 Menu 重要议题 国企改革 Menu 重要议题 人才和组织 Menu 研究与洞察 研究与洞察 Menu Copy link Link copied to clipboard 2023年全球能源、公用事业和资源的并购交易数量及交易金额较上年分别增长了1%和26%。尽管许多其他行业的交易有所下降，然而受到能源转型的重要性驱动，能源、公用事业和资源领域持续吸引投资者进入，全球并购交易活动依然活跃。 全球制药与生命科学和医疗服务业并购在2023年仍具韧性，能够创造价值的有创新能力的公司吸引了大量投资者的兴趣。2022年至2023年期间，全球医疗健康行业的并购数量下降了8%，但同期交易额增长了9%。其中制药和生命科学领域交易额增长了22%。 全球工业制造、工程、商业服务与汽车行业的交易活动预计在2024年将有所增加。由于宏观经济和地缘政治环境充满挑战，2022年至2023年间全球交易量和交易额分别下降了3%和24%。随着通胀与利率上行等市场挑战的缓解，全球交易活动将会变得更加灵活。以创新技术和电动汽车为主的战略投资，对投资组合的再评估与资产剥离，将推动2024年的全球并购活动。 2023年，中国并购交易总额为3,331亿美元，同比下降28%；并购交易总量为8,563宗，同比下降27%。尽管2023年全年的并购交易面临挑战，但与2023年上半年相比，下半年的并购市场活跃度有所回升，交易额增长了19%，交易量增长了12%。 - 2025 PwC. 普华永道版权所有。 普华永道系指普华永道网络及/或普华永道网络中各自独立的成员机构。详情请进入www.pwc.com/structure。  ', 'score': 0.98501}, {'title': '十大行业前瞻2024有风有雨有阳光', 'url': 'https://news.cnstock.com/industry,rdjj-202401-5170886.htm', 'content': '# 十大行业前瞻2024有风有雨有阳光 2024-01-02 08:00:16 来源：上海证券报 作者：本报记者集体采写 新能源汽车出口如何？中国电动汽车百人会秘书长张永伟表示，2024年中国新能源汽车出口有望达180万辆，同比增长50%。新能源汽车出口将保持“贸易+海外本土化生产”的模式，并且将逐步由贸易为主转变为海外投资本地化发展为主。 **锂电** **行业集中度进一步提升** 走过价格暴跌的2023年，锂电行业2024年会迎来拐点吗？记者在实地调研多家龙头企业及采访多位业内专家后得出的结论是：全产业链过剩已成为共识，产能出清有望加速。与2023年不同，2024年碳酸锂价格同比下降的幅度将明显缩小，甚至有可观反弹。因此企业成本压力将大幅减轻，对正极材料巨头而言，最坏的日子或已经过去。 多位受访的锂电龙头企业负责人认为，在产能过剩的背景下，2024年全产业链价格仍有进一步下探空间，行业深度洗牌下，锂电行业已进入“剩者为王”的时代。 行业集中度将进一步提升，中小企业的日子更加难过。一方面，行业的盈利水平快速倒退，加上不同环节锂电企业保市占、抢订单引发的价格战，只有少部分企业才能真正实现盈利，多数企业将进入亏损状态；另一方面，头部企业的市场集中度持续提升，中小企业能抢到的订单更少。 青山控股集团董事局主席项光达表示，一个“内卷”的市场会催生真正具有创新力和全球竞争力的企业。亿纬锂能董事长刘金成认为，经历了一轮暴涨暴跌后，未来行业会更加稳定，价格会稳定，运行也会更加理性。 新的机会主要在两个方面：一是随着下游需求的升级，高端产品将率先突围。有锂电资深从业者认为，华为有可能成为2024年锂电行业的“鲶鱼”。高端电动车的崛起，将带动上游锂电产业链一定程度上走出仅追求低价的局面，高品质的产品成为关键。二是在一些细分领域，找到新的增量市场空间。 **人工智能** **高端算力依然供不应求** 商业化落地无疑将成为2024年人工智能赛道的焦点，多模态大模型的问世让商业变革成为可能。业内人士预计，随着底层通用大模型技术的逐步成熟，围绕应用端的商业落地将在2024年加速实现。 这一“落地”具有短期与长远的多重意义。从短期来看，To C端具有社交属性的人工智能产品往往会在短期成为爆款，这一点在2023年已经得到多次验证，如曾席卷朋友圈的“妙鸭相机”。昆仑万维CEO方汉和百川智能创始人王小川此前表示，在行业模式颠覆性创新方面，小公司包袱轻，更有可能出现令人眼前一亮的方案。 从长期来看，基于技术和资金的优势，头部厂商的“落地”则将更聚焦“重构生产流程”这一更为底层的环节当中。有业内人士称，这一过程就是“用AI将所有商业模式再做一遍”。 从目前来看，在To B领域，以微软为例，自2023年底宣布将基于GPT的Copilot整合加入Office全家桶以来，大模型在商业上的辅助能力正在不断增强。据微软公司内部人士透露，目前Copilot主要擅长的依然是文字领域，但是目前已经可以为70%的日常工作提供支持，在代码编写等方面，Copilot正在全面融入工作流程。 另一个商业化落地迅猛的领域是游戏。据记者了解，目前国内主流的游戏厂商在日常游戏生产过程中，大量的图片、文案已经可以借助AI提供基本的初稿，从而大量减少前期工作量。目前已经有部分厂商基于大模型技术向前延伸各类开发引擎。 值得一提的是，相较于人工智能如今依然较为模糊的商业落地前景，前端算力的巨大需求在2024年依然是行业发展最大的确定性。业内普遍认为，高性能算力的短缺仍将成为贯穿2024年全年的主题，这无疑将让相关芯片厂商获益。 **数字经济与5.5G** **产业数字化大放异彩** 2023年，我国已建成全球规模最大的5G网络，算力中心、IPv6、北斗等数字基础设施大动脉进一步打通，数据资源大循环提速，为产业智能化、绿色化、融合化转型升级提供了重要引擎。 展望2024年，适度超前的5.5G建设曙光在望。华为及三大运营商正积极参与实验和部署，一批设备供应商计划在2024年推出商用设备。同时，包括《上海市进一步推进新型基础设施建设行动方案（2023—2026年）》在内的地方政策也对算力、卫星互联网、工业互联网等进行了前瞻部署，国家数据局正式揭牌，数字经济在“技术红利+数据要素”的双轮驱动下按下了“数实融合”发展的“加速键”。 网宿科技等信息技术公司在接受记者采访时表示，来自制造业、能源等传统行业的数字化转型订单源源不断，业务边界不断延伸。中国信息协会常务理事、国研新经济研究院创始院长朱克力预计，数字人民币试点范围的不断扩大，让数字金融领域迎来新发展机遇。而在“双碳”目标推进下，数字技术在能源转型、碳交易等领域的应用也将成为新的投资热点。 中科曙光总裁历军表示，2024年，随着人工智能、大数据等新一代信息技术的加速落地，算力产业正迎来爆发阶段。在面对日益复杂的应用场景、海量的数据处理，以及相伴而生的安全问题时，计算的多元泛在、智能敏捷、安全可靠、绿色低碳将是非常明确的产业方向和机会。 奇安信董事长齐向东认为，2024年网络安全产业将迎来一个巨大的增量市场。数字经济的飞速发展带来越来越多的网络安全需求，安全防护将贯穿数据的收集、存储、使用、交易等方方面面；千行百业对于安全的重视程度会进一步加深，提高安全投入将是大趋势。 **房地产** **向“新”而行 向“新”而兴** 2023年7月，中央政治局会议明确提出，适应我国房地产市场供求关系发生重大变化的新形势，适时调整优化房地产政策。在部署2024年房地产相关工作时，全国住房城乡建设工作会议要求重点做好两件事：一是稳定房地产市场；二是构建房地产新发展模式。 业内人士表示，期待2024年的房地产市场能够企稳向好，建议根据市场的变化进一步出台更具前瞻性的新政策，并保障已出政策的落地实施。在此基础上，2024年的楼市有望向“新”而行，向“新”而兴。 中原集团研究院副院长刘渊认为，2024年相关政策的出台要结合市场的供求关系，归根到底还是要落到需求上去。整个房地产市场的需求能不能稳定，老百姓的信心能不能恢复，都需要在政策上发力，应进一步出台稳市场稳需求的政策。在房企端，对房企融资也应有更加实际和具体的安排。 广东省住房政策研究中心首席研究员李宇嘉表示，从开发商层面来看，2024年开发商面临的风险可能会得到一定控制，供给端对市场造成的冲击将显著弱化。由此，开发商的资金链紧张程度会有所缓解，开发商大幅度降价卖资产的现象将减少，有利于整个市场的资产价格趋于稳定，这对于提振房地产市场的信心和扭转老百姓的预期有很大的助益。 “2024年房地产市场或将继续承压，因此亟需政策层面根据市场的实际情况作进一步的调整优化。”有房企高管表示，在加快构建房地产发展新模式的背景下，保障性住房、城中村改造和“平急两用”公共基础设施建设这“三大工程”需要一定的积累之后才能发挥更大的作用，因此“三大工程”更多着眼的是从长远利益出发，在未来带给经营主体更多的投资机会。 **生物医药** **由“内卷”转向“出口”谋新局** 2023年，中国制药企业出海交易金额和交易量出现快速增长，创新药逐步占据出海项目的主导地位。展望2024年，由“内卷”转向“出口”的逻辑有望复制与延续。 从研发投入来看，行业整体研发投入加大，明显的提量过后，国产创新药有望进入到提质阶段，研发费用可能会趋稳，研发项目的质量有望进一步提高。从研发方向来看，2023年美国FDA共批准12款抗体类药物，其中4款是双特异性抗体，超过了前两年的总和。业内观点认为，这类新颖的药物类型有望在癌症治疗中扮演重要角色。此外，2023年，细胞与基因治疗产品的商业化在多个维度突破了边界，2024年有望继续多点开花。 2023年末，阿斯利康宣布拟以总价12亿美元收购CAR-T企业亘喜生物，后者将成为第一家被跨国药企收购的中国Biotech。在行业人士看来，这或是一个转折点。 对于跨国药企而言，直接收购企业相较购买管线而言更加划算。对于不少Biotech公司创始人和投资方来说，他们也逐步意识到并购这种在欧美常见的资本运作路径，在A股IPO阶段性收紧之后，或将成为重要的退出渠道。 **食品饮料** **餐饮供应链或表现更优** 2023年，在消费分级趋势下，大众消费更加理性，追求极致性价比成为一种普遍特征。展望2024年，业内预计，理性消费、极致性价比消费仍将是主流。 多位受访的食品饮料业内人士表示，降本增效已成为行业共识，拥有较强供应链掌控能力的企业或在2024年表现更佳。同时，随着消费渠道变革，拥抱以山姆会员店为代表的硬折扣连锁有望带来新的增长点。 细分来看，餐饮供应链企业有望在2024年保持较好的业绩增长。《2023中国餐饮供应链白皮书》显示，2023年中国餐饮消费快速恢复，总规模有望突破5万亿元大关，大概率赶超2019年水平。多家券商研报认为，2024年餐饮消费预期维持复苏态势，上游复合调味品、速冻食品、预制菜等有望继续受益。 “预计2024年餐饮消费将延续复苏态势。但餐饮业目前出现分化，由于餐饮连锁化率不断提升，相对而言，规模化连锁化的大餐饮企业表现更好，我们也在不断加大对大B端客户的投入和推广。”某头部速冻食品企业的高管向记者表示。 一家食品上市公司负责人表示：“预计2024年上半年，原材料价格仍比较友好，但可能在下半年或某个时点出现拐点，像猪肉已经低位运行多年，底部迹象越来越显著。针对可能出现的通胀预期，我们已经提前在做相应准备。” **农业** **生物育种商业化提速 畜牧业稳中向好** 粮安天下，农稳社稷。 展望2024年的粮食生产，中国农业大学领军教授、国家小麦产业技术体系产业经济研究室主任韩一军对记者表示，稳面积、提单产将是未来几年我国粮食生产一个很重要的指导思想。同时，提高单产也是一个系统工程，包括良种、高标准良田、旱涝保收的水利设施、现代农机等。 种子是农业的“芯片”。2023年12月26日，农业农村部发布公告显示，26家企业获转基因玉米、大豆种子生产经营许可证，其中包括大北农、隆平高科、登海种业、丰乐种业等上市公司。有上市公司负责人对记者表示，这是转基因进入市场的最后一道关口，未来种业龙头重点布局之一就是前沿的生物育种技术。 韩一军认为，按照这个进度，在未来的几年内，我国生物育种的大豆、玉米，特别是玉米的种植面积将进入扩张加速期。“种子在粮食增产中的贡献率达到45%，生物育种将提高农作物的抗逆性等能力。”他表示。 养殖业方面，温氏股份相关负责人表示，公司对2024年的猪价持谨慎乐观的态度，猪价理论上将好于2023年全年平均水平。“当前猪价低迷的背景下，养殖行业面临较大的经营压力，若当前的低迷价格维持到2024年二季度，行业可能会面临较大资金压力，部分企业甚至将出现经营危机，初步预计2024年下半年行情将好于上半年。” **有色金属** **需求向好 上行曙光显现** 2023年，宏观经济压力导致有色金属行业景气度下降。2024年，随着宏观经济环境的改善、市场需求的增长和全球货币政策的转变，有色金属行业预计将经历由弱转强的过程。 国泰君安期货分析认为，2024年有色金属受到供应和需求的共同驱动，其中供应端相对确定，但是国内和海外需求存在诸多不确定性，体现为结构性的变化和这种变化的程度及节奏等。具体到品种上，预计铜、铝、氧化铝、锌震荡偏强。 “2024年美联储或进入降息周期，市场流动性或改善，且铜库存持续处于低位水平，将对价格带来向上的弹性。”国泰君安期货资深分析师季先飞介绍，从基本面看，全年铜矿供应短缺，但是铜矿库存和再生铜供应弥补铜矿产量的不足，支撑精铜产能持续释放。 **复苏仍需时日 AI扮靓行业** （记者 俞立严、覃秘、李少鹏、罗茂林、温婷、张良、张雪、郑俊婷、刘立、王乔琪）', 'score': 0.97504}, {'title': '外贸人必看！2024热门市场和品类，2025高增长赛道（附权威数据 ...', 'url': 'https://zhuanlan.zhihu.com/p/1895481373264958095', 'content': 'Image 1) 外贸人必看！2024热门市场和品类，2025高增长赛道（附权威数据报告） Image 2: 外贸人必看！2024热门市场和品类，2025高增长赛道（附权威数据报告） 外贸人必看！2024热门市场和品类，2025高增长赛道（附权威数据报告） Image 3: 腾道Tendata Image 5 Image 6 以下是**腾道《2024年度贸易数据报告》**部分内容展示，**完整版点击下面链接领取！** Image 7 图源：腾道年度数据报告 Image 8 Image 9 图源：腾道年度数据报告 Image 10 图源：腾道年度数据报告 **日本：**2024 年，中国从日本进口总额为 1562.5 亿美元，主要进口产品为汽车及零部件、电子产品、机械设备等 **俄罗斯：**2024年，中国从俄罗斯进口总额 1293.2亿美元，主要进口产品为石油、天然气等能源产品以及木材等资源类产品。 **马来西亚：**2024年，中国从马来西亚进口总额为 1105.7亿美元，主要进口产品为电子电器产品、棕榈油等农产品以及橡胶等。 **越南：**2024 年，中国从越南进口总额为 987.6 亿美元，主要进口产品为手机及零部件、纺织品、农产品等。 **德国：**2024年，中国从德国进口总额为 948.3亿美元，主要进口产品为汽车及零部件、机械设备、化工产品等。 Image 11 图源：腾道年度数据报告 **美国：**2024年，中国对美国出口总值为 5246.6 亿美元，主要出口产品包括机电产品、纺织品、家具等。 **越南：**2024年，中国对越南出口总值为 1618.9 亿美元，主要出口产品为机械设备、电子产品、钢材等。 **日本：**2024 年，中国对日本出口总值为 1520.2亿美元，主要出口产品为纺织品、农产品、机电产品等。 **俄罗斯：**2024 年，中国对俄罗斯出口总值为 1155 亿美元，主要出口产品为机电产品、纺织品、家具等。 **马来西亚：**2024 年，中国对马来西亚出口总值为 1014.6 亿美元，主要出口产品为电子产品、机械设备、化工产品等。 Image 12 Image 13 Image 14 Image 15 Image 16 图源：腾道年度数据报告 **中国是越南最大的进口来源地**，2024年越南从中国的进口总值达1618.5亿美元，大幅领先于其他国家和地区；其次是韩国，进口总值为583.2亿美元；中国香港、日本、新加坡等进口总值分别为197.2亿美元、170.8亿美元、170.2亿美元。 Image 17 图源：腾道年度数据报告 **美国是越南最大的出口国家**，2024年越南对美国的出口总值达1424.8 亿美元，远超其他国家和地区：其次是中国，出口总值为 988.9亿美元：韩国、日本的进口总值分别为 284.4亿美元和 267.6 亿美元。 Image 18 图源：腾道年度数据报告 Image 19 Image 20 Image 21 Image 22 腾道《2024年度贸易数据报告》 Image 23 Image 24 图源：腾道年度数据报告 Image 25 图源：腾道年度数据报告 Image 26 图源：腾道年度数据报告 腾道《2024年度贸易数据报告》 Image 27 Image 28 Image 29 Image 30 Image 31: 腾道Tendata Image 35 Image 36', 'score': 0.97265}]\u001B[0m\n",
      "\u001B[32;1m\u001B[1;3m\u001B[0m\n",
      "\n",
      "\u001B[1m> Finished chain.\u001B[0m\n",
      "{'input': '未来什么行业比较火？', 'output': [{'title': '2024年全球并购趋势展望 - 普华永道', 'url': 'https://www.pwccn.com/zh/services/deals-m-and-a/publications/global-ma-industry-trends-2024.html', 'content': 'Menu 行业 行业 Menu 行业 金融服务 Menu 行业 资产和财富管理 Menu 行业 银行及资本市场 Menu 行业 保险 Menu 行业 私募股权基金 Menu 行业 科技、媒体和通信 Menu 行业 医药医疗及大健康 Menu 行业 消费市场 Menu 行业 汽车 Menu 行业 工业产品 Menu 行业 工程建筑 Menu 行业 防务及航空航天 Menu 行业 运输与物流 Menu 行业 房地产 Menu 行业 政府及公共服务 Menu 行业 食品行业诚信服务 Menu 行业 航空 Menu 行业 能源、公用事业及采矿 Menu 行业 基础设施与大型项目投融资服务 Menu 重要议题 重要议题 Menu 重要议题 全球跨境服务 Menu 重要议题 网络安全和隐私保护 Menu 重要议题 科创与民营企业 Menu 重要议题 环境、社会及治理 (ESG) Menu 重要议题 生成式人工智能 (GenAI) Menu 重要议题 粤港澳大湾区 Menu 重要议题 新基建 Menu 重要议题 新时代。新技能。 Menu 重要议题 掌控风险平台 Menu 重要议题 科创板 Menu 重要议题 国企改革 Menu 重要议题 人才和组织 Menu 研究与洞察 研究与洞察 Menu Copy link Link copied to clipboard 2023年全球能源、公用事业和资源的并购交易数量及交易金额较上年分别增长了1%和26%。尽管许多其他行业的交易有所下降，然而受到能源转型的重要性驱动，能源、公用事业和资源领域持续吸引投资者进入，全球并购交易活动依然活跃。 全球制药与生命科学和医疗服务业并购在2023年仍具韧性，能够创造价值的有创新能力的公司吸引了大量投资者的兴趣。2022年至2023年期间，全球医疗健康行业的并购数量下降了8%，但同期交易额增长了9%。其中制药和生命科学领域交易额增长了22%。 全球工业制造、工程、商业服务与汽车行业的交易活动预计在2024年将有所增加。由于宏观经济和地缘政治环境充满挑战，2022年至2023年间全球交易量和交易额分别下降了3%和24%。随着通胀与利率上行等市场挑战的缓解，全球交易活动将会变得更加灵活。以创新技术和电动汽车为主的战略投资，对投资组合的再评估与资产剥离，将推动2024年的全球并购活动。 2023年，中国并购交易总额为3,331亿美元，同比下降28%；并购交易总量为8,563宗，同比下降27%。尽管2023年全年的并购交易面临挑战，但与2023年上半年相比，下半年的并购市场活跃度有所回升，交易额增长了19%，交易量增长了12%。 - 2025 PwC. 普华永道版权所有。 普华永道系指普华永道网络及/或普华永道网络中各自独立的成员机构。详情请进入www.pwc.com/structure。  ', 'score': 0.98501}, {'title': '十大行业前瞻2024有风有雨有阳光', 'url': 'https://news.cnstock.com/industry,rdjj-202401-5170886.htm', 'content': '# 十大行业前瞻2024有风有雨有阳光 2024-01-02 08:00:16 来源：上海证券报 作者：本报记者集体采写 新能源汽车出口如何？中国电动汽车百人会秘书长张永伟表示，2024年中国新能源汽车出口有望达180万辆，同比增长50%。新能源汽车出口将保持“贸易+海外本土化生产”的模式，并且将逐步由贸易为主转变为海外投资本地化发展为主。 **锂电** **行业集中度进一步提升** 走过价格暴跌的2023年，锂电行业2024年会迎来拐点吗？记者在实地调研多家龙头企业及采访多位业内专家后得出的结论是：全产业链过剩已成为共识，产能出清有望加速。与2023年不同，2024年碳酸锂价格同比下降的幅度将明显缩小，甚至有可观反弹。因此企业成本压力将大幅减轻，对正极材料巨头而言，最坏的日子或已经过去。 多位受访的锂电龙头企业负责人认为，在产能过剩的背景下，2024年全产业链价格仍有进一步下探空间，行业深度洗牌下，锂电行业已进入“剩者为王”的时代。 行业集中度将进一步提升，中小企业的日子更加难过。一方面，行业的盈利水平快速倒退，加上不同环节锂电企业保市占、抢订单引发的价格战，只有少部分企业才能真正实现盈利，多数企业将进入亏损状态；另一方面，头部企业的市场集中度持续提升，中小企业能抢到的订单更少。 青山控股集团董事局主席项光达表示，一个“内卷”的市场会催生真正具有创新力和全球竞争力的企业。亿纬锂能董事长刘金成认为，经历了一轮暴涨暴跌后，未来行业会更加稳定，价格会稳定，运行也会更加理性。 新的机会主要在两个方面：一是随着下游需求的升级，高端产品将率先突围。有锂电资深从业者认为，华为有可能成为2024年锂电行业的“鲶鱼”。高端电动车的崛起，将带动上游锂电产业链一定程度上走出仅追求低价的局面，高品质的产品成为关键。二是在一些细分领域，找到新的增量市场空间。 **人工智能** **高端算力依然供不应求** 商业化落地无疑将成为2024年人工智能赛道的焦点，多模态大模型的问世让商业变革成为可能。业内人士预计，随着底层通用大模型技术的逐步成熟，围绕应用端的商业落地将在2024年加速实现。 这一“落地”具有短期与长远的多重意义。从短期来看，To C端具有社交属性的人工智能产品往往会在短期成为爆款，这一点在2023年已经得到多次验证，如曾席卷朋友圈的“妙鸭相机”。昆仑万维CEO方汉和百川智能创始人王小川此前表示，在行业模式颠覆性创新方面，小公司包袱轻，更有可能出现令人眼前一亮的方案。 从长期来看，基于技术和资金的优势，头部厂商的“落地”则将更聚焦“重构生产流程”这一更为底层的环节当中。有业内人士称，这一过程就是“用AI将所有商业模式再做一遍”。 从目前来看，在To B领域，以微软为例，自2023年底宣布将基于GPT的Copilot整合加入Office全家桶以来，大模型在商业上的辅助能力正在不断增强。据微软公司内部人士透露，目前Copilot主要擅长的依然是文字领域，但是目前已经可以为70%的日常工作提供支持，在代码编写等方面，Copilot正在全面融入工作流程。 另一个商业化落地迅猛的领域是游戏。据记者了解，目前国内主流的游戏厂商在日常游戏生产过程中，大量的图片、文案已经可以借助AI提供基本的初稿，从而大量减少前期工作量。目前已经有部分厂商基于大模型技术向前延伸各类开发引擎。 值得一提的是，相较于人工智能如今依然较为模糊的商业落地前景，前端算力的巨大需求在2024年依然是行业发展最大的确定性。业内普遍认为，高性能算力的短缺仍将成为贯穿2024年全年的主题，这无疑将让相关芯片厂商获益。 **数字经济与5.5G** **产业数字化大放异彩** 2023年，我国已建成全球规模最大的5G网络，算力中心、IPv6、北斗等数字基础设施大动脉进一步打通，数据资源大循环提速，为产业智能化、绿色化、融合化转型升级提供了重要引擎。 展望2024年，适度超前的5.5G建设曙光在望。华为及三大运营商正积极参与实验和部署，一批设备供应商计划在2024年推出商用设备。同时，包括《上海市进一步推进新型基础设施建设行动方案（2023—2026年）》在内的地方政策也对算力、卫星互联网、工业互联网等进行了前瞻部署，国家数据局正式揭牌，数字经济在“技术红利+数据要素”的双轮驱动下按下了“数实融合”发展的“加速键”。 网宿科技等信息技术公司在接受记者采访时表示，来自制造业、能源等传统行业的数字化转型订单源源不断，业务边界不断延伸。中国信息协会常务理事、国研新经济研究院创始院长朱克力预计，数字人民币试点范围的不断扩大，让数字金融领域迎来新发展机遇。而在“双碳”目标推进下，数字技术在能源转型、碳交易等领域的应用也将成为新的投资热点。 中科曙光总裁历军表示，2024年，随着人工智能、大数据等新一代信息技术的加速落地，算力产业正迎来爆发阶段。在面对日益复杂的应用场景、海量的数据处理，以及相伴而生的安全问题时，计算的多元泛在、智能敏捷、安全可靠、绿色低碳将是非常明确的产业方向和机会。 奇安信董事长齐向东认为，2024年网络安全产业将迎来一个巨大的增量市场。数字经济的飞速发展带来越来越多的网络安全需求，安全防护将贯穿数据的收集、存储、使用、交易等方方面面；千行百业对于安全的重视程度会进一步加深，提高安全投入将是大趋势。 **房地产** **向“新”而行 向“新”而兴** 2023年7月，中央政治局会议明确提出，适应我国房地产市场供求关系发生重大变化的新形势，适时调整优化房地产政策。在部署2024年房地产相关工作时，全国住房城乡建设工作会议要求重点做好两件事：一是稳定房地产市场；二是构建房地产新发展模式。 业内人士表示，期待2024年的房地产市场能够企稳向好，建议根据市场的变化进一步出台更具前瞻性的新政策，并保障已出政策的落地实施。在此基础上，2024年的楼市有望向“新”而行，向“新”而兴。 中原集团研究院副院长刘渊认为，2024年相关政策的出台要结合市场的供求关系，归根到底还是要落到需求上去。整个房地产市场的需求能不能稳定，老百姓的信心能不能恢复，都需要在政策上发力，应进一步出台稳市场稳需求的政策。在房企端，对房企融资也应有更加实际和具体的安排。 广东省住房政策研究中心首席研究员李宇嘉表示，从开发商层面来看，2024年开发商面临的风险可能会得到一定控制，供给端对市场造成的冲击将显著弱化。由此，开发商的资金链紧张程度会有所缓解，开发商大幅度降价卖资产的现象将减少，有利于整个市场的资产价格趋于稳定，这对于提振房地产市场的信心和扭转老百姓的预期有很大的助益。 “2024年房地产市场或将继续承压，因此亟需政策层面根据市场的实际情况作进一步的调整优化。”有房企高管表示，在加快构建房地产发展新模式的背景下，保障性住房、城中村改造和“平急两用”公共基础设施建设这“三大工程”需要一定的积累之后才能发挥更大的作用，因此“三大工程”更多着眼的是从长远利益出发，在未来带给经营主体更多的投资机会。 **生物医药** **由“内卷”转向“出口”谋新局** 2023年，中国制药企业出海交易金额和交易量出现快速增长，创新药逐步占据出海项目的主导地位。展望2024年，由“内卷”转向“出口”的逻辑有望复制与延续。 从研发投入来看，行业整体研发投入加大，明显的提量过后，国产创新药有望进入到提质阶段，研发费用可能会趋稳，研发项目的质量有望进一步提高。从研发方向来看，2023年美国FDA共批准12款抗体类药物，其中4款是双特异性抗体，超过了前两年的总和。业内观点认为，这类新颖的药物类型有望在癌症治疗中扮演重要角色。此外，2023年，细胞与基因治疗产品的商业化在多个维度突破了边界，2024年有望继续多点开花。 2023年末，阿斯利康宣布拟以总价12亿美元收购CAR-T企业亘喜生物，后者将成为第一家被跨国药企收购的中国Biotech。在行业人士看来，这或是一个转折点。 对于跨国药企而言，直接收购企业相较购买管线而言更加划算。对于不少Biotech公司创始人和投资方来说，他们也逐步意识到并购这种在欧美常见的资本运作路径，在A股IPO阶段性收紧之后，或将成为重要的退出渠道。 **食品饮料** **餐饮供应链或表现更优** 2023年，在消费分级趋势下，大众消费更加理性，追求极致性价比成为一种普遍特征。展望2024年，业内预计，理性消费、极致性价比消费仍将是主流。 多位受访的食品饮料业内人士表示，降本增效已成为行业共识，拥有较强供应链掌控能力的企业或在2024年表现更佳。同时，随着消费渠道变革，拥抱以山姆会员店为代表的硬折扣连锁有望带来新的增长点。 细分来看，餐饮供应链企业有望在2024年保持较好的业绩增长。《2023中国餐饮供应链白皮书》显示，2023年中国餐饮消费快速恢复，总规模有望突破5万亿元大关，大概率赶超2019年水平。多家券商研报认为，2024年餐饮消费预期维持复苏态势，上游复合调味品、速冻食品、预制菜等有望继续受益。 “预计2024年餐饮消费将延续复苏态势。但餐饮业目前出现分化，由于餐饮连锁化率不断提升，相对而言，规模化连锁化的大餐饮企业表现更好，我们也在不断加大对大B端客户的投入和推广。”某头部速冻食品企业的高管向记者表示。 一家食品上市公司负责人表示：“预计2024年上半年，原材料价格仍比较友好，但可能在下半年或某个时点出现拐点，像猪肉已经低位运行多年，底部迹象越来越显著。针对可能出现的通胀预期，我们已经提前在做相应准备。” **农业** **生物育种商业化提速 畜牧业稳中向好** 粮安天下，农稳社稷。 展望2024年的粮食生产，中国农业大学领军教授、国家小麦产业技术体系产业经济研究室主任韩一军对记者表示，稳面积、提单产将是未来几年我国粮食生产一个很重要的指导思想。同时，提高单产也是一个系统工程，包括良种、高标准良田、旱涝保收的水利设施、现代农机等。 种子是农业的“芯片”。2023年12月26日，农业农村部发布公告显示，26家企业获转基因玉米、大豆种子生产经营许可证，其中包括大北农、隆平高科、登海种业、丰乐种业等上市公司。有上市公司负责人对记者表示，这是转基因进入市场的最后一道关口，未来种业龙头重点布局之一就是前沿的生物育种技术。 韩一军认为，按照这个进度，在未来的几年内，我国生物育种的大豆、玉米，特别是玉米的种植面积将进入扩张加速期。“种子在粮食增产中的贡献率达到45%，生物育种将提高农作物的抗逆性等能力。”他表示。 养殖业方面，温氏股份相关负责人表示，公司对2024年的猪价持谨慎乐观的态度，猪价理论上将好于2023年全年平均水平。“当前猪价低迷的背景下，养殖行业面临较大的经营压力，若当前的低迷价格维持到2024年二季度，行业可能会面临较大资金压力，部分企业甚至将出现经营危机，初步预计2024年下半年行情将好于上半年。” **有色金属** **需求向好 上行曙光显现** 2023年，宏观经济压力导致有色金属行业景气度下降。2024年，随着宏观经济环境的改善、市场需求的增长和全球货币政策的转变，有色金属行业预计将经历由弱转强的过程。 国泰君安期货分析认为，2024年有色金属受到供应和需求的共同驱动，其中供应端相对确定，但是国内和海外需求存在诸多不确定性，体现为结构性的变化和这种变化的程度及节奏等。具体到品种上，预计铜、铝、氧化铝、锌震荡偏强。 “2024年美联储或进入降息周期，市场流动性或改善，且铜库存持续处于低位水平，将对价格带来向上的弹性。”国泰君安期货资深分析师季先飞介绍，从基本面看，全年铜矿供应短缺，但是铜矿库存和再生铜供应弥补铜矿产量的不足，支撑精铜产能持续释放。 **复苏仍需时日 AI扮靓行业** （记者 俞立严、覃秘、李少鹏、罗茂林、温婷、张良、张雪、郑俊婷、刘立、王乔琪）', 'score': 0.97504}, {'title': '外贸人必看！2024热门市场和品类，2025高增长赛道（附权威数据 ...', 'url': 'https://zhuanlan.zhihu.com/p/1895481373264958095', 'content': 'Image 1) 外贸人必看！2024热门市场和品类，2025高增长赛道（附权威数据报告） Image 2: 外贸人必看！2024热门市场和品类，2025高增长赛道（附权威数据报告） 外贸人必看！2024热门市场和品类，2025高增长赛道（附权威数据报告） Image 3: 腾道Tendata Image 5 Image 6 以下是**腾道《2024年度贸易数据报告》**部分内容展示，**完整版点击下面链接领取！** Image 7 图源：腾道年度数据报告 Image 8 Image 9 图源：腾道年度数据报告 Image 10 图源：腾道年度数据报告 **日本：**2024 年，中国从日本进口总额为 1562.5 亿美元，主要进口产品为汽车及零部件、电子产品、机械设备等 **俄罗斯：**2024年，中国从俄罗斯进口总额 1293.2亿美元，主要进口产品为石油、天然气等能源产品以及木材等资源类产品。 **马来西亚：**2024年，中国从马来西亚进口总额为 1105.7亿美元，主要进口产品为电子电器产品、棕榈油等农产品以及橡胶等。 **越南：**2024 年，中国从越南进口总额为 987.6 亿美元，主要进口产品为手机及零部件、纺织品、农产品等。 **德国：**2024年，中国从德国进口总额为 948.3亿美元，主要进口产品为汽车及零部件、机械设备、化工产品等。 Image 11 图源：腾道年度数据报告 **美国：**2024年，中国对美国出口总值为 5246.6 亿美元，主要出口产品包括机电产品、纺织品、家具等。 **越南：**2024年，中国对越南出口总值为 1618.9 亿美元，主要出口产品为机械设备、电子产品、钢材等。 **日本：**2024 年，中国对日本出口总值为 1520.2亿美元，主要出口产品为纺织品、农产品、机电产品等。 **俄罗斯：**2024 年，中国对俄罗斯出口总值为 1155 亿美元，主要出口产品为机电产品、纺织品、家具等。 **马来西亚：**2024 年，中国对马来西亚出口总值为 1014.6 亿美元，主要出口产品为电子产品、机械设备、化工产品等。 Image 12 Image 13 Image 14 Image 15 Image 16 图源：腾道年度数据报告 **中国是越南最大的进口来源地**，2024年越南从中国的进口总值达1618.5亿美元，大幅领先于其他国家和地区；其次是韩国，进口总值为583.2亿美元；中国香港、日本、新加坡等进口总值分别为197.2亿美元、170.8亿美元、170.2亿美元。 Image 17 图源：腾道年度数据报告 **美国是越南最大的出口国家**，2024年越南对美国的出口总值达1424.8 亿美元，远超其他国家和地区：其次是中国，出口总值为 988.9亿美元：韩国、日本的进口总值分别为 284.4亿美元和 267.6 亿美元。 Image 18 图源：腾道年度数据报告 Image 19 Image 20 Image 21 Image 22 腾道《2024年度贸易数据报告》 Image 23 Image 24 图源：腾道年度数据报告 Image 25 图源：腾道年度数据报告 Image 26 图源：腾道年度数据报告 腾道《2024年度贸易数据报告》 Image 27 Image 28 Image 29 Image 30 Image 31: 腾道Tendata Image 35 Image 36', 'score': 0.97265}]}\n"
     ]
    }
   ],
   "execution_count": 8
  },
  {
   "metadata": {},
   "cell_type": "markdown",
   "source": "上述方式可以改写成远程获取提示词模版",
   "id": "d7d7c0099a664fa9"
  },
  {
   "metadata": {
    "ExecuteTime": {
     "end_time": "2025-10-10T08:01:42.497362Z",
     "start_time": "2025-10-10T08:01:12.534244Z"
    }
   },
   "cell_type": "code",
   "source": [
    "import os\n",
    "import dotenv\n",
    "from langchain.agents import AgentExecutor, create_react_agent\n",
    "from langchain_community.tools import TavilySearchResults\n",
    "from langchain_core.prompts import PromptTemplate\n",
    "from langchain_openai import ChatOpenAI\n",
    "from langchain.tools import Tool\n",
    "from langchain import hub\n",
    "\n",
    "# 加载环境\n",
    "dotenv.load_dotenv()\n",
    "os.environ[\"OPENAI_API_KEY\"] = os.getenv(\"OPENAI_API_KEY1\")\n",
    "os.environ[\"OPENAI_BASE_URL\"] = os.getenv(\"OPENAI_BASE_URL\")\n",
    "os.environ[\"TAVILY_API_KEY\"] = os.getenv(\"TAVILY_API_KEY\")\n",
    "\n",
    "# 获取tavily搜索工具的实例\n",
    "search = TavilySearchResults(max_results=3)\n",
    "# 获取对应工具的实例\n",
    "search_tool = Tool(\n",
    "\tname=\"tavily_search\",\n",
    "\tfunc=search.run,\n",
    "\tdescription=\"一个可以用来搜索互联网信息的工具。输入是一个搜索查询，输出是搜索结果的摘要。\",\n",
    "\treturn_direct=True\n",
    ")\n",
    "# 获取大模型\n",
    "llm = ChatOpenAI(model=\"gpt-4o-mini\", temperature=0)\n",
    "# 提供提示词模板（使用langchain hub中官方ReAct提示词模板）\n",
    "prompt_template = hub.pull(\"hwchase17/react\")\n",
    "# 获取Agent的实例：create_react_agent()\n",
    "agent = create_react_agent(\n",
    "\tllm=llm,\n",
    "\ttools=[search_tool],\n",
    "\tprompt=prompt_template\n",
    ")\n",
    "# 获取AgentExecutor的实例\n",
    "agent_executor = AgentExecutor(\n",
    "\tagent=agent,\n",
    "\ttools=[search_tool],\n",
    "\tverbose=True\n",
    ")\n",
    "# 通过AgentExecutor调用invoke()方法,并得到响应\n",
    "result = agent_executor.invoke({\"input\": \"未来什么行业比较火？\"})\n",
    "# 处理响应\n",
    "print(result)"
   ],
   "id": "676ef7bbc12902c5",
   "outputs": [
    {
     "name": "stdout",
     "output_type": "stream",
     "text": [
      "\n",
      "\n",
      "\u001B[1m> Entering new AgentExecutor chain...\u001B[0m\n",
      "\u001B[32;1m\u001B[1;3m我需要了解当前和未来的行业趋势，以确定哪些行业可能会变得热门。为了获取最新的信息，我将进行搜索。  \n",
      "Action: tavily_search  \n",
      "Action Input: '未来热门行业 2024'  \u001B[0m\u001B[36;1m\u001B[1;3m[{'title': '目前什么行业最有发展前景？2024年热门行业大盘点_领域 - 搜狐', 'url': 'https://www.sohu.com/a/809247619_100054224', 'content': '1. 制造业：通过应用数字技术和智能制造改变生产模式，提高生产柔性和效率。\\n2. 金融行业：IT服务部门将数据转变为业务价值，与业务部门合作，共同挖掘和利用数据的潜在价值。\\n3. 医疗健康：涵盖药物发现、辅助诊断、个性化治疗等多个方面，加快药物开发和疾病发现。\\n4. 教育领域：数字化战略对教师队伍提出了新的要求，以数字化赋能高质量教师队伍建设。\\n5. 企业服务行业：包括金融、电子商务和软件信息等行业，为其他行业提供数字化转型支持。\\n\\n# 区块链技术\\n\\n区块链和云计算技术的普及与应用将带来新的就业机会，特别是在金融、保险和网络安全等领域。\\n\\n应用案例：\\n\\n1. 金融领域：华夏银行与益邦控股、腾讯集团合作的“星云贝链”，展示了区块链技术在供应链金融中的应用。\\n2. 保险领域：信美人寿的爱心救助账户，利用区块链技术实现相互保险。\\n3. 网络安全领域：去中心化的身份管理系统，增强网络身份的安全性；不可变的审计跟踪，提供可靠的审计记录。 [...] 2025年10月10日 IT频道最新文章\\nIT频道最新文章\\n\\n#### IT见闻录\\n\\n:   0文章\\n:   4.6万总阅读\\n\\n# 目前什么行业最有发展前景？2024年热门行业大盘点\\n\\n2024-09-15 21:17 \\n\\n发布于：北京市\\n\\n在27岁的年纪决定转行，尤其是零基础的情况下，选择一个有良好就业前景的行业是至关重要的。未来五年内，有几个领域将迎来显著的增长和发展，提供了丰富的就业机会。以下是一些推荐的行业和职业选择：\\n\\n# 人工智能与机器学习\\n\\n根据世界经济论坛的报告，到2027年，人工智能和机器学习专家的工作岗位预计将增长40%，相当于约100万个新工作岗位。这一领域不仅薪资高，而且需求量大，是未来几年最具潜力的职业之一。\\n\\n入门学习资源：\\n\\n1. 吴恩达机器学习课程：GitHub上有标星超过11600的吴恩达机器学习课程资源，包括完整笔记、视频和Python作业，适合初学者。\\n2. 李宏毅机器学习课程：哔哩哔哩上的一套完整机器学习教程，共计155条视频，从理论到实战，被认为是最好的机器学习教程之一。\\n\\n# 数据分析与商业智能 [...] 综合来看，如果你希望在未来五年内找到一份有前景的工作，建议重点考虑人工智能、数据分析、新能源汽车、数字化赋能角色、医疗健康和计算机/互联网/通信等领域。通过系统地学习相关知识和技能，并获取必要的认证或培训证书，例如CDA认证，你将能够更好地适应这些行业的快速发展，并提高自己的竞争力。\\n\\n无论你选择哪个领域，关键在于持续学习和提升自己的技能。27岁正是一个可以大胆尝试和转型的年纪，只要你有决心和行动力，未来的职业道路将充满无限可能。返回搜狐，查看更多\\n\\n平台声明：该文观点仅代表作者本人，搜狐号系信息发布平台，搜狐仅提供信息存储空间服务。\\n\\n阅读 (509)\\n\\n内容举报\\n\\n大家都在看\\n\\n一辈子演了两部三级片，至今仍是“亚洲第一美胸”，其中一部是《金瓶梅》\\n\\n男人亲过女人的这两个地方，才叫做真爱\\n\\n刚当选就变脸，高市早苗对华态度180度转弯，接连对华做出多个承诺\\n\\n三位潜伏在“国防部”的中将，为何只有吴石暴露牺牲？看郭汝瑰蒋纬国回忆录能总结出三点经验教训\\n\\n原来这3位歌星已经去世，难怪再也见不到他们唱歌了\\n\\n谷正文接受采访：吴石案是我一辈子最重的包袱，低估了他的意志力', 'score': 0.8396422}, {'title': '[PDF] Foresight 2024 罗兰贝格中国行业趋势报告 - Roland Berger', 'url': 'https://www.rolandberger.com/publications/publication_pdf/ROLAND-BERGER_FORESIGHT-2024_CN_SC.pdf', 'content': '调结构将是短期内的主基调。 迈入2024， 行业供需状况预计将有所 回暖。 同时， 产业结构调整、 行业高端化发展等长期性趋势仍将持续。 核心技术之争日趋激烈， 自主创新紧迫性不断提高 逆全球化态势下， 欧美发达经济体对于保持或重构其全球技术领导力愈加重视。 以生物制造为例， 美 国将其视为提升先进制造业领导力的重要手段。 在2022 年9 月启动 《国家生物技术和生物制造计划》 的基础上， 于2023 年进一步发布 《生物技术和生物制造明确目标》 ， 提出将投资超过20 亿美元促进 从生物前沿技术、 生物制造能力到产品应用推广的生物制造全产业链发展。 可以预见， 未来化工行业 的技术之争将愈加激烈， 高端技术的引进难度将不断提升， 增强自主创新能力至关重要。 近年来， 我国化工行业已在部分高壁垒领域取得技术突破 （如己二腈、 丙交酯、 茂金属聚丙烯等） ， 但 在众多新材料与高端化学品领域自给率仍然较低， 如高端聚烯烃材料与单体、 电子化学品等。 未来仍 需通过持续的技术研发与创新， 推动相关领域的技术突破与国产替代。 可持续发展趋势深化， 绿色低碳成为重要商机与竞争力', 'score': 0.8351749}, {'title': '2024年什么行业热门？哪些岗位缺人？指南来了 - 新华报业网', 'url': 'https://www.xhby.net/content/s65e1627ee4b0fd5dc7178d6f.html', 'content': '首页\\n 推荐\\n 江苏\\n 南京 \\n\\n  无锡 徐州 常州 苏州 南通 连云港 淮安 盐城 扬州 镇江 泰州 宿迁\\n 视频\\n 直播\\n 评论\\n 智库\\n 商业\\n 法治\\n 财经\\n 房产\\n 文旅\\n 汽车\\n 专题\\n 成长\\n 科技\\n 读报\\n\\n新华报业网  > 首页 >正文\\n\\n2024年什么行业热门？哪些岗位缺人？指南来了\\n\\n2024/03/01 13:07 北京日报客户端\\n\\n近日，科锐国际发布《2024人才市场洞察及薪酬指南》。调查发现，2024年，AI、集成电路、新能源汽车等几个行业的岗位持续热需。\\n\\n《指南》基于120万+重点产业人才数据库，32000余个年度实际操作岗位，近10万年度人选推荐报告数据，覆盖了18个重点行业及职能、62个细分板块、超3300个热需中高端及专业技术人才岗位，7个国内重点城市群和3大国际市场，并由80余位行业及职能资深顾问进行点评。\\n\\n整体互联网降薪背景下 AI岗位逆势涨薪 [...] 在前瞻性布局培育新质生产力进程中，人工智能、先进计算等新一代信息技术逐渐实现与千行百业的相互渗透及深度融合，以“大模型+大数据+大算力”特征为代表的大智能领域全线发展高歌猛进，集成电路、绿色能源、生命科学等科技创新领域蓬勃发展。与之对应，相应前沿技术岗位人才在科技攻“尖”、产业向“新”进程中扮演关键角色。\\n\\n以ChatGPT为代表的生成式AI横空出世，头部企业抢先布局，积极探索生成式AI大模型的赋能边界和应用，催生了对应方向岗位人才的火热，相关岗位在整体互联网降薪的背景下，跳槽逆势涨薪达30%以上；集成电路领域自主化浪潮势不可挡，拥有大型芯片项目研发主导经历及实际流片经验人才炙手可热；绿色能源领域，新能源汽车的“智能化”基因继续催生智能网联板块人才缺口，智能驾驶、智能座舱类岗位持续热需。\\n\\n企业出海抢人进入3.0时代\\n\\n作为世界第二大经济体，中国对外直接投资规模继续保持世界前列，共建“一带一路”让中国更进一步融入世界舞台，也为中国企业“出海”谋求第二经济增长曲线提供丰富机遇与广阔天地。 [...] 围绕生物医药、新能源、新一代信息技术、新材料等硬科技赛道，城市群都市圈协同发展能有效发挥区域互补优势，释放发展潜能，形成“中心城市平台+周边城市产业链生态”的产业集群。此外，得益于多层次轨道交通网络，城市群一体化及都市圈同城化发展获得强大支持，人才流动获得便利，从而推动人才分布从“单极”向“多极”演进，进而形成集群式人才生态圈。\\n\\n聚焦环渤海、江浙、长江中游、大湾区、成渝、东北、西北等七大城市群的区域趋势及人才需求，科锐国际观察到，从热需人才类型看，伴随传统制造业转型升级与战略性新兴产业加速布局，区域对高端科技人才、创新创业人才求贤若渴，多领域数字化人才缺口加大。与此同时，薪酬和一线城市的差距正在缩小，更多的区域大院大所，甚至高校医院，开始通过市场化机构匹配高质量人才。\\n\\n责编：张红\\n\\n版权和免责声明\\n\\n版权声明： 凡来源为\"交汇点、新华日报及其子报\"或电头为\"新华报业网\"的稿件，均为新华报业网独家版权所有，未经许可不得转载或镜像；授权转载必须注明来源为\"新华报业网\"，并保留\"新华报业网\"的电头。', 'score': 0.8036831}]\u001B[0m\n",
      "\u001B[32;1m\u001B[1;3m\u001B[0m\n",
      "\n",
      "\u001B[1m> Finished chain.\u001B[0m\n",
      "{'input': '未来什么行业比较火？', 'output': [{'title': '目前什么行业最有发展前景？2024年热门行业大盘点_领域 - 搜狐', 'url': 'https://www.sohu.com/a/809247619_100054224', 'content': '1. 制造业：通过应用数字技术和智能制造改变生产模式，提高生产柔性和效率。\\n2. 金融行业：IT服务部门将数据转变为业务价值，与业务部门合作，共同挖掘和利用数据的潜在价值。\\n3. 医疗健康：涵盖药物发现、辅助诊断、个性化治疗等多个方面，加快药物开发和疾病发现。\\n4. 教育领域：数字化战略对教师队伍提出了新的要求，以数字化赋能高质量教师队伍建设。\\n5. 企业服务行业：包括金融、电子商务和软件信息等行业，为其他行业提供数字化转型支持。\\n\\n# 区块链技术\\n\\n区块链和云计算技术的普及与应用将带来新的就业机会，特别是在金融、保险和网络安全等领域。\\n\\n应用案例：\\n\\n1. 金融领域：华夏银行与益邦控股、腾讯集团合作的“星云贝链”，展示了区块链技术在供应链金融中的应用。\\n2. 保险领域：信美人寿的爱心救助账户，利用区块链技术实现相互保险。\\n3. 网络安全领域：去中心化的身份管理系统，增强网络身份的安全性；不可变的审计跟踪，提供可靠的审计记录。 [...] 2025年10月10日 IT频道最新文章\\nIT频道最新文章\\n\\n#### IT见闻录\\n\\n:   0文章\\n:   4.6万总阅读\\n\\n# 目前什么行业最有发展前景？2024年热门行业大盘点\\n\\n2024-09-15 21:17 \\n\\n发布于：北京市\\n\\n在27岁的年纪决定转行，尤其是零基础的情况下，选择一个有良好就业前景的行业是至关重要的。未来五年内，有几个领域将迎来显著的增长和发展，提供了丰富的就业机会。以下是一些推荐的行业和职业选择：\\n\\n# 人工智能与机器学习\\n\\n根据世界经济论坛的报告，到2027年，人工智能和机器学习专家的工作岗位预计将增长40%，相当于约100万个新工作岗位。这一领域不仅薪资高，而且需求量大，是未来几年最具潜力的职业之一。\\n\\n入门学习资源：\\n\\n1. 吴恩达机器学习课程：GitHub上有标星超过11600的吴恩达机器学习课程资源，包括完整笔记、视频和Python作业，适合初学者。\\n2. 李宏毅机器学习课程：哔哩哔哩上的一套完整机器学习教程，共计155条视频，从理论到实战，被认为是最好的机器学习教程之一。\\n\\n# 数据分析与商业智能 [...] 综合来看，如果你希望在未来五年内找到一份有前景的工作，建议重点考虑人工智能、数据分析、新能源汽车、数字化赋能角色、医疗健康和计算机/互联网/通信等领域。通过系统地学习相关知识和技能，并获取必要的认证或培训证书，例如CDA认证，你将能够更好地适应这些行业的快速发展，并提高自己的竞争力。\\n\\n无论你选择哪个领域，关键在于持续学习和提升自己的技能。27岁正是一个可以大胆尝试和转型的年纪，只要你有决心和行动力，未来的职业道路将充满无限可能。返回搜狐，查看更多\\n\\n平台声明：该文观点仅代表作者本人，搜狐号系信息发布平台，搜狐仅提供信息存储空间服务。\\n\\n阅读 (509)\\n\\n内容举报\\n\\n大家都在看\\n\\n一辈子演了两部三级片，至今仍是“亚洲第一美胸”，其中一部是《金瓶梅》\\n\\n男人亲过女人的这两个地方，才叫做真爱\\n\\n刚当选就变脸，高市早苗对华态度180度转弯，接连对华做出多个承诺\\n\\n三位潜伏在“国防部”的中将，为何只有吴石暴露牺牲？看郭汝瑰蒋纬国回忆录能总结出三点经验教训\\n\\n原来这3位歌星已经去世，难怪再也见不到他们唱歌了\\n\\n谷正文接受采访：吴石案是我一辈子最重的包袱，低估了他的意志力', 'score': 0.8396422}, {'title': '[PDF] Foresight 2024 罗兰贝格中国行业趋势报告 - Roland Berger', 'url': 'https://www.rolandberger.com/publications/publication_pdf/ROLAND-BERGER_FORESIGHT-2024_CN_SC.pdf', 'content': '调结构将是短期内的主基调。 迈入2024， 行业供需状况预计将有所 回暖。 同时， 产业结构调整、 行业高端化发展等长期性趋势仍将持续。 核心技术之争日趋激烈， 自主创新紧迫性不断提高 逆全球化态势下， 欧美发达经济体对于保持或重构其全球技术领导力愈加重视。 以生物制造为例， 美 国将其视为提升先进制造业领导力的重要手段。 在2022 年9 月启动 《国家生物技术和生物制造计划》 的基础上， 于2023 年进一步发布 《生物技术和生物制造明确目标》 ， 提出将投资超过20 亿美元促进 从生物前沿技术、 生物制造能力到产品应用推广的生物制造全产业链发展。 可以预见， 未来化工行业 的技术之争将愈加激烈， 高端技术的引进难度将不断提升， 增强自主创新能力至关重要。 近年来， 我国化工行业已在部分高壁垒领域取得技术突破 （如己二腈、 丙交酯、 茂金属聚丙烯等） ， 但 在众多新材料与高端化学品领域自给率仍然较低， 如高端聚烯烃材料与单体、 电子化学品等。 未来仍 需通过持续的技术研发与创新， 推动相关领域的技术突破与国产替代。 可持续发展趋势深化， 绿色低碳成为重要商机与竞争力', 'score': 0.8351749}, {'title': '2024年什么行业热门？哪些岗位缺人？指南来了 - 新华报业网', 'url': 'https://www.xhby.net/content/s65e1627ee4b0fd5dc7178d6f.html', 'content': '首页\\n 推荐\\n 江苏\\n 南京 \\n\\n  无锡 徐州 常州 苏州 南通 连云港 淮安 盐城 扬州 镇江 泰州 宿迁\\n 视频\\n 直播\\n 评论\\n 智库\\n 商业\\n 法治\\n 财经\\n 房产\\n 文旅\\n 汽车\\n 专题\\n 成长\\n 科技\\n 读报\\n\\n新华报业网  > 首页 >正文\\n\\n2024年什么行业热门？哪些岗位缺人？指南来了\\n\\n2024/03/01 13:07 北京日报客户端\\n\\n近日，科锐国际发布《2024人才市场洞察及薪酬指南》。调查发现，2024年，AI、集成电路、新能源汽车等几个行业的岗位持续热需。\\n\\n《指南》基于120万+重点产业人才数据库，32000余个年度实际操作岗位，近10万年度人选推荐报告数据，覆盖了18个重点行业及职能、62个细分板块、超3300个热需中高端及专业技术人才岗位，7个国内重点城市群和3大国际市场，并由80余位行业及职能资深顾问进行点评。\\n\\n整体互联网降薪背景下 AI岗位逆势涨薪 [...] 在前瞻性布局培育新质生产力进程中，人工智能、先进计算等新一代信息技术逐渐实现与千行百业的相互渗透及深度融合，以“大模型+大数据+大算力”特征为代表的大智能领域全线发展高歌猛进，集成电路、绿色能源、生命科学等科技创新领域蓬勃发展。与之对应，相应前沿技术岗位人才在科技攻“尖”、产业向“新”进程中扮演关键角色。\\n\\n以ChatGPT为代表的生成式AI横空出世，头部企业抢先布局，积极探索生成式AI大模型的赋能边界和应用，催生了对应方向岗位人才的火热，相关岗位在整体互联网降薪的背景下，跳槽逆势涨薪达30%以上；集成电路领域自主化浪潮势不可挡，拥有大型芯片项目研发主导经历及实际流片经验人才炙手可热；绿色能源领域，新能源汽车的“智能化”基因继续催生智能网联板块人才缺口，智能驾驶、智能座舱类岗位持续热需。\\n\\n企业出海抢人进入3.0时代\\n\\n作为世界第二大经济体，中国对外直接投资规模继续保持世界前列，共建“一带一路”让中国更进一步融入世界舞台，也为中国企业“出海”谋求第二经济增长曲线提供丰富机遇与广阔天地。 [...] 围绕生物医药、新能源、新一代信息技术、新材料等硬科技赛道，城市群都市圈协同发展能有效发挥区域互补优势，释放发展潜能，形成“中心城市平台+周边城市产业链生态”的产业集群。此外，得益于多层次轨道交通网络，城市群一体化及都市圈同城化发展获得强大支持，人才流动获得便利，从而推动人才分布从“单极”向“多极”演进，进而形成集群式人才生态圈。\\n\\n聚焦环渤海、江浙、长江中游、大湾区、成渝、东北、西北等七大城市群的区域趋势及人才需求，科锐国际观察到，从热需人才类型看，伴随传统制造业转型升级与战略性新兴产业加速布局，区域对高端科技人才、创新创业人才求贤若渴，多领域数字化人才缺口加大。与此同时，薪酬和一线城市的差距正在缩小，更多的区域大院大所，甚至高校医院，开始通过市场化机构匹配高质量人才。\\n\\n责编：张红\\n\\n版权和免责声明\\n\\n版权声明： 凡来源为\"交汇点、新华日报及其子报\"或电头为\"新华报业网\"的稿件，均为新华报业网独家版权所有，未经许可不得转载或镜像；授权转载必须注明来源为\"新华报业网\"，并保留\"新华报业网\"的电头。', 'score': 0.8036831}]}\n"
     ]
    }
   ],
   "execution_count": 11
  },
  {
   "metadata": {},
   "cell_type": "markdown",
   "source": "举例2：使用ChatPromptTemplate",
   "id": "6ca32390587d68e4"
  },
  {
   "metadata": {
    "ExecuteTime": {
     "end_time": "2025-10-10T08:13:43.768660Z",
     "start_time": "2025-10-10T08:13:29.562751Z"
    }
   },
   "cell_type": "code",
   "source": [
    "import os\n",
    "import dotenv\n",
    "from langchain.agents import AgentExecutor, create_react_agent\n",
    "from langchain_community.tools import TavilySearchResults\n",
    "from langchain_core.prompts import ChatPromptTemplate, MessagesPlaceholder\n",
    "from langchain_openai import ChatOpenAI\n",
    "from langchain.tools import Tool\n",
    "\n",
    "# 加载环境\n",
    "dotenv.load_dotenv()\n",
    "os.environ[\"OPENAI_API_KEY\"] = os.getenv(\"OPENAI_API_KEY1\")\n",
    "os.environ[\"OPENAI_BASE_URL\"] = os.getenv(\"OPENAI_BASE_URL\")\n",
    "os.environ[\"TAVILY_API_KEY\"] = os.getenv(\"TAVILY_API_KEY\")\n",
    "\n",
    "# 获取tavily搜索工具的实例\n",
    "search = TavilySearchResults(max_results=3)\n",
    "# 获取对应工具的实例\n",
    "search_tool = Tool(\n",
    "\tname=\"tavily_search\",\n",
    "\tfunc=search.run,\n",
    "\tdescription=\"一个可以用来搜索互联网信息的工具。输入是一个搜索查询，输出是搜索结果的摘要。\",\n",
    "\treturn_direct=True\n",
    ")\n",
    "# 获取大模型\n",
    "llm = ChatOpenAI(model=\"gpt-4o-mini\", temperature=0)\n",
    "# 提供提示词模板（以ChatPromptTemplate为例）\n",
    "system_template = \"\"\"\n",
    "Answer the following questions as best you can. You have access to the following tools:\n",
    "\n",
    "{tools}\n",
    "\n",
    "Use the following format:\n",
    "\n",
    "Question: the input question you must answer\n",
    "Thought: you should always think about what to do\n",
    "Action: the action to take, should be one of [{tool_names}]\n",
    "Action Input: the input to the action\n",
    "Observation: the result of the action\n",
    "... (this Thought/Action/Action Input/Observation can repeat N times)\n",
    "Thought: I now know the final answer\n",
    "Final Answer: the final answer to the original input question\n",
    "\n",
    "Begin!\n",
    "\"\"\"\n",
    "prompt_template = ChatPromptTemplate.from_messages([\n",
    "\t(\"system\", system_template),\n",
    "\t(\"human\", \"{input}\"),\n",
    "\t(\"system\", \"{agent_scratchpad}\")\n",
    "])\n",
    "# 获取Agent的实例：create_react_agent()\n",
    "agent = create_react_agent(\n",
    "\tllm=llm,\n",
    "\ttools=[search_tool],\n",
    "\tprompt=prompt_template\n",
    ")\n",
    "# 获取AgentExecutor的实例\n",
    "agent_executor = AgentExecutor(\n",
    "\tagent=agent,\n",
    "\ttools=[search_tool],\n",
    "\tverbose=True\n",
    ")\n",
    "# 通过AgentExecutor调用invoke()方法,并得到响应\n",
    "result = agent_executor.invoke({\"input\": \"凤姐还在美国吗？\"})\n",
    "# 处理响应\n",
    "print(result)"
   ],
   "id": "ecc34fad856668c4",
   "outputs": [
    {
     "name": "stdout",
     "output_type": "stream",
     "text": [
      "\n",
      "\n",
      "\u001B[1m> Entering new AgentExecutor chain...\u001B[0m\n",
      "\u001B[32;1m\u001B[1;3mQuestion: 凤姐还在美国吗？\n",
      "Thought: 我需要查找关于凤姐目前居住地的信息。\n",
      "Action: tavily_search\n",
      "Action Input: \"凤姐 还在美国吗 2023\"\u001B[0m\u001B[36;1m\u001B[1;3m[{'title': '39岁凤姐近况曝光！住15刀民宿发福至160斤 - 文学城', 'url': 'https://www.wenxuecity.com/news/2025/03/21/ent-270827.html', 'content': '。这些夸张荒诞的言论，使她迅速成为网络审丑文化的典型代表，一时间声名大噪。然而，成名的背后也伴随着巨大的代价。在汶川地震期间，凤姐因发表不当言论，遭到全网封杀。随后，她喊出 “宁死不回中国” 的口号，毅然决然地远赴美国，追逐心中的 “美国梦”。初到美国的凤姐，日子过得并不顺遂。由于语言不通、文化存在差异，她只能辗转于美甲店、超市等底层工作岗位，拿着微薄的时薪，艰难维持生计。据说她当时的时薪仅有 8 美元，居住环境更是恶劣，只能在潮湿的地下室中栖身。即便后来在 2023 年考取了美甲师执照，月收入有所提升，达到了约 2000 美元，但这与网传的 “月入 6000 美元” 相差甚远。此次曝光的 15 美元民宿，房间设施极为简陋，只有一张行军床，洗漱还需要使用公共卫生间，与她早年宣称的 “住曼哈顿高级公寓” 相比，简直是天壤之别。如今的凤姐，身材发福，体重飙升至 160 斤，整个人看起来疲惫又无奈，曾经那个在网络上风光无限的 “网红鼻祖”，如今已然成为美国底层移民的一个缩影。值得一提的是，在生活如此艰难的情况下，凤姐并没有放弃对知识的追求。2022 [...] 。这些夸张荒诞的言论，使她迅速成为网络审丑文化的典型代表，一时间声名大噪。然而，成名的背后也伴随着巨大的代价。在汶川地震期间，凤姐因发表不当言论，遭到全网封杀。随后，她喊出 “宁死不回中国” 的口号，毅然决然地远赴美国，追逐心中的 “美国梦”。初到美国的凤姐，日子过得并不顺遂。由于语言不通、文化存在差异，她只能辗转于美甲店、超市等底层工作岗位，拿着微薄的时薪，艰难维持生计。据说她当时的时薪仅有 8 美元，居住环境更是恶劣，只能在潮湿的地下室中栖身。即便后来在 2023 年考取了美甲师执照，月收入有所提升，达到了约 2000 美元，但这与网传的 “月入 6000 美元” 相差甚远。此次曝光的 15 美元民宿，房间设施极为简陋，只有一张行军床，洗漱还需要使用公共卫生间，与她早年宣称的 “住曼哈顿高级公寓” 相比，简直是天壤之别。如今的凤姐，身材发福，体重飙升至 160 斤，整个人看起来疲惫又无奈，曾经那个在网络上风光无限的 “网红鼻祖”，如今已然成为美国底层移民的一个缩影。值得一提的是，在生活如此艰难的情况下，凤姐并没有放弃对知识的追求。2022 [...] 在网红如雨后春笋般不断涌现的当下，当我们谈及 “初代网红”，很多人脑海中第一个浮现的名字，便是曾经名噪一时的凤姐。曾几何时，她凭借一系列大胆出位的言论，在网络世界掀起惊涛骇浪，成为全民热议的焦点。时过境迁，远走异国他乡的凤姐，虽已逐渐淡出大众视野，却仍时不时因被偶遇而闯入人们的话题圈。近日，又有网友曝光了凤姐的最新近况，再度引发舆论的广泛关注。从网友拍摄的照片来看，当天凤姐身着一身黑色衣服，脖子上围着白色围巾，手里拎着一个格外醒目的红色大包，独自一人走在街头。仅从背影，熟悉她的人便能一眼认出。或许是穿着较为厚实的缘故，凤姐走路时身形略显臃肿。仔细观察，她那染发已经褪色，搭配着手中的红色包包，整体给人一种与周围环境格格不入的感觉，隐隐透露出生活的窘迫。而凤姐生活的窘迫，从她的居住环境中更是可见一斑。据悉，凤姐现身的地方是纽约皇后区的一个小镇 —— 法拉盛，这里是全美第二大唐人街', 'score': 0.7393665}, {'title': '39岁凤姐近况曝光，住在华人街旅馆每天十几块钱，房东还包她吃喝', 'url': 'https://www.163.com/dy/article/JPIF4BCE0534I43Y.html', 'content': '### 新闻\\n\\n### 体育\\n\\n### 娱乐\\n\\n### 财经\\n\\n### 汽车\\n\\n### 科技\\n\\n### 时尚\\n\\n### 手机 / 数码\\n\\n### 房产 / 家居\\n\\n### 教育\\n\\n# 39岁凤姐近况曝光，住在华人街旅馆每天十几块钱，房东还包她吃喝\\n\\n用微信扫码二维码\\n\\n分享至好友和朋友圈\\n\\n还记得初代网红“凤姐”罗玉凤吗？因无厘头、离谱言论在十年前与大家熟知，如今已经将近40岁。\\n\\n尽管她已经在社媒“销声匿迹”，但前不久，一名中国游客在纽约皇后区的法拉盛区域看见了她。\\n\\n网友拍摄的照片显示，她身穿褪色毛衣，拖着32寸行李箱办理入住。\\n\\n此次被曝光的民宿单日房费$15（约107元人民币），房东包吃住。\\n\\n房间内仅有一张行军床，洗漱需使用公共卫生间，与早年宣称“住曼哈顿高级公寓”大相径庭。\\n\\n2023年8月，凤姐被拍到与白人男友牵手逛街，但网友发现男方始终冷漠躲避肢体接触，甚至在她穿高跟鞋踉跄时大步疾行。\\n\\n更令人唏嘘的是，知情人爆料其外籍男友早已分手，所谓“跨国爱情”不过是镜花水月。\\n\\n有网友爆料，她的现男友是一位华人。\\n\\n凤姐早些年在社交媒体的影响力相当大，经常发布一些让人咂舌的言论， [...] 曾经贴出“清华北大硕士”“身高180+”的征婚启事，吸引了不少关注。\\n\\n后来因为不当言论遭受网络暴力，随后前往美国。\\n\\n2010年赴美初期，凤姐辗转修脚工、超市理货员等底层岗位，时薪仅$8。\\n\\n后来，她长期居住在美国，似乎没有回国的打算。\\n\\n在她身上虽然争议很多，但不能否认的是，凤姐有一点让人敬佩：打拼精神和坚强的性格。\\n\\n在那么多事，那么多重的压力之下没有崩溃，心态不是一般的强。\\n\\n中澳之间最新新闻热点，\\n\\n更多新闻热点追踪\\n\\n请点下方关注获取\\n\\n特别声明：以上内容(如有图片或视频亦包括在内)为自媒体平台“网易号”用户上传并发布，本平台仅提供信息存储服务。\\n\\nNotice: The content above (including the pictures and videos if any) is uploaded and posted by a user of NetEase Hao, which is a social media platform and only provides information storage services.\\n\\n### [...] ### 字节跳动:因组织调整离职的员工 过渡补贴最高7.2万元\\n\\n## 头条要闻\\n\\n### 特朗普要把自己头像印到新版250美元上 被美媒讽刺\\n\\n### 高反女孩母亲：徒步搭子不愿谈事发过程 再未接电话\\n\\n### 7岁女孩外出玩耍单亲爸爸在家病逝 知情人：肝癌晚期\\n\\n### 媒体：宗馥莉\"心腹\"严学峰被解除立案审查 已正常上班\\n\\n### 字节跳动:因组织调整离职的员工 过渡补贴最高7.2万元\\n\\n## 体育要闻\\n\\n### 世青赛8强全部诞生：亚洲4队集体回家\\n\\n### 季前赛-快船47分狂胜广州 陈国豪13分莱纳德18分\\n\\n### 首次无缘揭幕战！詹姆斯因坐骨神经痛缺席3-4周\\n\\n### 世界杯48名额已确定20个！34岁马球王传射 非洲劲旅苦等12年回归\\n\\n### 0-10 世预赛6战6负！世界倒数第1惨败：对手11人刷进球助攻\\n\\n## 财经要闻\\n\\n### 被传接受调查的娃哈哈核心成员已上班\\n\\n### 海南：逐步放宽或取消外商投资旅游业限制\\n\\n### 按国籍定价违反世贸原则 美国将开征\"港口费\"\\n\\n### “中国证券教父”管金生去世', 'score': 0.5488434}, {'title': '鳳姐》、《我的天堂城市》 入圍2023年夏威夷國際影展競賽單元', 'url': 'https://www.roc-taiwan.org/ushnl/post/7580.html', 'content': '第43屆夏威夷國際影展(Hawaii International Film Festival)公布入圍名單，臺灣電影傳捷報，《車頂上的玄天上帝》入圍夏威夷國際影展KAU KA HŌKŪ主要競賽，《鳳姐》及《我的天堂城市》則雙雙入圍亞洲電影奈派克獎(Network for the Promotion of Asian Cinema，簡稱NETPAC)。  \\nKAU KA HŌKŪ為「閃亮之星」之意，頒發給以拍攝首部或次部虛構或非虛構長片之新銳影人；而亞洲電影奈派克獎(NETPAC)，每年在被擇定的國際影展中頒發，主要頒給由新銳導演所拍攝的亞洲新片，夏威夷國際影展是目前美國唯一頒予NETPAC獎的影展。 [...] 第43屆夏威夷國際影展(Hawaii International Film Festival)公布入圍名單，臺灣電影傳捷報，《車頂上的玄天上帝》入圍夏威夷國際影展KAU KA HŌKŪ主要競賽，《鳳姐》及《我的天堂城市》則雙雙入圍亞洲電影奈派克獎(Network for the Promotion of Asian Cinema，簡稱NETPAC)。  \\nKAU KA HŌKŪ為「閃亮之星」之意，頒發給以拍攝首部或次部虛構或非虛構長片之新銳影人；而亞洲電影奈派克獎(NETPAC)，每年在被擇定的國際影展中頒發，主要頒給由新銳導演所拍攝的亞洲新片，夏威夷國際影展是目前美國唯一頒予NETPAC獎的影展。 [...] 《車頂上的玄天上帝》2022年入選威尼斯市場展(Venice Gap-Financing Market)，為全球獲選的27部長片之一。本片由電影美術大師黃文英首度執導，講述女主角在職場、情場與家庭之間的抉擇與成長，其因父親病重暫離工作和糾結的愛情，返回故鄉嘉義，在老家陪伴父親的日子裡，家中信仰的玄天上帝牽引她對阿公的思念和記憶。黃文英以《海上花》、《刺客聶隱娘》分別獲得金馬獎最佳美術設計與造型設計，且為美國奧斯卡影藝學院會員。  \\n《鳳姐》故事描述一個充滿明星夢的少女，卻被人口販子騙走，從偏鄉被賣到異鄉當雛妓，最後成為台北茶室工作者。導演邱新達初次執導即以寫實劇情揭露臺灣早期雛妓文化及人口販賣，深切刻畫臺灣茶室私娼生活。而《我的天堂城市》改編自臺灣新生代導演俞聖儀同名短片，以三個交織故事，呈現在紐約的異鄉人如何在困境中，以各自不同方式，找尋愛與認同。2片雙雙入選夏威夷國際影展亞洲電影奈派克獎，展現臺灣新銳導演的無限潛力。入圍競賽單元導演將參與映後座談，與觀眾互動。', 'score': 0.47241634}]\u001B[0m\n",
      "\u001B[32;1m\u001B[1;3m\u001B[0m\n",
      "\n",
      "\u001B[1m> Finished chain.\u001B[0m\n",
      "{'input': '凤姐还在美国吗？', 'output': [{'title': '39岁凤姐近况曝光！住15刀民宿发福至160斤 - 文学城', 'url': 'https://www.wenxuecity.com/news/2025/03/21/ent-270827.html', 'content': '。这些夸张荒诞的言论，使她迅速成为网络审丑文化的典型代表，一时间声名大噪。然而，成名的背后也伴随着巨大的代价。在汶川地震期间，凤姐因发表不当言论，遭到全网封杀。随后，她喊出 “宁死不回中国” 的口号，毅然决然地远赴美国，追逐心中的 “美国梦”。初到美国的凤姐，日子过得并不顺遂。由于语言不通、文化存在差异，她只能辗转于美甲店、超市等底层工作岗位，拿着微薄的时薪，艰难维持生计。据说她当时的时薪仅有 8 美元，居住环境更是恶劣，只能在潮湿的地下室中栖身。即便后来在 2023 年考取了美甲师执照，月收入有所提升，达到了约 2000 美元，但这与网传的 “月入 6000 美元” 相差甚远。此次曝光的 15 美元民宿，房间设施极为简陋，只有一张行军床，洗漱还需要使用公共卫生间，与她早年宣称的 “住曼哈顿高级公寓” 相比，简直是天壤之别。如今的凤姐，身材发福，体重飙升至 160 斤，整个人看起来疲惫又无奈，曾经那个在网络上风光无限的 “网红鼻祖”，如今已然成为美国底层移民的一个缩影。值得一提的是，在生活如此艰难的情况下，凤姐并没有放弃对知识的追求。2022 [...] 。这些夸张荒诞的言论，使她迅速成为网络审丑文化的典型代表，一时间声名大噪。然而，成名的背后也伴随着巨大的代价。在汶川地震期间，凤姐因发表不当言论，遭到全网封杀。随后，她喊出 “宁死不回中国” 的口号，毅然决然地远赴美国，追逐心中的 “美国梦”。初到美国的凤姐，日子过得并不顺遂。由于语言不通、文化存在差异，她只能辗转于美甲店、超市等底层工作岗位，拿着微薄的时薪，艰难维持生计。据说她当时的时薪仅有 8 美元，居住环境更是恶劣，只能在潮湿的地下室中栖身。即便后来在 2023 年考取了美甲师执照，月收入有所提升，达到了约 2000 美元，但这与网传的 “月入 6000 美元” 相差甚远。此次曝光的 15 美元民宿，房间设施极为简陋，只有一张行军床，洗漱还需要使用公共卫生间，与她早年宣称的 “住曼哈顿高级公寓” 相比，简直是天壤之别。如今的凤姐，身材发福，体重飙升至 160 斤，整个人看起来疲惫又无奈，曾经那个在网络上风光无限的 “网红鼻祖”，如今已然成为美国底层移民的一个缩影。值得一提的是，在生活如此艰难的情况下，凤姐并没有放弃对知识的追求。2022 [...] 在网红如雨后春笋般不断涌现的当下，当我们谈及 “初代网红”，很多人脑海中第一个浮现的名字，便是曾经名噪一时的凤姐。曾几何时，她凭借一系列大胆出位的言论，在网络世界掀起惊涛骇浪，成为全民热议的焦点。时过境迁，远走异国他乡的凤姐，虽已逐渐淡出大众视野，却仍时不时因被偶遇而闯入人们的话题圈。近日，又有网友曝光了凤姐的最新近况，再度引发舆论的广泛关注。从网友拍摄的照片来看，当天凤姐身着一身黑色衣服，脖子上围着白色围巾，手里拎着一个格外醒目的红色大包，独自一人走在街头。仅从背影，熟悉她的人便能一眼认出。或许是穿着较为厚实的缘故，凤姐走路时身形略显臃肿。仔细观察，她那染发已经褪色，搭配着手中的红色包包，整体给人一种与周围环境格格不入的感觉，隐隐透露出生活的窘迫。而凤姐生活的窘迫，从她的居住环境中更是可见一斑。据悉，凤姐现身的地方是纽约皇后区的一个小镇 —— 法拉盛，这里是全美第二大唐人街', 'score': 0.7393665}, {'title': '39岁凤姐近况曝光，住在华人街旅馆每天十几块钱，房东还包她吃喝', 'url': 'https://www.163.com/dy/article/JPIF4BCE0534I43Y.html', 'content': '### 新闻\\n\\n### 体育\\n\\n### 娱乐\\n\\n### 财经\\n\\n### 汽车\\n\\n### 科技\\n\\n### 时尚\\n\\n### 手机 / 数码\\n\\n### 房产 / 家居\\n\\n### 教育\\n\\n# 39岁凤姐近况曝光，住在华人街旅馆每天十几块钱，房东还包她吃喝\\n\\n用微信扫码二维码\\n\\n分享至好友和朋友圈\\n\\n还记得初代网红“凤姐”罗玉凤吗？因无厘头、离谱言论在十年前与大家熟知，如今已经将近40岁。\\n\\n尽管她已经在社媒“销声匿迹”，但前不久，一名中国游客在纽约皇后区的法拉盛区域看见了她。\\n\\n网友拍摄的照片显示，她身穿褪色毛衣，拖着32寸行李箱办理入住。\\n\\n此次被曝光的民宿单日房费$15（约107元人民币），房东包吃住。\\n\\n房间内仅有一张行军床，洗漱需使用公共卫生间，与早年宣称“住曼哈顿高级公寓”大相径庭。\\n\\n2023年8月，凤姐被拍到与白人男友牵手逛街，但网友发现男方始终冷漠躲避肢体接触，甚至在她穿高跟鞋踉跄时大步疾行。\\n\\n更令人唏嘘的是，知情人爆料其外籍男友早已分手，所谓“跨国爱情”不过是镜花水月。\\n\\n有网友爆料，她的现男友是一位华人。\\n\\n凤姐早些年在社交媒体的影响力相当大，经常发布一些让人咂舌的言论， [...] 曾经贴出“清华北大硕士”“身高180+”的征婚启事，吸引了不少关注。\\n\\n后来因为不当言论遭受网络暴力，随后前往美国。\\n\\n2010年赴美初期，凤姐辗转修脚工、超市理货员等底层岗位，时薪仅$8。\\n\\n后来，她长期居住在美国，似乎没有回国的打算。\\n\\n在她身上虽然争议很多，但不能否认的是，凤姐有一点让人敬佩：打拼精神和坚强的性格。\\n\\n在那么多事，那么多重的压力之下没有崩溃，心态不是一般的强。\\n\\n中澳之间最新新闻热点，\\n\\n更多新闻热点追踪\\n\\n请点下方关注获取\\n\\n特别声明：以上内容(如有图片或视频亦包括在内)为自媒体平台“网易号”用户上传并发布，本平台仅提供信息存储服务。\\n\\nNotice: The content above (including the pictures and videos if any) is uploaded and posted by a user of NetEase Hao, which is a social media platform and only provides information storage services.\\n\\n### [...] ### 字节跳动:因组织调整离职的员工 过渡补贴最高7.2万元\\n\\n## 头条要闻\\n\\n### 特朗普要把自己头像印到新版250美元上 被美媒讽刺\\n\\n### 高反女孩母亲：徒步搭子不愿谈事发过程 再未接电话\\n\\n### 7岁女孩外出玩耍单亲爸爸在家病逝 知情人：肝癌晚期\\n\\n### 媒体：宗馥莉\"心腹\"严学峰被解除立案审查 已正常上班\\n\\n### 字节跳动:因组织调整离职的员工 过渡补贴最高7.2万元\\n\\n## 体育要闻\\n\\n### 世青赛8强全部诞生：亚洲4队集体回家\\n\\n### 季前赛-快船47分狂胜广州 陈国豪13分莱纳德18分\\n\\n### 首次无缘揭幕战！詹姆斯因坐骨神经痛缺席3-4周\\n\\n### 世界杯48名额已确定20个！34岁马球王传射 非洲劲旅苦等12年回归\\n\\n### 0-10 世预赛6战6负！世界倒数第1惨败：对手11人刷进球助攻\\n\\n## 财经要闻\\n\\n### 被传接受调查的娃哈哈核心成员已上班\\n\\n### 海南：逐步放宽或取消外商投资旅游业限制\\n\\n### 按国籍定价违反世贸原则 美国将开征\"港口费\"\\n\\n### “中国证券教父”管金生去世', 'score': 0.5488434}, {'title': '鳳姐》、《我的天堂城市》 入圍2023年夏威夷國際影展競賽單元', 'url': 'https://www.roc-taiwan.org/ushnl/post/7580.html', 'content': '第43屆夏威夷國際影展(Hawaii International Film Festival)公布入圍名單，臺灣電影傳捷報，《車頂上的玄天上帝》入圍夏威夷國際影展KAU KA HŌKŪ主要競賽，《鳳姐》及《我的天堂城市》則雙雙入圍亞洲電影奈派克獎(Network for the Promotion of Asian Cinema，簡稱NETPAC)。  \\nKAU KA HŌKŪ為「閃亮之星」之意，頒發給以拍攝首部或次部虛構或非虛構長片之新銳影人；而亞洲電影奈派克獎(NETPAC)，每年在被擇定的國際影展中頒發，主要頒給由新銳導演所拍攝的亞洲新片，夏威夷國際影展是目前美國唯一頒予NETPAC獎的影展。 [...] 第43屆夏威夷國際影展(Hawaii International Film Festival)公布入圍名單，臺灣電影傳捷報，《車頂上的玄天上帝》入圍夏威夷國際影展KAU KA HŌKŪ主要競賽，《鳳姐》及《我的天堂城市》則雙雙入圍亞洲電影奈派克獎(Network for the Promotion of Asian Cinema，簡稱NETPAC)。  \\nKAU KA HŌKŪ為「閃亮之星」之意，頒發給以拍攝首部或次部虛構或非虛構長片之新銳影人；而亞洲電影奈派克獎(NETPAC)，每年在被擇定的國際影展中頒發，主要頒給由新銳導演所拍攝的亞洲新片，夏威夷國際影展是目前美國唯一頒予NETPAC獎的影展。 [...] 《車頂上的玄天上帝》2022年入選威尼斯市場展(Venice Gap-Financing Market)，為全球獲選的27部長片之一。本片由電影美術大師黃文英首度執導，講述女主角在職場、情場與家庭之間的抉擇與成長，其因父親病重暫離工作和糾結的愛情，返回故鄉嘉義，在老家陪伴父親的日子裡，家中信仰的玄天上帝牽引她對阿公的思念和記憶。黃文英以《海上花》、《刺客聶隱娘》分別獲得金馬獎最佳美術設計與造型設計，且為美國奧斯卡影藝學院會員。  \\n《鳳姐》故事描述一個充滿明星夢的少女，卻被人口販子騙走，從偏鄉被賣到異鄉當雛妓，最後成為台北茶室工作者。導演邱新達初次執導即以寫實劇情揭露臺灣早期雛妓文化及人口販賣，深切刻畫臺灣茶室私娼生活。而《我的天堂城市》改編自臺灣新生代導演俞聖儀同名短片，以三個交織故事，呈現在紐約的異鄉人如何在困境中，以各自不同方式，找尋愛與認同。2片雙雙入選夏威夷國際影展亞洲電影奈派克獎，展現臺灣新銳導演的無限潛力。入圍競賽單元導演將參與映後座談，與觀眾互動。', 'score': 0.47241634}]}\n"
     ]
    }
   ],
   "execution_count": 19
  },
  {
   "metadata": {},
   "cell_type": "markdown",
   "source": [
    "# 3. 小结\n",
    "\n",
    "1.传统方式，相较于通用方式来讲，不需要提示词模板。\n",
    "\n",
    "2.对于通用方式来讲\n",
    "- FUNCTION_CALL模式：在创建agent时，推荐使用ChatPromptTemplate\n",
    "- ReAct模式：需要提供提示词模板，可以使用PromptTemplate或ChatPromptTemplate，相较而言推荐使用PromptTemplate。"
   ],
   "id": "951a46132d73b1d6"
  }
 ],
 "metadata": {
  "kernelspec": {
   "display_name": "Python 3",
   "language": "python",
   "name": "python3"
  },
  "language_info": {
   "codemirror_mode": {
    "name": "ipython",
    "version": 2
   },
   "file_extension": ".py",
   "mimetype": "text/x-python",
   "name": "python",
   "nbconvert_exporter": "python",
   "pygments_lexer": "ipython2",
   "version": "2.7.6"
  }
 },
 "nbformat": 4,
 "nbformat_minor": 5
}
