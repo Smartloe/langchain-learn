{
 "cells": [
  {
   "metadata": {
    "collapsed": true
   },
   "cell_type": "markdown",
   "source": "# 1.TextSplitter的使用",
   "id": "175da8175d3987da"
  },
  {
   "metadata": {},
   "cell_type": "markdown",
   "source": [
    "- 使用细节\n",
    "\n",
    "\t- TextSplitter作为各种具体的文本拆分器的父类\n",
    "    - 内部定义了一些常用的属性：\n",
    "        - chunk_size: 返回块的最大尺寸，单位是字符数。默认值为4000（由长度函数测量）\n",
    "\t\t- chunk_overlap: 相邻两个块之间的字符重叠数,避免信息在边界处被切断而丢失。默认值为200,通常会设置为chunk_size的10% - 20%。\n",
    "\t\t- length_function: 用于测量给定块字符数的函数。默认赋值为len函数。len函数在Python中按Unicode字符计数，所以一个汉字、一个英文字母、一个符号都算一个字符。\n",
    "\t\t- keep_separator: 是否在块中保留分隔符，默认值为False\n",
    "\t\t- add_start_index: 如果为 `True`，则在元数据中包含块的起始索引。默认值为False\n",
    "\t\t- strip_whitespace: 如果为 `True`，则从每个文档的开始和结束处去除空白字符。默认值为True\n",
    "    - 内部常用的方法：\n",
    "\t\t- split_text: 接受一个字符串作为输入，并将其拆分为多个块，返回一个字符串列表`List[str]`\n",
    "\t\t- split_documents: 接受一个Document对象列表作为输入，并将每个Document拆分为多个块，返回一个新的Document对象列表List[Document]`。\n",
    "\t\t- create_documents: 接受一个字符串列表`List[str]`作为输入，并将每个字符串转换为一个Document对象，返回一个Document对象列表`List[Document]`。底层调用了split_text方法。\n",
    "\t\t- _split_text: 这是一个抽象方法，具体的文本拆分器需要实现这个方法来定义如何拆分文本"
   ],
   "id": "f02e0f1763407564"
  },
  {
   "metadata": {},
   "cell_type": "markdown",
   "source": "# 2. Document对象与Str是什么关系？",
   "id": "b57a2140220a7c97"
  },
  {
   "metadata": {},
   "cell_type": "markdown",
   "source": "文档切分器可以按照字符进行切分，也可以按照Document进行切分。其中Str可以理解为是Document对象的page_content属性。",
   "id": "85e80fa4710e7e60"
  }
 ],
 "metadata": {
  "kernelspec": {
   "display_name": "Python 3",
   "language": "python",
   "name": "python3"
  },
  "language_info": {
   "codemirror_mode": {
    "name": "ipython",
    "version": 2
   },
   "file_extension": ".py",
   "mimetype": "text/x-python",
   "name": "python",
   "nbconvert_exporter": "python",
   "pygments_lexer": "ipython2",
   "version": "2.7.6"
  }
 },
 "nbformat": 4,
 "nbformat_minor": 5
}
